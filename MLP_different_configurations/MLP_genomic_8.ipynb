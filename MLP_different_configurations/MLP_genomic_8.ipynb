{
  "cells": [
    {
      "cell_type": "code",
      "execution_count": 1,
      "metadata": {
        "id": "6_Fe6vK5ak22"
      },
      "outputs": [],
      "source": [
        "import keras\n",
        "import numpy as np\n",
        "import pandas as pd\n",
        "import tensorflow as tf\n",
        "import matplotlib.pyplot as plt\n",
        "\n",
        "from keras import layers\n",
        "from keras import regularizers\n",
        "from keras.layers import Dropout\n",
        "from keras.utils import np_utils\n",
        "from sklearn import preprocessing\n",
        "from keras.models import Sequential\n",
        "from sklearn.utils import class_weight\n",
        "from sklearn.impute import SimpleImputer\n",
        "from keras.callbacks import EarlyStopping\n",
        "from tensorflow.keras.optimizers import SGD, Adam\n",
        "from keras.layers import Input, Dense, Activation\n",
        "from sklearn.metrics import confusion_matrix as cm\n",
        "from sklearn.model_selection import train_test_split\n",
        "from sklearn.metrics import classification_report as cr"
      ]
    },
    {
      "cell_type": "code",
      "execution_count": 2,
      "metadata": {
        "colab": {
          "base_uri": "https://localhost:8080/"
        },
        "id": "JxnNwSM0avPI",
        "outputId": "a46f1191-02b6-411f-e35b-2002fc4fd7d3"
      },
      "outputs": [
        {
          "output_type": "stream",
          "name": "stdout",
          "text": [
            "Mounted at /content/drive\n"
          ]
        }
      ],
      "source": [
        "from google.colab import drive\n",
        "drive.mount('/content/drive')"
      ]
    },
    {
      "cell_type": "code",
      "execution_count": 3,
      "metadata": {
        "id": "M77fN90ga0ds"
      },
      "outputs": [],
      "source": [
        "df = pd.read_csv('/content/drive/MyDrive/preprocessed_file_v0_filtered', \n",
        "                 compression = \"zip\", header = 0, index_col = 0, sep = \"\\t\")"
      ]
    },
    {
      "cell_type": "code",
      "execution_count": 4,
      "metadata": {
        "id": "vn_Xxvz-a8u6"
      },
      "outputs": [],
      "source": [
        "data = df.drop(\"CANCER_TYPE\", axis = 1)\n",
        "labels = df[\"CANCER_TYPE\"]"
      ]
    },
    {
      "cell_type": "code",
      "execution_count": 5,
      "metadata": {
        "colab": {
          "base_uri": "https://localhost:8080/"
        },
        "id": "U5nuft2Ooppi",
        "outputId": "0ca306e5-af2f-4a15-bee9-83303adb4c7c"
      },
      "outputs": [
        {
          "output_type": "stream",
          "name": "stdout",
          "text": [
            "['Glioma' 'Leukemia' 'Thyroid Cancer' 'Hepatobiliary Cancer'\n",
            " 'Mature B-Cell Neoplasms' 'Non-Small Cell Lung Cancer'\n",
            " 'Soft Tissue Sarcoma' 'Pancreatic Cancer' 'Head and Neck Cancer'\n",
            " 'Esophagogastric Cancer' 'Melanoma' 'Breast Cancer' 'Endometrial Cancer'\n",
            " 'Colorectal Cancer' 'Prostate Cancer' 'Renal Cell Carcinoma'\n",
            " 'Bladder Cancer' 'Ovarian Cancer'] 18\n"
          ]
        }
      ],
      "source": [
        "print(labels.unique(), len(labels.unique()))"
      ]
    },
    {
      "cell_type": "code",
      "execution_count": 6,
      "metadata": {
        "id": "q6NZaK5Xejh_"
      },
      "outputs": [],
      "source": [
        "encoder = preprocessing.LabelEncoder()\n",
        "classes = encoder.fit_transform(labels)"
      ]
    },
    {
      "cell_type": "code",
      "source": [
        "from sklearn.ensemble import ExtraTreesClassifier\n",
        "from sklearn.feature_selection import SelectFromModel\n",
        "clf = ExtraTreesClassifier(n_estimators=50)\n",
        "clf = clf.fit(data, classes)\n",
        "m = SelectFromModel(clf, prefit=True)\n",
        "data_new = m.transform(data)"
      ],
      "metadata": {
        "colab": {
          "base_uri": "https://localhost:8080/"
        },
        "id": "yDbUPNSkbnMl",
        "outputId": "10860bd7-a5c4-456f-b138-58260ce05470"
      },
      "execution_count": 8,
      "outputs": [
        {
          "output_type": "stream",
          "name": "stderr",
          "text": [
            "/usr/local/lib/python3.7/dist-packages/sklearn/base.py:439: UserWarning: X has feature names, but SelectFromModel was fitted without feature names\n",
            "  f\"X has feature names, but {self.__class__.__name__} was fitted without\"\n"
          ]
        }
      ]
    },
    {
      "cell_type": "code",
      "execution_count": 9,
      "metadata": {
        "colab": {
          "base_uri": "https://localhost:8080/"
        },
        "id": "Gjs0-So0bFQ8",
        "outputId": "fd9d90ae-c0ee-48cc-be21-075da00e06c0"
      },
      "outputs": [
        {
          "output_type": "stream",
          "name": "stdout",
          "text": [
            "(78067,)\n",
            "(78067, 310)\n",
            "(19517,)\n",
            "(19517, 310)\n"
          ]
        }
      ],
      "source": [
        "x_train, x_test, y_train, y_test = train_test_split(\n",
        "\t\t\t\t\t\t\t\t\tdata_new, classes, \n",
        "\t\t\t\t\t\t\t\t\ttest_size = 0.2, \n",
        "\t\t\t\t\t\t\t\t\trandom_state = 0) \n",
        "\n",
        "print(y_train.shape)\n",
        "print(x_train.shape)\n",
        "print(y_test.shape)\n",
        "print(x_test.shape)"
      ]
    },
    {
      "cell_type": "code",
      "execution_count": 17,
      "metadata": {
        "id": "jzRtR4kubQEC"
      },
      "outputs": [],
      "source": [
        "learning_rate = 0.1\n",
        "opt = 'ADAM'\n",
        "lambda_l1 = 0.001\n",
        "size_batch = 256\n",
        "nb_epochs = 50"
      ]
    },
    {
      "cell_type": "code",
      "execution_count": 25,
      "metadata": {
        "id": "IrQ-fNyEbVY-"
      },
      "outputs": [],
      "source": [
        "#9th try: feature selection + dropout + l2 regularizers \n",
        "\n",
        "model = Sequential()\t\n",
        "\t\n",
        "model.add(\t\n",
        "\tDense(512, input_dim = x_train.shape[1], activation = 'relu'))\n",
        "\n",
        "model.add(Dropout(0.5))\n",
        "\n",
        "model.add(\t\n",
        "\tDense(128, activation = 'relu'))\n",
        "\n",
        "model.add(Dropout(0.3))\n",
        "\n",
        "model.add(\t\n",
        "\tDense(32, activation = 'relu',\n",
        "\t      kernel_regularizer = regularizers.l2(0.3)))\n",
        "\t\n",
        "model.add(\t\n",
        "\tDense(len(labels.unique()), activation = 'softmax',\n",
        "\t      kernel_regularizer = regularizers.l2(0.3)))\n",
        "\t\n",
        "model.compile(optimizer = opt,\t\n",
        "\t\t\t\t\t\tloss = 'sparse_categorical_crossentropy',\t\n",
        "\t\t\t\t\t\tmetrics = [\"accuracy\"])\t"
      ]
    },
    {
      "cell_type": "code",
      "execution_count": 19,
      "metadata": {
        "colab": {
          "base_uri": "https://localhost:8080/"
        },
        "id": "nif7fYW357Al",
        "outputId": "f5bb2687-2829-4d74-ee35-9d53eb09d449"
      },
      "outputs": [
        {
          "output_type": "stream",
          "name": "stdout",
          "text": [
            "Model: \"sequential\"\n",
            "_________________________________________________________________\n",
            " Layer (type)                Output Shape              Param #   \n",
            "=================================================================\n",
            " dense (Dense)               (None, 512)               159232    \n",
            "                                                                 \n",
            " dropout (Dropout)           (None, 512)               0         \n",
            "                                                                 \n",
            " dense_1 (Dense)             (None, 128)               65664     \n",
            "                                                                 \n",
            " dropout_1 (Dropout)         (None, 128)               0         \n",
            "                                                                 \n",
            " dense_2 (Dense)             (None, 32)                4128      \n",
            "                                                                 \n",
            " dense_3 (Dense)             (None, 18)                594       \n",
            "                                                                 \n",
            "=================================================================\n",
            "Total params: 229,618\n",
            "Trainable params: 229,618\n",
            "Non-trainable params: 0\n",
            "_________________________________________________________________\n"
          ]
        }
      ],
      "source": [
        "model.summary()"
      ]
    },
    {
      "cell_type": "code",
      "execution_count": 20,
      "metadata": {
        "id": "HPFuHk8zbaeV"
      },
      "outputs": [],
      "source": [
        "es = EarlyStopping(\n",
        "  monitor = 'val_accuracy', mode = 'max', \n",
        "\tverbose = 1, patience = 30)"
      ]
    },
    {
      "cell_type": "code",
      "execution_count": 21,
      "metadata": {
        "id": "FrXpLUs-GgMx"
      },
      "outputs": [],
      "source": [
        "class_weights = class_weight.compute_class_weight(class_weight=\"balanced\", classes=np.unique(y_train), y=y_train)\n",
        "class_weights_d = {l:c for l,c in zip(np.unique(y_train), class_weights)}"
      ]
    },
    {
      "cell_type": "code",
      "execution_count": 22,
      "metadata": {
        "colab": {
          "base_uri": "https://localhost:8080/"
        },
        "id": "Qm2ZLHFMpJYq",
        "outputId": "e2d0cc9c-433c-43ad-aab4-50f79d5c0ff2"
      },
      "outputs": [
        {
          "output_type": "stream",
          "name": "stdout",
          "text": [
            "{0: 1.6610706838588876, 1: 0.40367233391246793, 2: 0.4585594793355419, 3: 1.467204179822583, 4: 1.585760715011172, 5: 0.7312519904831488, 6: 3.0139371477106014, 7: 2.150250647275932, 8: 1.5472906013398342, 9: 2.040967320261438, 10: 1.1041383797239195, 11: 0.30139371477106014, 12: 1.1937945377251735, 13: 1.09771084676172, 14: 1.255661712668082, 15: 2.73804012345679, 16: 1.4832611339109287, 17: 3.1337106615285806}\n"
          ]
        }
      ],
      "source": [
        "print(class_weights_d)"
      ]
    },
    {
      "cell_type": "code",
      "execution_count": 26,
      "metadata": {
        "colab": {
          "base_uri": "https://localhost:8080/"
        },
        "id": "ME_hnEwDEWe4",
        "outputId": "9c8890d6-cb73-4008-be98-061980f63ad7"
      },
      "outputs": [
        {
          "output_type": "stream",
          "name": "stdout",
          "text": [
            "Epoch 1/50\n",
            "305/305 [==============================] - 5s 14ms/step - loss: 7.8175 - accuracy: 0.2398 - val_loss: 2.9884 - val_accuracy: 0.2563\n",
            "Epoch 2/50\n",
            "305/305 [==============================] - 4s 14ms/step - loss: 2.6447 - accuracy: 0.2831 - val_loss: 2.4272 - val_accuracy: 0.3454\n",
            "Epoch 3/50\n",
            "305/305 [==============================] - 4s 14ms/step - loss: 2.4073 - accuracy: 0.3297 - val_loss: 2.3351 - val_accuracy: 0.3521\n",
            "Epoch 4/50\n",
            "305/305 [==============================] - 4s 15ms/step - loss: 2.3232 - accuracy: 0.3586 - val_loss: 2.2617 - val_accuracy: 0.3726\n",
            "Epoch 5/50\n",
            "305/305 [==============================] - 4s 14ms/step - loss: 2.2662 - accuracy: 0.3831 - val_loss: 2.1957 - val_accuracy: 0.3908\n",
            "Epoch 6/50\n",
            "305/305 [==============================] - 4s 14ms/step - loss: 2.2252 - accuracy: 0.3989 - val_loss: 2.1193 - val_accuracy: 0.4227\n",
            "Epoch 7/50\n",
            "305/305 [==============================] - 4s 14ms/step - loss: 2.1955 - accuracy: 0.4060 - val_loss: 2.1112 - val_accuracy: 0.4130\n",
            "Epoch 8/50\n",
            "305/305 [==============================] - 4s 14ms/step - loss: 2.1667 - accuracy: 0.4130 - val_loss: 2.1142 - val_accuracy: 0.4191\n",
            "Epoch 9/50\n",
            "305/305 [==============================] - 4s 14ms/step - loss: 2.1448 - accuracy: 0.4170 - val_loss: 2.0759 - val_accuracy: 0.4239\n",
            "Epoch 10/50\n",
            "305/305 [==============================] - 4s 14ms/step - loss: 2.1302 - accuracy: 0.4195 - val_loss: 2.0346 - val_accuracy: 0.4373\n",
            "Epoch 11/50\n",
            "305/305 [==============================] - 4s 14ms/step - loss: 2.1139 - accuracy: 0.4265 - val_loss: 2.0461 - val_accuracy: 0.4253\n",
            "Epoch 12/50\n",
            "305/305 [==============================] - 4s 14ms/step - loss: 2.1003 - accuracy: 0.4260 - val_loss: 2.0538 - val_accuracy: 0.4356\n",
            "Epoch 13/50\n",
            "305/305 [==============================] - 4s 14ms/step - loss: 2.0897 - accuracy: 0.4280 - val_loss: 2.0263 - val_accuracy: 0.4310\n",
            "Epoch 14/50\n",
            "305/305 [==============================] - 4s 13ms/step - loss: 2.0795 - accuracy: 0.4296 - val_loss: 2.0821 - val_accuracy: 0.4166\n",
            "Epoch 15/50\n",
            "305/305 [==============================] - 4s 13ms/step - loss: 2.0718 - accuracy: 0.4324 - val_loss: 2.0007 - val_accuracy: 0.4467\n",
            "Epoch 16/50\n",
            "305/305 [==============================] - 4s 14ms/step - loss: 2.0628 - accuracy: 0.4338 - val_loss: 2.0080 - val_accuracy: 0.4386\n",
            "Epoch 17/50\n",
            "305/305 [==============================] - 4s 14ms/step - loss: 2.0501 - accuracy: 0.4369 - val_loss: 1.9877 - val_accuracy: 0.4440\n",
            "Epoch 18/50\n",
            "305/305 [==============================] - 4s 14ms/step - loss: 2.0436 - accuracy: 0.4374 - val_loss: 1.9899 - val_accuracy: 0.4412\n",
            "Epoch 19/50\n",
            "305/305 [==============================] - 4s 14ms/step - loss: 2.0379 - accuracy: 0.4391 - val_loss: 2.0507 - val_accuracy: 0.4273\n",
            "Epoch 20/50\n",
            "305/305 [==============================] - 4s 14ms/step - loss: 2.0274 - accuracy: 0.4403 - val_loss: 1.9998 - val_accuracy: 0.4428\n",
            "Epoch 21/50\n",
            "305/305 [==============================] - 4s 14ms/step - loss: 2.0205 - accuracy: 0.4433 - val_loss: 1.9826 - val_accuracy: 0.4538\n",
            "Epoch 22/50\n",
            "305/305 [==============================] - 4s 14ms/step - loss: 2.0171 - accuracy: 0.4443 - val_loss: 2.0136 - val_accuracy: 0.4370\n",
            "Epoch 23/50\n",
            "305/305 [==============================] - 4s 14ms/step - loss: 2.0099 - accuracy: 0.4474 - val_loss: 1.9470 - val_accuracy: 0.4538\n",
            "Epoch 24/50\n",
            "305/305 [==============================] - 4s 14ms/step - loss: 2.0027 - accuracy: 0.4469 - val_loss: 1.9839 - val_accuracy: 0.4479\n",
            "Epoch 25/50\n",
            "305/305 [==============================] - 4s 14ms/step - loss: 1.9975 - accuracy: 0.4462 - val_loss: 2.0041 - val_accuracy: 0.4434\n",
            "Epoch 26/50\n",
            "305/305 [==============================] - 4s 13ms/step - loss: 1.9922 - accuracy: 0.4502 - val_loss: 1.9712 - val_accuracy: 0.4454\n",
            "Epoch 27/50\n",
            "305/305 [==============================] - 4s 14ms/step - loss: 1.9875 - accuracy: 0.4488 - val_loss: 1.9578 - val_accuracy: 0.4562\n",
            "Epoch 28/50\n",
            "305/305 [==============================] - 4s 14ms/step - loss: 1.9802 - accuracy: 0.4508 - val_loss: 1.9964 - val_accuracy: 0.4450\n",
            "Epoch 29/50\n",
            "305/305 [==============================] - 4s 13ms/step - loss: 1.9754 - accuracy: 0.4527 - val_loss: 1.9873 - val_accuracy: 0.4421\n",
            "Epoch 30/50\n",
            "305/305 [==============================] - 4s 14ms/step - loss: 1.9745 - accuracy: 0.4508 - val_loss: 1.9756 - val_accuracy: 0.4520\n",
            "Epoch 31/50\n",
            "305/305 [==============================] - 4s 15ms/step - loss: 1.9690 - accuracy: 0.4516 - val_loss: 1.9526 - val_accuracy: 0.4565\n",
            "Epoch 32/50\n",
            "305/305 [==============================] - 4s 14ms/step - loss: 1.9616 - accuracy: 0.4557 - val_loss: 1.9641 - val_accuracy: 0.4512\n",
            "Epoch 33/50\n",
            "305/305 [==============================] - 4s 14ms/step - loss: 1.9534 - accuracy: 0.4558 - val_loss: 1.9550 - val_accuracy: 0.4470\n",
            "Epoch 34/50\n",
            "305/305 [==============================] - 4s 13ms/step - loss: 1.9542 - accuracy: 0.4548 - val_loss: 1.9481 - val_accuracy: 0.4515\n",
            "Epoch 35/50\n",
            "305/305 [==============================] - 4s 14ms/step - loss: 1.9502 - accuracy: 0.4555 - val_loss: 1.9546 - val_accuracy: 0.4496\n",
            "Epoch 36/50\n",
            "305/305 [==============================] - 4s 14ms/step - loss: 1.9477 - accuracy: 0.4565 - val_loss: 1.9380 - val_accuracy: 0.4600\n",
            "Epoch 37/50\n",
            "305/305 [==============================] - 4s 14ms/step - loss: 1.9430 - accuracy: 0.4594 - val_loss: 1.9573 - val_accuracy: 0.4479\n",
            "Epoch 38/50\n",
            "305/305 [==============================] - 4s 14ms/step - loss: 1.9400 - accuracy: 0.4615 - val_loss: 1.9416 - val_accuracy: 0.4577\n",
            "Epoch 39/50\n",
            "305/305 [==============================] - 4s 14ms/step - loss: 1.9346 - accuracy: 0.4607 - val_loss: 1.9523 - val_accuracy: 0.4574\n",
            "Epoch 40/50\n",
            "305/305 [==============================] - 4s 14ms/step - loss: 1.9320 - accuracy: 0.4628 - val_loss: 1.9229 - val_accuracy: 0.4658\n",
            "Epoch 41/50\n",
            "305/305 [==============================] - 4s 14ms/step - loss: 1.9255 - accuracy: 0.4631 - val_loss: 1.9556 - val_accuracy: 0.4498\n",
            "Epoch 42/50\n",
            "305/305 [==============================] - 4s 14ms/step - loss: 1.9200 - accuracy: 0.4640 - val_loss: 1.9059 - val_accuracy: 0.4588\n",
            "Epoch 43/50\n",
            "305/305 [==============================] - 4s 14ms/step - loss: 1.9219 - accuracy: 0.4647 - val_loss: 1.9262 - val_accuracy: 0.4599\n",
            "Epoch 44/50\n",
            "305/305 [==============================] - 4s 14ms/step - loss: 1.9168 - accuracy: 0.4640 - val_loss: 1.9187 - val_accuracy: 0.4659\n",
            "Epoch 45/50\n",
            "305/305 [==============================] - 4s 14ms/step - loss: 1.9136 - accuracy: 0.4638 - val_loss: 1.9157 - val_accuracy: 0.4590\n",
            "Epoch 46/50\n",
            "305/305 [==============================] - 4s 14ms/step - loss: 1.9102 - accuracy: 0.4662 - val_loss: 1.8999 - val_accuracy: 0.4588\n",
            "Epoch 47/50\n",
            "305/305 [==============================] - 4s 14ms/step - loss: 1.9039 - accuracy: 0.4666 - val_loss: 1.9171 - val_accuracy: 0.4603\n",
            "Epoch 48/50\n",
            "305/305 [==============================] - 4s 14ms/step - loss: 1.9037 - accuracy: 0.4674 - val_loss: 1.9339 - val_accuracy: 0.4586\n",
            "Epoch 49/50\n",
            "305/305 [==============================] - 4s 14ms/step - loss: 1.8996 - accuracy: 0.4693 - val_loss: 1.8946 - val_accuracy: 0.4613\n",
            "Epoch 50/50\n",
            "305/305 [==============================] - 4s 14ms/step - loss: 1.8971 - accuracy: 0.4687 - val_loss: 1.9440 - val_accuracy: 0.4537\n"
          ]
        }
      ],
      "source": [
        "history = model.fit(\n",
        "\tx_train, y_train, \n",
        "\tvalidation_data = (x_test, y_test), \n",
        "\tbatch_size = size_batch, \n",
        "  epochs = nb_epochs, \n",
        "  class_weight = class_weights_d,\n",
        "\tverbose = 1, callbacks = [es])"
      ]
    },
    {
      "cell_type": "code",
      "execution_count": 27,
      "metadata": {
        "colab": {
          "base_uri": "https://localhost:8080/",
          "height": 165
        },
        "id": "in1rWv4YyFFG",
        "outputId": "31a119ee-3d81-46e2-ae55-d0a09abb2958"
      },
      "outputs": [
        {
          "output_type": "display_data",
          "data": {
            "image/png": "[encoded data removed]",
            "text/plain": [
              "<Figure size 432x288 with 2 Axes>"
            ]
          },
          "metadata": {
            "needs_background": "light"
          }
        }
      ],
      "source": [
        "metrics = ['loss', 'accuracy']\n",
        "for n, metric in enumerate(metrics):\n",
        "  name = metric.replace(\"_\",\" \").capitalize()\n",
        "  plt.subplot(2,2,n+1)\n",
        "  plt.plot(history.epoch, history.history[metric],  label='Train')\n",
        "  plt.plot(history.epoch, history.history['val_'+metric], linestyle=\"--\", label='Val')\n",
        "  plt.xlabel('Epoch')\n",
        "  plt.ylabel(name)\n",
        "  if metric == 'loss':\n",
        "    plt.ylim([0, plt.ylim()[1]])\n",
        "  elif metric == 'auc':\n",
        "    plt.ylim([0.8,1])\n",
        "  else:\n",
        "    plt.ylim([0,1])\n",
        "\n",
        "  plt.legend()\n",
        "\n"
      ]
    }
  ],
  "metadata": {
    "colab": {
      "collapsed_sections": [],
      "name": "MLP_genomic_8.ipynb",
      "provenance": []
    },
    "kernelspec": {
      "display_name": "Python 3",
      "name": "python3"
    },
    "language_info": {
      "name": "python"
    }
  },
  "nbformat": 4,
  "nbformat_minor": 0
}