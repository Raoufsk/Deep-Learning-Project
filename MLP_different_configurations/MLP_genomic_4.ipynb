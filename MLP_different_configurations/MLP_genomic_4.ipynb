{
  "nbformat": 4,
  "nbformat_minor": 0,
  "metadata": {
    "colab": {
      "name": "MLP_genomic_4.ipynb",
      "provenance": [],
      "collapsed_sections": []
    },
    "kernelspec": {
      "display_name": "Python 3",
      "name": "python3"
    },
    "language_info": {
      "name": "python"
    }
  },
  "cells": [
    {
      "cell_type": "code",
      "metadata": {
        "id": "6_Fe6vK5ak22"
      },
      "source": [
        "import keras\n",
        "import numpy as np\n",
        "import pandas as pd\n",
        "import tensorflow as tf\n",
        "import matplotlib.pyplot as plt\n",
        "\n",
        "from keras import layers\n",
        "from keras import regularizers\n",
        "from keras.layers import Dropout\n",
        "from keras.utils import np_utils\n",
        "from sklearn import preprocessing\n",
        "from keras.models import Sequential\n",
        "from sklearn.utils import class_weight\n",
        "from sklearn.impute import SimpleImputer\n",
        "from keras.callbacks import EarlyStopping\n",
        "from tensorflow.keras.optimizers import SGD, Adam\n",
        "from keras.layers import Input, Dense, Activation\n",
        "from sklearn.metrics import confusion_matrix as cm\n",
        "from sklearn.model_selection import train_test_split\n",
        "from sklearn.metrics import classification_report as cr"
      ],
      "execution_count": 1,
      "outputs": []
    },
    {
      "cell_type": "code",
      "metadata": {
        "id": "JxnNwSM0avPI",
        "colab": {
          "base_uri": "https://localhost:8080/"
        },
        "outputId": "bcb1e2ef-2504-4b75-ce06-9811a7bea27a"
      },
      "source": [
        "from google.colab import drive\n",
        "drive.mount('/content/drive')"
      ],
      "execution_count": 2,
      "outputs": [
        {
          "output_type": "stream",
          "name": "stdout",
          "text": [
            "Mounted at /content/drive\n"
          ]
        }
      ]
    },
    {
      "cell_type": "code",
      "metadata": {
        "id": "M77fN90ga0ds"
      },
      "source": [
        "df = pd.read_csv('/content/drive/MyDrive/preprocessed_file_v0_filtered', \n",
        "                 compression = \"zip\", header = 0, index_col = 0, sep = \"\\t\")"
      ],
      "execution_count": 3,
      "outputs": []
    },
    {
      "cell_type": "code",
      "metadata": {
        "id": "vn_Xxvz-a8u6"
      },
      "source": [
        "data = df.drop(\"CANCER_TYPE\", axis = 1)\n",
        "labels = df[\"CANCER_TYPE\"]"
      ],
      "execution_count": 4,
      "outputs": []
    },
    {
      "cell_type": "code",
      "metadata": {
        "colab": {
          "base_uri": "https://localhost:8080/"
        },
        "id": "U5nuft2Ooppi",
        "outputId": "e27e740c-4cee-4eda-845f-b302112e018e"
      },
      "source": [
        "print(labels.unique(), len(labels.unique()))"
      ],
      "execution_count": 5,
      "outputs": [
        {
          "output_type": "stream",
          "name": "stdout",
          "text": [
            "['Glioma' 'Leukemia' 'Thyroid Cancer' 'Hepatobiliary Cancer'\n",
            " 'Mature B-Cell Neoplasms' 'Non-Small Cell Lung Cancer'\n",
            " 'Soft Tissue Sarcoma' 'Pancreatic Cancer' 'Head and Neck Cancer'\n",
            " 'Esophagogastric Cancer' 'Melanoma' 'Breast Cancer' 'Endometrial Cancer'\n",
            " 'Colorectal Cancer' 'Prostate Cancer' 'Renal Cell Carcinoma'\n",
            " 'Bladder Cancer' 'Ovarian Cancer'] 18\n"
          ]
        }
      ]
    },
    {
      "cell_type": "code",
      "metadata": {
        "id": "q6NZaK5Xejh_"
      },
      "source": [
        "encoder = preprocessing.LabelEncoder()\n",
        "classes = encoder.fit_transform(labels)"
      ],
      "execution_count": 6,
      "outputs": []
    },
    {
      "cell_type": "code",
      "metadata": {
        "colab": {
          "base_uri": "https://localhost:8080/"
        },
        "id": "Gjs0-So0bFQ8",
        "outputId": "1cbda1e7-047a-4ffb-af82-a9c673bab4af"
      },
      "source": [
        "x_train, x_test, y_train, y_test = train_test_split(\n",
        "\t\t\t\t\t\t\t\t\tdata, classes, \n",
        "\t\t\t\t\t\t\t\t\ttest_size = 0.2, \n",
        "\t\t\t\t\t\t\t\t\trandom_state = 0) \n",
        "\n",
        "print(y_train.shape)\n",
        "print(x_train.shape)\n",
        "print(y_test.shape)\n",
        "print(x_test.shape)"
      ],
      "execution_count": 7,
      "outputs": [
        {
          "output_type": "stream",
          "name": "stdout",
          "text": [
            "(78067,)\n",
            "(78067, 1345)\n",
            "(19517,)\n",
            "(19517, 1345)\n"
          ]
        }
      ]
    },
    {
      "cell_type": "code",
      "metadata": {
        "id": "jzRtR4kubQEC"
      },
      "source": [
        "learning_rate = 0.1\n",
        "opt = 'ADAM'\n",
        "lambda_l1 = 0.001\n",
        "size_batch = 256\n",
        "nb_epochs = 50"
      ],
      "execution_count": 40,
      "outputs": []
    },
    {
      "cell_type": "code",
      "metadata": {
        "id": "IrQ-fNyEbVY-"
      },
      "source": [
        "#5th try: change back to l1 and add more neurones in each layer without adding layers\n",
        "\n",
        "model = Sequential()\t\n",
        "\t\n",
        "model.add(\t\n",
        "\tDense(1028, input_dim = len(data.columns), activation = 'relu',\n",
        "\t      kernel_regularizer = regularizers.l1(lambda_l1)))\n",
        "\n",
        "model.add(\t\n",
        "\tDense(256, activation = 'relu',\n",
        "\t      kernel_regularizer = regularizers.l1(lambda_l1)))\n",
        "\n",
        "model.add(\t\n",
        "\tDense(64, activation = 'relu',\n",
        "\t      kernel_regularizer = regularizers.l1(lambda_l1)))\n",
        "\t\n",
        "model.add(\t\n",
        "\tDense(len(labels.unique()), activation = 'softmax',\n",
        "\t      kernel_regularizer = regularizers.l1(lambda_l1)))\n",
        "\t\n",
        "model.compile(optimizer = opt,\t\n",
        "\t\t\t\t\t\tloss = 'sparse_categorical_crossentropy',\t\n",
        "\t\t\t\t\t\tmetrics = [\"accuracy\"])\t"
      ],
      "execution_count": 39,
      "outputs": []
    },
    {
      "cell_type": "code",
      "metadata": {
        "colab": {
          "base_uri": "https://localhost:8080/"
        },
        "id": "nif7fYW357Al",
        "outputId": "137546da-8347-48a9-fd39-047fdbf988e1"
      },
      "source": [
        "model.summary()"
      ],
      "execution_count": 41,
      "outputs": [
        {
          "output_type": "stream",
          "name": "stdout",
          "text": [
            "Model: \"sequential_4\"\n",
            "_________________________________________________________________\n",
            " Layer (type)                Output Shape              Param #   \n",
            "=================================================================\n",
            " dense_16 (Dense)            (None, 1028)              1383688   \n",
            "                                                                 \n",
            " dense_17 (Dense)            (None, 256)               263424    \n",
            "                                                                 \n",
            " dense_18 (Dense)            (None, 64)                16448     \n",
            "                                                                 \n",
            " dense_19 (Dense)            (None, 18)                1170      \n",
            "                                                                 \n",
            "=================================================================\n",
            "Total params: 1,664,730\n",
            "Trainable params: 1,664,730\n",
            "Non-trainable params: 0\n",
            "_________________________________________________________________\n"
          ]
        }
      ]
    },
    {
      "cell_type": "code",
      "metadata": {
        "id": "HPFuHk8zbaeV"
      },
      "source": [
        "es = EarlyStopping(\n",
        "  monitor = 'val_accuracy', mode = 'max', \n",
        "\tverbose = 1, patience = 30)"
      ],
      "execution_count": 42,
      "outputs": []
    },
    {
      "cell_type": "code",
      "metadata": {
        "id": "FrXpLUs-GgMx"
      },
      "source": [
        "class_weights = class_weight.compute_class_weight(class_weight=\"balanced\", classes=np.unique(y_train), y=y_train)\n",
        "class_weights_d = {l:c for l,c in zip(np.unique(y_train), class_weights)}"
      ],
      "execution_count": 43,
      "outputs": []
    },
    {
      "cell_type": "code",
      "metadata": {
        "colab": {
          "base_uri": "https://localhost:8080/"
        },
        "id": "Qm2ZLHFMpJYq",
        "outputId": "18b3e53a-4cda-47c8-c633-447f77c1b051"
      },
      "source": [
        "print(class_weights_d)"
      ],
      "execution_count": 44,
      "outputs": [
        {
          "output_type": "stream",
          "name": "stdout",
          "text": [
            "{0: 1.6610706838588876, 1: 0.40367233391246793, 2: 0.4585594793355419, 3: 1.467204179822583, 4: 1.585760715011172, 5: 0.7312519904831488, 6: 3.0139371477106014, 7: 2.150250647275932, 8: 1.5472906013398342, 9: 2.040967320261438, 10: 1.1041383797239195, 11: 0.30139371477106014, 12: 1.1937945377251735, 13: 1.09771084676172, 14: 1.255661712668082, 15: 2.73804012345679, 16: 1.4832611339109287, 17: 3.1337106615285806}\n"
          ]
        }
      ]
    },
    {
      "cell_type": "code",
      "metadata": {
        "colab": {
          "base_uri": "https://localhost:8080/"
        },
        "id": "ME_hnEwDEWe4",
        "outputId": "dcd46502-76b2-4bad-eb47-f4dc9d25407a"
      },
      "source": [
        "history = model.fit(\n",
        "\tx_train, y_train, \n",
        "\tvalidation_data = (x_test, y_test), \n",
        "\tbatch_size = size_batch, \n",
        "  epochs = nb_epochs, \n",
        "  class_weight = class_weights_d,\n",
        "\tverbose = 1, callbacks = [es])"
      ],
      "execution_count": null,
      "outputs": [
        {
          "output_type": "stream",
          "name": "stdout",
          "text": [
            "Epoch 1/50\n",
            "305/305 [==============================] - 18s 57ms/step - loss: 6.1505 - accuracy: 0.0540 - val_loss: 3.0944 - val_accuracy: 0.0500\n",
            "Epoch 2/50\n",
            "305/305 [==============================] - 17s 54ms/step - loss: 3.0943 - accuracy: 0.0544 - val_loss: 3.0931 - val_accuracy: 0.0500\n",
            "Epoch 3/50\n",
            "305/305 [==============================] - 16s 54ms/step - loss: 3.0944 - accuracy: 0.0364 - val_loss: 3.0927 - val_accuracy: 0.0500\n",
            "Epoch 4/50\n",
            "305/305 [==============================] - 16s 54ms/step - loss: 3.0944 - accuracy: 0.0494 - val_loss: 3.0940 - val_accuracy: 0.1246\n",
            "Epoch 5/50\n",
            "305/305 [==============================] - 17s 54ms/step - loss: 3.0944 - accuracy: 0.0497 - val_loss: 3.0921 - val_accuracy: 0.1800\n",
            "Epoch 6/50\n",
            "305/305 [==============================] - 16s 54ms/step - loss: 3.0944 - accuracy: 0.0825 - val_loss: 3.0959 - val_accuracy: 0.0503\n",
            "Epoch 7/50\n",
            "305/305 [==============================] - 17s 54ms/step - loss: 3.0944 - accuracy: 0.0361 - val_loss: 3.0957 - val_accuracy: 0.0256\n",
            "Epoch 8/50\n",
            "305/305 [==============================] - 17s 54ms/step - loss: 3.0944 - accuracy: 0.0266 - val_loss: 3.0948 - val_accuracy: 0.0168\n",
            "Epoch 9/50\n",
            "305/305 [==============================] - 16s 54ms/step - loss: 3.0944 - accuracy: 0.0392 - val_loss: 3.0941 - val_accuracy: 0.0473\n",
            "Epoch 10/50\n",
            "305/305 [==============================] - 17s 54ms/step - loss: 3.0944 - accuracy: 0.0284 - val_loss: 3.0950 - val_accuracy: 0.0473\n",
            "Epoch 11/50\n",
            "305/305 [==============================] - 16s 54ms/step - loss: 3.0944 - accuracy: 0.0363 - val_loss: 3.0945 - val_accuracy: 0.0369\n",
            "Epoch 12/50\n",
            "305/305 [==============================] - 17s 55ms/step - loss: 3.0944 - accuracy: 0.0324 - val_loss: 3.0926 - val_accuracy: 0.0313\n",
            "Epoch 13/50\n",
            "305/305 [==============================] - 17s 55ms/step - loss: 3.0944 - accuracy: 0.0528 - val_loss: 3.0946 - val_accuracy: 0.0313\n",
            "Epoch 14/50\n",
            "305/305 [==============================] - 16s 54ms/step - loss: 3.0944 - accuracy: 0.0217 - val_loss: 3.0944 - val_accuracy: 0.0173\n",
            "Epoch 15/50\n",
            "305/305 [==============================] - 17s 54ms/step - loss: 3.0944 - accuracy: 0.0840 - val_loss: 3.0960 - val_accuracy: 0.0473\n",
            "Epoch 16/50\n",
            "305/305 [==============================] - 17s 55ms/step - loss: 3.0944 - accuracy: 0.0273 - val_loss: 3.0954 - val_accuracy: 0.0473\n",
            "Epoch 17/50\n",
            "305/305 [==============================] - 17s 56ms/step - loss: 3.0944 - accuracy: 0.0372 - val_loss: 3.0963 - val_accuracy: 0.0313\n",
            "Epoch 18/50\n",
            "305/305 [==============================] - 17s 55ms/step - loss: 3.0944 - accuracy: 0.0344 - val_loss: 3.0951 - val_accuracy: 0.0342\n",
            "Epoch 19/50\n",
            "305/305 [==============================] - 17s 55ms/step - loss: 3.0943 - accuracy: 0.0592 - val_loss: 3.0937 - val_accuracy: 0.0206\n",
            "Epoch 20/50\n",
            "305/305 [==============================] - 17s 55ms/step - loss: 3.0944 - accuracy: 0.0413 - val_loss: 3.0930 - val_accuracy: 0.0168\n",
            "Epoch 21/50\n",
            "305/305 [==============================] - 17s 54ms/step - loss: 3.0944 - accuracy: 0.1057 - val_loss: 3.0934 - val_accuracy: 0.0168\n",
            "Epoch 22/50\n",
            "305/305 [==============================] - 17s 54ms/step - loss: 3.0944 - accuracy: 0.0465 - val_loss: 3.0943 - val_accuracy: 0.0780\n",
            "Epoch 23/50\n",
            "305/305 [==============================] - 17s 55ms/step - loss: 3.0944 - accuracy: 0.0487 - val_loss: 3.0963 - val_accuracy: 0.0168\n",
            "Epoch 24/50\n",
            "305/305 [==============================] - 17s 55ms/step - loss: 3.0944 - accuracy: 0.0522 - val_loss: 3.0943 - val_accuracy: 0.1353\n",
            "Epoch 25/50\n",
            "305/305 [==============================] - 17s 55ms/step - loss: 3.0944 - accuracy: 0.0449 - val_loss: 3.0956 - val_accuracy: 0.0500\n",
            "Epoch 26/50\n",
            "305/305 [==============================] - 17s 54ms/step - loss: 3.0944 - accuracy: 0.0551 - val_loss: 3.0951 - val_accuracy: 0.0369\n",
            "Epoch 27/50\n",
            "305/305 [==============================] - 17s 54ms/step - loss: 3.0943 - accuracy: 0.0479 - val_loss: 3.0956 - val_accuracy: 0.1353\n",
            "Epoch 28/50\n",
            "305/305 [==============================] - 17s 55ms/step - loss: 3.0944 - accuracy: 0.0423 - val_loss: 3.0937 - val_accuracy: 0.1800\n",
            "Epoch 29/50\n",
            "305/305 [==============================] - 17s 55ms/step - loss: 3.0943 - accuracy: 0.1160 - val_loss: 3.0954 - val_accuracy: 0.1246\n",
            "Epoch 30/50\n",
            "305/305 [==============================] - 17s 54ms/step - loss: 3.0943 - accuracy: 0.0842 - val_loss: 3.0954 - val_accuracy: 0.0473\n",
            "Epoch 31/50\n",
            "305/305 [==============================] - 17s 55ms/step - loss: 3.0944 - accuracy: 0.0466 - val_loss: 3.0932 - val_accuracy: 0.0369\n",
            "Epoch 32/50\n",
            "305/305 [==============================] - 17s 55ms/step - loss: 3.0944 - accuracy: 0.0406 - val_loss: 3.0922 - val_accuracy: 0.1246\n",
            "Epoch 33/50\n",
            "305/305 [==============================] - 17s 54ms/step - loss: 3.0943 - accuracy: 0.0513 - val_loss: 3.0917 - val_accuracy: 0.0503\n",
            "Epoch 34/50\n",
            "263/305 [========================>.....] - ETA: 2s - loss: 3.0951 - accuracy: 0.0334"
          ]
        }
      ]
    },
    {
      "cell_type": "code",
      "metadata": {
        "colab": {
          "base_uri": "https://localhost:8080/",
          "height": 165
        },
        "id": "in1rWv4YyFFG",
        "outputId": "ac00bfc9-83fc-408f-b1a4-99f77768b04a"
      },
      "source": [
        "metrics = ['loss', 'accuracy']\n",
        "for n, metric in enumerate(metrics):\n",
        "  name = metric.replace(\"_\",\" \").capitalize()\n",
        "  plt.subplot(2,2,n+1)\n",
        "  plt.plot(history.epoch, history.history[metric],  label='Train')\n",
        "  plt.plot(history.epoch, history.history['val_'+metric], linestyle=\"--\", label='Val')\n",
        "  plt.xlabel('Epoch')\n",
        "  plt.ylabel(name)\n",
        "  if metric == 'loss':\n",
        "    plt.ylim([0, plt.ylim()[1]])\n",
        "  elif metric == 'auc':\n",
        "    plt.ylim([0.8,1])\n",
        "  else:\n",
        "    plt.ylim([0,1])\n",
        "\n",
        "  plt.legend()\n",
        "\n"
      ],
      "execution_count": 38,
      "outputs": [
        {
          "output_type": "display_data",
          "data": {
            "image/png": "[encoded data removed]",
            "text/plain": [
              "<Figure size 432x288 with 2 Axes>"
            ]
          },
          "metadata": {
            "needs_background": "light"
          }
        }
      ]
    }
  ]
}