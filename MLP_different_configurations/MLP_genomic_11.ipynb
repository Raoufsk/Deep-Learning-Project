{
  "cells": [
    {
      "cell_type": "code",
      "execution_count": 23,
      "metadata": {
        "id": "6_Fe6vK5ak22"
      },
      "outputs": [],
      "source": [
        "import keras\n",
        "import numpy as np\n",
        "import pandas as pd\n",
        "import tensorflow as tf\n",
        "import matplotlib.pyplot as plt\n",
        "\n",
        "from keras import layers\n",
        "from keras import regularizers\n",
        "from keras.layers import Dropout\n",
        "from keras.utils import np_utils\n",
        "from sklearn import preprocessing\n",
        "from keras.models import Sequential\n",
        "from sklearn.utils import class_weight\n",
        "from sklearn.impute import SimpleImputer\n",
        "from keras.callbacks import EarlyStopping\n",
        "from sklearn.metrics import confusion_matrix \n",
        "from sklearn.metrics import classification_report\n",
        "from tensorflow.keras.optimizers import SGD, Adam\n",
        "from keras.layers import Input, Dense, Activation\n",
        "from sklearn.model_selection import train_test_split"
      ]
    },
    {
      "cell_type": "code",
      "execution_count": 3,
      "metadata": {
        "colab": {
          "base_uri": "https://localhost:8080/"
        },
        "id": "JxnNwSM0avPI",
        "outputId": "82f797a1-dcf2-4912-b4af-212e6d1bec40"
      },
      "outputs": [
        {
          "output_type": "stream",
          "name": "stdout",
          "text": [
            "Mounted at /content/drive\n"
          ]
        }
      ],
      "source": [
        "from google.colab import drive\n",
        "drive.mount('/content/drive')"
      ]
    },
    {
      "cell_type": "code",
      "execution_count": 4,
      "metadata": {
        "id": "M77fN90ga0ds"
      },
      "outputs": [],
      "source": [
        "df = pd.read_csv('/content/drive/MyDrive/preprocessed_file_v0_filtered', \n",
        "                 compression = \"zip\", header = 0, index_col = 0, sep = \"\\t\")"
      ]
    },
    {
      "cell_type": "code",
      "source": [
        "counts = df.groupby(\"CANCER_TYPE\").agg({\"CANCER_TYPE\":\"count\"})\n",
        "to_keep = counts[counts[\"CANCER_TYPE\"] > 4500]\n",
        "df = df[df.CANCER_TYPE.isin(to_keep.index)]"
      ],
      "metadata": {
        "id": "0TcSC_qbsm7I"
      },
      "execution_count": 5,
      "outputs": []
    },
    {
      "cell_type": "code",
      "execution_count": 6,
      "metadata": {
        "id": "vn_Xxvz-a8u6"
      },
      "outputs": [],
      "source": [
        "data = df.drop(\"CANCER_TYPE\", axis = 1)\n",
        "labels = df[\"CANCER_TYPE\"]"
      ]
    },
    {
      "cell_type": "code",
      "execution_count": 7,
      "metadata": {
        "colab": {
          "base_uri": "https://localhost:8080/"
        },
        "id": "U5nuft2Ooppi",
        "outputId": "2ca2af05-c1a6-41e2-eb05-ebaac2f90ecd"
      },
      "outputs": [
        {
          "output_type": "stream",
          "name": "stdout",
          "text": [
            "['Glioma' 'Non-Small Cell Lung Cancer' 'Pancreatic Cancer' 'Melanoma'\n",
            " 'Breast Cancer' 'Colorectal Cancer' 'Ovarian Cancer'] 7\n"
          ]
        }
      ],
      "source": [
        "print(labels.unique(), len(labels.unique()))"
      ]
    },
    {
      "cell_type": "code",
      "execution_count": 8,
      "metadata": {
        "id": "q6NZaK5Xejh_"
      },
      "outputs": [],
      "source": [
        "encoder = preprocessing.LabelEncoder()\n",
        "classes = encoder.fit_transform(labels)"
      ]
    },
    {
      "cell_type": "code",
      "source": [
        "from sklearn.ensemble import ExtraTreesClassifier\n",
        "from sklearn.feature_selection import SelectFromModel\n",
        "clf = ExtraTreesClassifier(n_estimators=50)\n",
        "clf = clf.fit(data, classes)\n",
        "m = SelectFromModel(clf, prefit=True)\n",
        "data_new = m.transform(data)"
      ],
      "metadata": {
        "colab": {
          "base_uri": "https://localhost:8080/"
        },
        "id": "yDbUPNSkbnMl",
        "outputId": "eb6935c5-4a26-4977-c1cd-1f8e852c944d"
      },
      "execution_count": 9,
      "outputs": [
        {
          "output_type": "stream",
          "name": "stderr",
          "text": [
            "/usr/local/lib/python3.7/dist-packages/sklearn/base.py:439: UserWarning: X has feature names, but SelectFromModel was fitted without feature names\n",
            "  f\"X has feature names, but {self.__class__.__name__} was fitted without\"\n"
          ]
        }
      ]
    },
    {
      "cell_type": "code",
      "execution_count": 10,
      "metadata": {
        "colab": {
          "base_uri": "https://localhost:8080/"
        },
        "id": "Gjs0-So0bFQ8",
        "outputId": "0d297531-229c-480a-fd49-59fb40f6b811"
      },
      "outputs": [
        {
          "output_type": "stream",
          "name": "stdout",
          "text": [
            "(52060,)\n",
            "(52060, 258)\n",
            "(13015,)\n",
            "(13015, 258)\n"
          ]
        }
      ],
      "source": [
        "x_train, x_test, y_train, y_test = train_test_split(\n",
        "\t\t\t\t\t\t\t\t\tdata_new, classes, \n",
        "\t\t\t\t\t\t\t\t\ttest_size = 0.2, \n",
        "\t\t\t\t\t\t\t\t\trandom_state = 0) \n",
        "\n",
        "print(y_train.shape)\n",
        "print(x_train.shape)\n",
        "print(y_test.shape)\n",
        "print(x_test.shape)"
      ]
    },
    {
      "cell_type": "code",
      "execution_count": 11,
      "metadata": {
        "id": "jzRtR4kubQEC"
      },
      "outputs": [],
      "source": [
        "learning_rate = 0.01\n",
        "opt = 'ADAM'\n",
        "lambda_l1 = 0.001\n",
        "size_batch = 256\n",
        "nb_epochs = 150"
      ]
    },
    {
      "cell_type": "code",
      "execution_count": 12,
      "metadata": {
        "id": "IrQ-fNyEbVY-"
      },
      "outputs": [],
      "source": [
        "#12th try: feature selection + dropout + l2 regularizers + 7 cancer types only\n",
        "\n",
        "model = Sequential()\t\n",
        "\t\n",
        "model.add(\t\n",
        "\tDense(256, input_dim = x_train.shape[1], activation = 'relu'))\n",
        "\n",
        "model.add(\t\n",
        "\tDense(64, activation = 'relu',\n",
        "\t      kernel_regularizer = regularizers.l2(0.3)))\n",
        "\t\n",
        "model.add(\t\n",
        "\tDense(len(labels.unique()), activation = 'softmax',\n",
        "\t      kernel_regularizer = regularizers.l2(0.3)))\n",
        "\t\n",
        "model.compile(optimizer = opt,\t\n",
        "\t\t\t\t\t\tloss = 'sparse_categorical_crossentropy',\t\n",
        "\t\t\t\t\t\tmetrics = [\"accuracy\"])\t"
      ]
    },
    {
      "cell_type": "code",
      "execution_count": 13,
      "metadata": {
        "colab": {
          "base_uri": "https://localhost:8080/"
        },
        "id": "nif7fYW357Al",
        "outputId": "241d769a-683b-4da4-aa63-5d1f536b52db"
      },
      "outputs": [
        {
          "output_type": "stream",
          "name": "stdout",
          "text": [
            "Model: \"sequential\"\n",
            "_________________________________________________________________\n",
            " Layer (type)                Output Shape              Param #   \n",
            "=================================================================\n",
            " dense (Dense)               (None, 256)               66304     \n",
            "                                                                 \n",
            " dense_1 (Dense)             (None, 64)                16448     \n",
            "                                                                 \n",
            " dense_2 (Dense)             (None, 7)                 455       \n",
            "                                                                 \n",
            "=================================================================\n",
            "Total params: 83,207\n",
            "Trainable params: 83,207\n",
            "Non-trainable params: 0\n",
            "_________________________________________________________________\n"
          ]
        }
      ],
      "source": [
        "model.summary()"
      ]
    },
    {
      "cell_type": "code",
      "execution_count": 14,
      "metadata": {
        "id": "HPFuHk8zbaeV"
      },
      "outputs": [],
      "source": [
        "es = EarlyStopping(\n",
        "  monitor = 'val_accuracy', mode = 'max', \n",
        "\tverbose = 1, patience = 30)"
      ]
    },
    {
      "cell_type": "code",
      "execution_count": 15,
      "metadata": {
        "id": "FrXpLUs-GgMx"
      },
      "outputs": [],
      "source": [
        "class_weights = class_weight.compute_class_weight(class_weight=\"balanced\", classes=np.unique(y_train), y=y_train)\n",
        "class_weights_d = {l:c for l,c in zip(np.unique(y_train), class_weights)}"
      ]
    },
    {
      "cell_type": "code",
      "execution_count": 16,
      "metadata": {
        "colab": {
          "base_uri": "https://localhost:8080/"
        },
        "id": "Qm2ZLHFMpJYq",
        "outputId": "638f41c1-2a00-4d3c-9381-5886ea112d6f"
      },
      "outputs": [
        {
          "output_type": "stream",
          "name": "stdout",
          "text": [
            "{0: 0.6995713345069003, 1: 0.7817873286179814, 2: 1.236638320110219, 3: 1.883774786510349, 4: 0.5183039136624752, 5: 2.0420491095944144, 6: 1.8766446775530803}\n"
          ]
        }
      ],
      "source": [
        "print(class_weights_d)"
      ]
    },
    {
      "cell_type": "code",
      "execution_count": 17,
      "metadata": {
        "colab": {
          "base_uri": "https://localhost:8080/"
        },
        "id": "ME_hnEwDEWe4",
        "outputId": "8070158e-8c2f-47b4-d965-48b13366846c"
      },
      "outputs": [
        {
          "output_type": "stream",
          "name": "stdout",
          "text": [
            "Epoch 1/150\n",
            "204/204 [==============================] - 2s 8ms/step - loss: 9.2620 - accuracy: 0.5097 - val_loss: 2.3076 - val_accuracy: 0.4641\n",
            "Epoch 2/150\n",
            "204/204 [==============================] - 1s 7ms/step - loss: 2.0535 - accuracy: 0.2536 - val_loss: 1.9719 - val_accuracy: 0.1510\n",
            "Epoch 3/150\n",
            "204/204 [==============================] - 1s 6ms/step - loss: 1.9500 - accuracy: 0.1456 - val_loss: 1.9567 - val_accuracy: 0.1291\n",
            "Epoch 4/150\n",
            "204/204 [==============================] - 1s 7ms/step - loss: 1.9406 - accuracy: 0.1368 - val_loss: 1.9533 - val_accuracy: 0.1302\n",
            "Epoch 5/150\n",
            "204/204 [==============================] - 1s 7ms/step - loss: 1.9181 - accuracy: 0.1662 - val_loss: 1.9390 - val_accuracy: 0.1680\n",
            "Epoch 6/150\n",
            "204/204 [==============================] - 1s 7ms/step - loss: 1.8573 - accuracy: 0.2280 - val_loss: 1.8800 - val_accuracy: 0.2637\n",
            "Epoch 7/150\n",
            "204/204 [==============================] - 1s 7ms/step - loss: 1.8031 - accuracy: 0.2676 - val_loss: 1.8312 - val_accuracy: 0.2892\n",
            "Epoch 8/150\n",
            "204/204 [==============================] - 2s 7ms/step - loss: 1.7676 - accuracy: 0.2973 - val_loss: 1.8150 - val_accuracy: 0.2950\n",
            "Epoch 9/150\n",
            "204/204 [==============================] - 1s 6ms/step - loss: 1.7443 - accuracy: 0.3068 - val_loss: 1.7690 - val_accuracy: 0.3711\n",
            "Epoch 10/150\n",
            "204/204 [==============================] - 1s 6ms/step - loss: 1.7248 - accuracy: 0.3291 - val_loss: 1.7973 - val_accuracy: 0.3046\n",
            "Epoch 11/150\n",
            "204/204 [==============================] - 1s 7ms/step - loss: 1.7070 - accuracy: 0.3532 - val_loss: 1.7670 - val_accuracy: 0.3271\n",
            "Epoch 12/150\n",
            "204/204 [==============================] - 1s 7ms/step - loss: 1.6918 - accuracy: 0.3680 - val_loss: 1.7242 - val_accuracy: 0.4181\n",
            "Epoch 13/150\n",
            "204/204 [==============================] - 1s 6ms/step - loss: 1.6772 - accuracy: 0.3912 - val_loss: 1.7113 - val_accuracy: 0.4284\n",
            "Epoch 14/150\n",
            "204/204 [==============================] - 1s 6ms/step - loss: 1.6563 - accuracy: 0.4197 - val_loss: 1.7208 - val_accuracy: 0.3783\n",
            "Epoch 15/150\n",
            "204/204 [==============================] - 2s 7ms/step - loss: 1.6318 - accuracy: 0.4536 - val_loss: 1.6744 - val_accuracy: 0.4540\n",
            "Epoch 16/150\n",
            "204/204 [==============================] - 1s 7ms/step - loss: 1.5995 - accuracy: 0.4801 - val_loss: 1.6114 - val_accuracy: 0.5018\n",
            "Epoch 17/150\n",
            "204/204 [==============================] - 1s 7ms/step - loss: 1.5734 - accuracy: 0.4866 - val_loss: 1.6049 - val_accuracy: 0.4814\n",
            "Epoch 18/150\n",
            "204/204 [==============================] - 1s 7ms/step - loss: 1.5529 - accuracy: 0.4902 - val_loss: 1.5843 - val_accuracy: 0.4840\n",
            "Epoch 19/150\n",
            "204/204 [==============================] - 1s 7ms/step - loss: 1.5351 - accuracy: 0.4958 - val_loss: 1.5758 - val_accuracy: 0.4962\n",
            "Epoch 20/150\n",
            "204/204 [==============================] - 1s 7ms/step - loss: 1.5222 - accuracy: 0.4964 - val_loss: 1.5914 - val_accuracy: 0.4711\n",
            "Epoch 21/150\n",
            "204/204 [==============================] - 1s 7ms/step - loss: 1.5132 - accuracy: 0.4934 - val_loss: 1.5265 - val_accuracy: 0.5437\n",
            "Epoch 22/150\n",
            "204/204 [==============================] - 1s 7ms/step - loss: 1.5041 - accuracy: 0.4933 - val_loss: 1.5500 - val_accuracy: 0.5126\n",
            "Epoch 23/150\n",
            "204/204 [==============================] - 1s 7ms/step - loss: 1.4907 - accuracy: 0.4994 - val_loss: 1.5365 - val_accuracy: 0.4720\n",
            "Epoch 24/150\n",
            "204/204 [==============================] - 1s 7ms/step - loss: 1.4817 - accuracy: 0.5002 - val_loss: 1.5493 - val_accuracy: 0.4724\n",
            "Epoch 25/150\n",
            "204/204 [==============================] - 1s 7ms/step - loss: 1.4745 - accuracy: 0.4959 - val_loss: 1.5172 - val_accuracy: 0.5125\n",
            "Epoch 26/150\n",
            "204/204 [==============================] - 1s 7ms/step - loss: 1.4662 - accuracy: 0.4982 - val_loss: 1.5206 - val_accuracy: 0.4933\n",
            "Epoch 27/150\n",
            "204/204 [==============================] - 1s 6ms/step - loss: 1.4581 - accuracy: 0.5012 - val_loss: 1.5141 - val_accuracy: 0.4784\n",
            "Epoch 28/150\n",
            "204/204 [==============================] - 1s 6ms/step - loss: 1.4532 - accuracy: 0.4964 - val_loss: 1.4998 - val_accuracy: 0.5149\n",
            "Epoch 29/150\n",
            "204/204 [==============================] - 1s 6ms/step - loss: 1.4491 - accuracy: 0.4996 - val_loss: 1.5209 - val_accuracy: 0.4724\n",
            "Epoch 30/150\n",
            "204/204 [==============================] - 1s 6ms/step - loss: 1.4410 - accuracy: 0.5011 - val_loss: 1.5003 - val_accuracy: 0.4815\n",
            "Epoch 31/150\n",
            "204/204 [==============================] - 1s 7ms/step - loss: 1.4344 - accuracy: 0.5006 - val_loss: 1.4941 - val_accuracy: 0.5033\n",
            "Epoch 32/150\n",
            "204/204 [==============================] - 1s 7ms/step - loss: 1.4267 - accuracy: 0.5042 - val_loss: 1.5118 - val_accuracy: 0.4763\n",
            "Epoch 33/150\n",
            "204/204 [==============================] - 1s 6ms/step - loss: 1.4202 - accuracy: 0.5059 - val_loss: 1.5001 - val_accuracy: 0.4970\n",
            "Epoch 34/150\n",
            "204/204 [==============================] - 1s 6ms/step - loss: 1.4135 - accuracy: 0.5065 - val_loss: 1.4727 - val_accuracy: 0.5069\n",
            "Epoch 35/150\n",
            "204/204 [==============================] - 1s 7ms/step - loss: 1.4084 - accuracy: 0.5114 - val_loss: 1.4937 - val_accuracy: 0.4714\n",
            "Epoch 36/150\n",
            "204/204 [==============================] - 1s 7ms/step - loss: 1.4012 - accuracy: 0.5128 - val_loss: 1.4775 - val_accuracy: 0.5155\n",
            "Epoch 37/150\n",
            "204/204 [==============================] - 1s 6ms/step - loss: 1.3937 - accuracy: 0.5139 - val_loss: 1.4585 - val_accuracy: 0.5063\n",
            "Epoch 38/150\n",
            "204/204 [==============================] - 2s 7ms/step - loss: 1.3868 - accuracy: 0.5180 - val_loss: 1.4414 - val_accuracy: 0.5245\n",
            "Epoch 39/150\n",
            "204/204 [==============================] - 1s 7ms/step - loss: 1.3785 - accuracy: 0.5212 - val_loss: 1.4472 - val_accuracy: 0.5073\n",
            "Epoch 40/150\n",
            "204/204 [==============================] - 2s 7ms/step - loss: 1.3729 - accuracy: 0.5238 - val_loss: 1.4582 - val_accuracy: 0.5023\n",
            "Epoch 41/150\n",
            "204/204 [==============================] - 2s 7ms/step - loss: 1.3658 - accuracy: 0.5259 - val_loss: 1.4385 - val_accuracy: 0.5274\n",
            "Epoch 42/150\n",
            "204/204 [==============================] - 1s 7ms/step - loss: 1.3607 - accuracy: 0.5293 - val_loss: 1.4233 - val_accuracy: 0.5323\n",
            "Epoch 43/150\n",
            "204/204 [==============================] - 1s 7ms/step - loss: 1.3538 - accuracy: 0.5334 - val_loss: 1.4089 - val_accuracy: 0.5470\n",
            "Epoch 44/150\n",
            "204/204 [==============================] - 1s 7ms/step - loss: 1.3479 - accuracy: 0.5393 - val_loss: 1.4095 - val_accuracy: 0.5169\n",
            "Epoch 45/150\n",
            "204/204 [==============================] - 1s 7ms/step - loss: 1.3448 - accuracy: 0.5422 - val_loss: 1.4192 - val_accuracy: 0.5334\n",
            "Epoch 46/150\n",
            "204/204 [==============================] - 2s 8ms/step - loss: 1.3372 - accuracy: 0.5469 - val_loss: 1.4205 - val_accuracy: 0.5060\n",
            "Epoch 47/150\n",
            "204/204 [==============================] - 1s 7ms/step - loss: 1.3310 - accuracy: 0.5558 - val_loss: 1.3752 - val_accuracy: 0.5618\n",
            "Epoch 48/150\n",
            "204/204 [==============================] - 1s 7ms/step - loss: 1.3262 - accuracy: 0.5611 - val_loss: 1.3571 - val_accuracy: 0.5703\n",
            "Epoch 49/150\n",
            "204/204 [==============================] - 1s 7ms/step - loss: 1.3203 - accuracy: 0.5693 - val_loss: 1.4020 - val_accuracy: 0.5329\n",
            "Epoch 50/150\n",
            "204/204 [==============================] - 1s 7ms/step - loss: 1.3158 - accuracy: 0.5720 - val_loss: 1.3551 - val_accuracy: 0.5743\n",
            "Epoch 51/150\n",
            "204/204 [==============================] - 1s 7ms/step - loss: 1.3111 - accuracy: 0.5767 - val_loss: 1.3424 - val_accuracy: 0.5843\n",
            "Epoch 52/150\n",
            "204/204 [==============================] - 1s 7ms/step - loss: 1.3038 - accuracy: 0.5793 - val_loss: 1.3566 - val_accuracy: 0.5780\n",
            "Epoch 53/150\n",
            "204/204 [==============================] - 1s 7ms/step - loss: 1.2985 - accuracy: 0.5850 - val_loss: 1.3296 - val_accuracy: 0.5889\n",
            "Epoch 54/150\n",
            "204/204 [==============================] - 1s 7ms/step - loss: 1.2943 - accuracy: 0.5844 - val_loss: 1.3184 - val_accuracy: 0.5909\n",
            "Epoch 55/150\n",
            "204/204 [==============================] - 1s 7ms/step - loss: 1.2884 - accuracy: 0.5877 - val_loss: 1.3341 - val_accuracy: 0.5836\n",
            "Epoch 56/150\n",
            "204/204 [==============================] - 1s 7ms/step - loss: 1.2843 - accuracy: 0.5881 - val_loss: 1.3439 - val_accuracy: 0.5849\n",
            "Epoch 57/150\n",
            "204/204 [==============================] - 1s 6ms/step - loss: 1.2802 - accuracy: 0.5901 - val_loss: 1.3069 - val_accuracy: 0.6042\n",
            "Epoch 58/150\n",
            "204/204 [==============================] - 2s 8ms/step - loss: 1.2756 - accuracy: 0.5934 - val_loss: 1.3344 - val_accuracy: 0.5661\n",
            "Epoch 59/150\n",
            "204/204 [==============================] - 1s 7ms/step - loss: 1.2750 - accuracy: 0.5896 - val_loss: 1.3130 - val_accuracy: 0.6044\n",
            "Epoch 60/150\n",
            "204/204 [==============================] - 1s 7ms/step - loss: 1.2706 - accuracy: 0.5923 - val_loss: 1.3319 - val_accuracy: 0.5833\n",
            "Epoch 61/150\n",
            "204/204 [==============================] - 1s 7ms/step - loss: 1.2672 - accuracy: 0.5941 - val_loss: 1.3311 - val_accuracy: 0.5819\n",
            "Epoch 62/150\n",
            "204/204 [==============================] - 1s 6ms/step - loss: 1.2635 - accuracy: 0.5937 - val_loss: 1.3363 - val_accuracy: 0.5806\n",
            "Epoch 63/150\n",
            "204/204 [==============================] - 1s 7ms/step - loss: 1.2601 - accuracy: 0.5936 - val_loss: 1.2726 - val_accuracy: 0.6048\n",
            "Epoch 64/150\n",
            "204/204 [==============================] - 1s 7ms/step - loss: 1.2556 - accuracy: 0.5943 - val_loss: 1.3003 - val_accuracy: 0.5904\n",
            "Epoch 65/150\n",
            "204/204 [==============================] - 1s 7ms/step - loss: 1.2551 - accuracy: 0.5944 - val_loss: 1.2952 - val_accuracy: 0.5950\n",
            "Epoch 66/150\n",
            "204/204 [==============================] - 1s 7ms/step - loss: 1.2534 - accuracy: 0.5930 - val_loss: 1.3053 - val_accuracy: 0.5912\n",
            "Epoch 67/150\n",
            "204/204 [==============================] - 1s 7ms/step - loss: 1.2481 - accuracy: 0.5959 - val_loss: 1.3006 - val_accuracy: 0.5957\n",
            "Epoch 68/150\n",
            "204/204 [==============================] - 1s 7ms/step - loss: 1.2459 - accuracy: 0.5934 - val_loss: 1.2900 - val_accuracy: 0.5942\n",
            "Epoch 69/150\n",
            "204/204 [==============================] - 1s 7ms/step - loss: 1.2446 - accuracy: 0.5964 - val_loss: 1.2990 - val_accuracy: 0.5947\n",
            "Epoch 70/150\n",
            "204/204 [==============================] - 1s 7ms/step - loss: 1.2427 - accuracy: 0.5944 - val_loss: 1.2748 - val_accuracy: 0.6002\n",
            "Epoch 71/150\n",
            "204/204 [==============================] - 1s 7ms/step - loss: 1.2400 - accuracy: 0.5954 - val_loss: 1.2848 - val_accuracy: 0.5866\n",
            "Epoch 72/150\n",
            "204/204 [==============================] - 1s 7ms/step - loss: 1.2365 - accuracy: 0.5968 - val_loss: 1.2751 - val_accuracy: 0.5962\n",
            "Epoch 73/150\n",
            "204/204 [==============================] - 1s 7ms/step - loss: 1.2355 - accuracy: 0.5955 - val_loss: 1.2778 - val_accuracy: 0.5947\n",
            "Epoch 74/150\n",
            "204/204 [==============================] - 1s 7ms/step - loss: 1.2329 - accuracy: 0.5965 - val_loss: 1.2807 - val_accuracy: 0.5942\n",
            "Epoch 75/150\n",
            "204/204 [==============================] - 1s 7ms/step - loss: 1.2304 - accuracy: 0.5964 - val_loss: 1.2996 - val_accuracy: 0.5868\n",
            "Epoch 76/150\n",
            "204/204 [==============================] - 1s 7ms/step - loss: 1.2329 - accuracy: 0.5973 - val_loss: 1.2813 - val_accuracy: 0.5779\n",
            "Epoch 77/150\n",
            "204/204 [==============================] - 1s 7ms/step - loss: 1.2291 - accuracy: 0.5958 - val_loss: 1.2655 - val_accuracy: 0.5941\n",
            "Epoch 78/150\n",
            "204/204 [==============================] - 1s 7ms/step - loss: 1.2252 - accuracy: 0.5982 - val_loss: 1.2696 - val_accuracy: 0.5953\n",
            "Epoch 79/150\n",
            "204/204 [==============================] - 1s 7ms/step - loss: 1.2235 - accuracy: 0.5972 - val_loss: 1.2487 - val_accuracy: 0.6029\n",
            "Epoch 80/150\n",
            "204/204 [==============================] - 1s 7ms/step - loss: 1.2231 - accuracy: 0.5981 - val_loss: 1.2628 - val_accuracy: 0.6018\n",
            "Epoch 81/150\n",
            "204/204 [==============================] - 1s 7ms/step - loss: 1.2209 - accuracy: 0.5966 - val_loss: 1.2487 - val_accuracy: 0.6010\n",
            "Epoch 82/150\n",
            "204/204 [==============================] - 1s 7ms/step - loss: 1.2196 - accuracy: 0.5969 - val_loss: 1.2872 - val_accuracy: 0.5920\n",
            "Epoch 83/150\n",
            "204/204 [==============================] - 1s 7ms/step - loss: 1.2171 - accuracy: 0.5969 - val_loss: 1.2659 - val_accuracy: 0.6054\n",
            "Epoch 84/150\n",
            "204/204 [==============================] - 1s 7ms/step - loss: 1.2163 - accuracy: 0.5966 - val_loss: 1.2360 - val_accuracy: 0.6050\n",
            "Epoch 85/150\n",
            "204/204 [==============================] - 1s 7ms/step - loss: 1.2138 - accuracy: 0.5972 - val_loss: 1.2514 - val_accuracy: 0.6099\n",
            "Epoch 86/150\n",
            "204/204 [==============================] - 1s 7ms/step - loss: 1.2150 - accuracy: 0.5983 - val_loss: 1.2785 - val_accuracy: 0.5912\n",
            "Epoch 87/150\n",
            "204/204 [==============================] - 1s 6ms/step - loss: 1.2118 - accuracy: 0.5983 - val_loss: 1.2659 - val_accuracy: 0.5942\n",
            "Epoch 88/150\n",
            "204/204 [==============================] - 2s 7ms/step - loss: 1.2119 - accuracy: 0.5980 - val_loss: 1.2589 - val_accuracy: 0.5977\n",
            "Epoch 89/150\n",
            "204/204 [==============================] - 1s 7ms/step - loss: 1.2084 - accuracy: 0.5991 - val_loss: 1.2546 - val_accuracy: 0.5955\n",
            "Epoch 90/150\n",
            "204/204 [==============================] - 1s 7ms/step - loss: 1.2083 - accuracy: 0.5979 - val_loss: 1.2879 - val_accuracy: 0.5864\n",
            "Epoch 91/150\n",
            "204/204 [==============================] - 1s 7ms/step - loss: 1.2078 - accuracy: 0.5980 - val_loss: 1.2724 - val_accuracy: 0.5799\n",
            "Epoch 92/150\n",
            "204/204 [==============================] - 1s 7ms/step - loss: 1.2061 - accuracy: 0.5990 - val_loss: 1.2754 - val_accuracy: 0.5804\n",
            "Epoch 93/150\n",
            "204/204 [==============================] - 1s 7ms/step - loss: 1.2049 - accuracy: 0.5976 - val_loss: 1.2596 - val_accuracy: 0.5950\n",
            "Epoch 94/150\n",
            "204/204 [==============================] - 1s 7ms/step - loss: 1.2035 - accuracy: 0.5973 - val_loss: 1.2504 - val_accuracy: 0.5829\n",
            "Epoch 95/150\n",
            "204/204 [==============================] - 1s 7ms/step - loss: 1.2008 - accuracy: 0.5983 - val_loss: 1.2584 - val_accuracy: 0.5880\n",
            "Epoch 96/150\n",
            "204/204 [==============================] - 1s 7ms/step - loss: 1.2012 - accuracy: 0.5975 - val_loss: 1.2440 - val_accuracy: 0.5978\n",
            "Epoch 97/150\n",
            "204/204 [==============================] - 1s 7ms/step - loss: 1.1996 - accuracy: 0.5980 - val_loss: 1.2827 - val_accuracy: 0.5781\n",
            "Epoch 98/150\n",
            "204/204 [==============================] - 1s 7ms/step - loss: 1.1979 - accuracy: 0.5988 - val_loss: 1.2553 - val_accuracy: 0.5990\n",
            "Epoch 99/150\n",
            "204/204 [==============================] - 1s 7ms/step - loss: 1.1991 - accuracy: 0.5981 - val_loss: 1.2210 - val_accuracy: 0.5980\n",
            "Epoch 100/150\n",
            "204/204 [==============================] - 1s 7ms/step - loss: 1.1987 - accuracy: 0.6003 - val_loss: 1.2384 - val_accuracy: 0.6106\n",
            "Epoch 101/150\n",
            "204/204 [==============================] - 1s 7ms/step - loss: 1.2012 - accuracy: 0.5991 - val_loss: 1.2781 - val_accuracy: 0.5711\n",
            "Epoch 102/150\n",
            "204/204 [==============================] - 1s 7ms/step - loss: 1.1929 - accuracy: 0.5994 - val_loss: 1.2479 - val_accuracy: 0.5965\n",
            "Epoch 103/150\n",
            "204/204 [==============================] - 1s 7ms/step - loss: 1.1932 - accuracy: 0.5983 - val_loss: 1.2366 - val_accuracy: 0.5861\n",
            "Epoch 104/150\n",
            "204/204 [==============================] - 1s 7ms/step - loss: 1.1912 - accuracy: 0.5994 - val_loss: 1.2616 - val_accuracy: 0.5868\n",
            "Epoch 105/150\n",
            "204/204 [==============================] - 1s 7ms/step - loss: 1.1910 - accuracy: 0.6000 - val_loss: 1.2284 - val_accuracy: 0.5991\n",
            "Epoch 106/150\n",
            "204/204 [==============================] - 1s 7ms/step - loss: 1.1895 - accuracy: 0.5994 - val_loss: 1.2378 - val_accuracy: 0.5975\n",
            "Epoch 107/150\n",
            "204/204 [==============================] - 1s 7ms/step - loss: 1.1891 - accuracy: 0.5998 - val_loss: 1.2407 - val_accuracy: 0.5985\n",
            "Epoch 108/150\n",
            "204/204 [==============================] - 1s 7ms/step - loss: 1.1889 - accuracy: 0.5966 - val_loss: 1.2513 - val_accuracy: 0.5904\n",
            "Epoch 109/150\n",
            "204/204 [==============================] - 1s 7ms/step - loss: 1.1886 - accuracy: 0.5995 - val_loss: 1.2426 - val_accuracy: 0.5840\n",
            "Epoch 110/150\n",
            "204/204 [==============================] - 1s 7ms/step - loss: 1.1859 - accuracy: 0.5999 - val_loss: 1.2505 - val_accuracy: 0.5856\n",
            "Epoch 111/150\n",
            "204/204 [==============================] - 1s 7ms/step - loss: 1.1868 - accuracy: 0.5982 - val_loss: 1.2360 - val_accuracy: 0.5847\n",
            "Epoch 112/150\n",
            "204/204 [==============================] - 1s 7ms/step - loss: 1.1839 - accuracy: 0.5999 - val_loss: 1.2233 - val_accuracy: 0.5849\n",
            "Epoch 113/150\n",
            "204/204 [==============================] - 1s 7ms/step - loss: 1.1834 - accuracy: 0.6007 - val_loss: 1.2326 - val_accuracy: 0.5915\n",
            "Epoch 114/150\n",
            "204/204 [==============================] - 1s 7ms/step - loss: 1.1837 - accuracy: 0.6010 - val_loss: 1.2452 - val_accuracy: 0.5928\n",
            "Epoch 115/150\n",
            "204/204 [==============================] - 1s 7ms/step - loss: 1.1836 - accuracy: 0.5998 - val_loss: 1.2604 - val_accuracy: 0.5900\n",
            "Epoch 116/150\n",
            "204/204 [==============================] - 1s 7ms/step - loss: 1.1816 - accuracy: 0.6011 - val_loss: 1.2654 - val_accuracy: 0.5779\n",
            "Epoch 117/150\n",
            "204/204 [==============================] - 2s 8ms/step - loss: 1.1825 - accuracy: 0.5999 - val_loss: 1.2000 - val_accuracy: 0.6072\n",
            "Epoch 118/150\n",
            "204/204 [==============================] - 1s 7ms/step - loss: 1.1785 - accuracy: 0.6000 - val_loss: 1.2832 - val_accuracy: 0.5685\n",
            "Epoch 119/150\n",
            "204/204 [==============================] - 1s 7ms/step - loss: 1.1783 - accuracy: 0.5997 - val_loss: 1.2263 - val_accuracy: 0.5929\n",
            "Epoch 120/150\n",
            "204/204 [==============================] - 1s 7ms/step - loss: 1.1795 - accuracy: 0.5990 - val_loss: 1.2450 - val_accuracy: 0.5800\n",
            "Epoch 121/150\n",
            "204/204 [==============================] - 1s 7ms/step - loss: 1.1767 - accuracy: 0.5984 - val_loss: 1.2201 - val_accuracy: 0.5996\n",
            "Epoch 122/150\n",
            "204/204 [==============================] - 1s 7ms/step - loss: 1.1759 - accuracy: 0.5992 - val_loss: 1.2204 - val_accuracy: 0.5945\n",
            "Epoch 123/150\n",
            "204/204 [==============================] - 1s 7ms/step - loss: 1.1754 - accuracy: 0.5987 - val_loss: 1.2368 - val_accuracy: 0.5893\n",
            "Epoch 124/150\n",
            "204/204 [==============================] - 1s 7ms/step - loss: 1.1741 - accuracy: 0.5988 - val_loss: 1.2367 - val_accuracy: 0.5861\n",
            "Epoch 125/150\n",
            "204/204 [==============================] - 1s 7ms/step - loss: 1.1722 - accuracy: 0.5999 - val_loss: 1.2331 - val_accuracy: 0.5806\n",
            "Epoch 126/150\n",
            "204/204 [==============================] - 2s 8ms/step - loss: 1.1748 - accuracy: 0.5969 - val_loss: 1.2345 - val_accuracy: 0.5899\n",
            "Epoch 127/150\n",
            "204/204 [==============================] - 1s 7ms/step - loss: 1.1715 - accuracy: 0.5989 - val_loss: 1.2259 - val_accuracy: 0.5975\n",
            "Epoch 128/150\n",
            "204/204 [==============================] - 1s 7ms/step - loss: 1.1711 - accuracy: 0.5985 - val_loss: 1.2108 - val_accuracy: 0.6022\n",
            "Epoch 129/150\n",
            "204/204 [==============================] - 1s 7ms/step - loss: 1.1698 - accuracy: 0.6007 - val_loss: 1.2259 - val_accuracy: 0.5968\n",
            "Epoch 130/150\n",
            "204/204 [==============================] - 1s 7ms/step - loss: 1.1696 - accuracy: 0.5991 - val_loss: 1.2228 - val_accuracy: 0.5820\n",
            "Epoch 00130: early stopping\n"
          ]
        }
      ],
      "source": [
        "history = model.fit(\n",
        "\tx_train, y_train, \n",
        "\tvalidation_data = (x_test, y_test), \n",
        "\tbatch_size = size_batch, \n",
        "  epochs = nb_epochs, \n",
        "  class_weight = class_weights_d,\n",
        "\tverbose = 1, callbacks = [es])"
      ]
    },
    {
      "cell_type": "code",
      "execution_count": 18,
      "metadata": {
        "colab": {
          "base_uri": "https://localhost:8080/",
          "height": 165
        },
        "id": "in1rWv4YyFFG",
        "outputId": "44cf63ee-ceb2-420e-b48f-5cc6cce2e2da"
      },
      "outputs": [
        {
          "output_type": "display_data",
          "data": {
            "image/png": "[encoded data removed]",
            "text/plain": [
              "<Figure size 432x288 with 2 Axes>"
            ]
          },
          "metadata": {
            "needs_background": "light"
          }
        }
      ],
      "source": [
        "metrics = ['loss', 'accuracy']\n",
        "for n, metric in enumerate(metrics):\n",
        "  name = metric.replace(\"_\",\" \").capitalize()\n",
        "  plt.subplot(2,2,n+1)\n",
        "  plt.plot(history.epoch, history.history[metric],  label='Train')\n",
        "  plt.plot(history.epoch, history.history['val_'+metric], linestyle=\"--\", label='Val')\n",
        "  plt.xlabel('Epoch')\n",
        "  plt.ylabel(name)\n",
        "  if metric == 'loss':\n",
        "    plt.ylim([0, plt.ylim()[1]])\n",
        "  elif metric == 'auc':\n",
        "    plt.ylim([0.8,1])\n",
        "  else:\n",
        "    plt.ylim([0,1])\n",
        "\n",
        "  plt.legend()\n",
        "\n"
      ]
    },
    {
      "cell_type": "code",
      "source": [
        "score = model.evaluate(\n",
        "\tx_test, y_test, \n",
        "\tbatch_size = size_batch, verbose = 1)\n",
        "\n",
        "print(\"Scores on test set: loss=%s accuracy=%s\" % tuple(score))"
      ],
      "metadata": {
        "colab": {
          "base_uri": "https://localhost:8080/"
        },
        "id": "ZQujyq_Uj-Hh",
        "outputId": "4ac71a15-dddc-46cb-d108-a8f88bfdbee7"
      },
      "execution_count": 33,
      "outputs": [
        {
          "output_type": "stream",
          "name": "stdout",
          "text": [
            "51/51 [==============================] - 0s 3ms/step - loss: 1.2228 - accuracy: 0.5820\n",
            "Scores on test set: loss=1.2227808237075806 accuracy=0.5820207595825195\n"
          ]
        }
      ]
    },
    {
      "cell_type": "code",
      "source": [
        "y_pred = model.predict(x_test)\n",
        "pred = []\n",
        "for i in range(len(y_pred)):\n",
        "  pred.append(list(y_pred[i]).index(max(y_pred[i])))"
      ],
      "metadata": {
        "id": "-FSH2NZrlIIH"
      },
      "execution_count": 48,
      "outputs": []
    },
    {
      "cell_type": "code",
      "source": [
        "c_m = confusion_matrix(y_test, pred)"
      ],
      "metadata": {
        "id": "IRTSSfVBmj2a"
      },
      "execution_count": 50,
      "outputs": []
    },
    {
      "cell_type": "code",
      "source": [
        "import seaborn as sns\n",
        "f1, ax1 = plt.subplots(1,1, figsize=(20,20))\n",
        "sns.heatmap(c_m, annot = True, cmap = \"YlGnBu\")\n",
        "ax1.set_xlabel('Predicted labels')\n",
        "ax1.set_ylabel('True labels')\n",
        "ax1.set_title('Confusion Matrix')"
      ],
      "metadata": {
        "colab": {
          "base_uri": "https://localhost:8080/",
          "height": 1000
        },
        "id": "m3Aqkws-i3qa",
        "outputId": "34386cda-4a74-43c2-ed73-64e571c16e8e"
      },
      "execution_count": 53,
      "outputs": [
        {
          "output_type": "execute_result",
          "data": {
            "text/plain": [
              "Text(0.5, 1.0, 'Confusion Matrix')"
            ]
          },
          "metadata": {},
          "execution_count": 53
        },
        {
          "output_type": "display_data",
          "data": {
            "image/png": "[encoded data removed]",
            "text/plain": [
              "<Figure size 1440x1440 with 2 Axes>"
            ]
          },
          "metadata": {
            "needs_background": "light"
          }
        }
      ]
    },
    {
      "cell_type": "code",
      "source": [
        "c_r = classification_report(y_test, pred, output_dict = True)"
      ],
      "metadata": {
        "id": "ql_4sfI3nuyy"
      },
      "execution_count": 60,
      "outputs": []
    },
    {
      "cell_type": "code",
      "source": [
        "cr = pd.DataFrame(c_r)\n",
        "f2, ax2 = plt.subplots(1,1, figsize=(20,20))\n",
        "ax2 = sns.heatmap(cr, annot = True, cmap = \"YlGnBu\")\n",
        "ax2.set_title('Classification report')"
      ],
      "metadata": {
        "colab": {
          "base_uri": "https://localhost:8080/",
          "height": 1000
        },
        "id": "MluDZVzun50Q",
        "outputId": "3a31eb2b-365e-4425-ac5b-81a46776890c"
      },
      "execution_count": 64,
      "outputs": [
        {
          "output_type": "execute_result",
          "data": {
            "text/plain": [
              "Text(0.5, 1.0, 'Classification report')"
            ]
          },
          "metadata": {},
          "execution_count": 64
        },
        {
          "output_type": "display_data",
          "data": {
            "image/png": "[encoded data removed]",
            "text/plain": [
              "<Figure size 1440x1440 with 2 Axes>"
            ]
          },
          "metadata": {
            "needs_background": "light"
          }
        }
      ]
    }
  ],
  "metadata": {
    "colab": {
      "collapsed_sections": [],
      "name": "MLP_genomic_11.ipynb",
      "provenance": []
    },
    "kernelspec": {
      "display_name": "Python 3",
      "name": "python3"
    },
    "language_info": {
      "name": "python"
    }
  },
  "nbformat": 4,
  "nbformat_minor": 0
}