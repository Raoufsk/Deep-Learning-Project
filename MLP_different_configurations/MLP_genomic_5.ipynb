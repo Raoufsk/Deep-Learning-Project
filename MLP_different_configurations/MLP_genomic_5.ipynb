{
  "nbformat": 4,
  "nbformat_minor": 0,
  "metadata": {
    "colab": {
      "name": "MLP_genomic_5.ipynb",
      "provenance": [],
      "collapsed_sections": []
    },
    "kernelspec": {
      "display_name": "Python 3",
      "name": "python3"
    },
    "language_info": {
      "name": "python"
    }
  },
  "cells": [
    {
      "cell_type": "code",
      "metadata": {
        "id": "6_Fe6vK5ak22"
      },
      "source": [
        "import keras\n",
        "import numpy as np\n",
        "import pandas as pd\n",
        "import tensorflow as tf\n",
        "import matplotlib.pyplot as plt\n",
        "\n",
        "from keras import layers\n",
        "from keras import regularizers\n",
        "from keras.layers import Dropout\n",
        "from keras.utils import np_utils\n",
        "from sklearn import preprocessing\n",
        "from keras.models import Sequential\n",
        "from sklearn.utils import class_weight\n",
        "from sklearn.impute import SimpleImputer\n",
        "from keras.callbacks import EarlyStopping\n",
        "from tensorflow.keras.optimizers import SGD, Adam\n",
        "from keras.layers import Input, Dense, Activation\n",
        "from sklearn.metrics import confusion_matrix as cm\n",
        "from sklearn.model_selection import train_test_split\n",
        "from sklearn.metrics import classification_report as cr"
      ],
      "execution_count": 46,
      "outputs": []
    },
    {
      "cell_type": "code",
      "metadata": {
        "id": "JxnNwSM0avPI",
        "colab": {
          "base_uri": "https://localhost:8080/"
        },
        "outputId": "59099998-7c69-4ede-d052-cb459d9e1686"
      },
      "source": [
        "from google.colab import drive\n",
        "drive.mount('/content/drive')"
      ],
      "execution_count": 47,
      "outputs": [
        {
          "output_type": "stream",
          "name": "stdout",
          "text": [
            "Drive already mounted at /content/drive; to attempt to forcibly remount, call drive.mount(\"/content/drive\", force_remount=True).\n"
          ]
        }
      ]
    },
    {
      "cell_type": "code",
      "metadata": {
        "id": "M77fN90ga0ds"
      },
      "source": [
        "df = pd.read_csv('/content/drive/MyDrive/preprocessed_file_v0_filtered', \n",
        "                 compression = \"zip\", header = 0, index_col = 0, sep = \"\\t\")"
      ],
      "execution_count": 48,
      "outputs": []
    },
    {
      "cell_type": "code",
      "metadata": {
        "id": "vn_Xxvz-a8u6"
      },
      "source": [
        "data = df.drop(\"CANCER_TYPE\", axis = 1)\n",
        "labels = df[\"CANCER_TYPE\"]"
      ],
      "execution_count": 49,
      "outputs": []
    },
    {
      "cell_type": "code",
      "metadata": {
        "colab": {
          "base_uri": "https://localhost:8080/"
        },
        "id": "U5nuft2Ooppi",
        "outputId": "3885f314-1c58-4403-ea40-e2f6a921445c"
      },
      "source": [
        "print(labels.unique(), len(labels.unique()))"
      ],
      "execution_count": 50,
      "outputs": [
        {
          "output_type": "stream",
          "name": "stdout",
          "text": [
            "['Glioma' 'Leukemia' 'Thyroid Cancer' 'Hepatobiliary Cancer'\n",
            " 'Mature B-Cell Neoplasms' 'Non-Small Cell Lung Cancer'\n",
            " 'Soft Tissue Sarcoma' 'Pancreatic Cancer' 'Head and Neck Cancer'\n",
            " 'Esophagogastric Cancer' 'Melanoma' 'Breast Cancer' 'Endometrial Cancer'\n",
            " 'Colorectal Cancer' 'Prostate Cancer' 'Renal Cell Carcinoma'\n",
            " 'Bladder Cancer' 'Ovarian Cancer'] 18\n"
          ]
        }
      ]
    },
    {
      "cell_type": "code",
      "metadata": {
        "id": "q6NZaK5Xejh_"
      },
      "source": [
        "encoder = preprocessing.LabelEncoder()\n",
        "classes = encoder.fit_transform(labels)"
      ],
      "execution_count": 51,
      "outputs": []
    },
    {
      "cell_type": "code",
      "metadata": {
        "colab": {
          "base_uri": "https://localhost:8080/"
        },
        "id": "Gjs0-So0bFQ8",
        "outputId": "1e4f4883-0464-4448-8434-588771c62316"
      },
      "source": [
        "x_train, x_test, y_train, y_test = train_test_split(\n",
        "\t\t\t\t\t\t\t\t\tdata, classes, \n",
        "\t\t\t\t\t\t\t\t\ttest_size = 0.2, \n",
        "\t\t\t\t\t\t\t\t\trandom_state = 0) \n",
        "\n",
        "print(y_train.shape)\n",
        "print(x_train.shape)\n",
        "print(y_test.shape)\n",
        "print(x_test.shape)"
      ],
      "execution_count": 52,
      "outputs": [
        {
          "output_type": "stream",
          "name": "stdout",
          "text": [
            "(78067,)\n",
            "(78067, 1345)\n",
            "(19517,)\n",
            "(19517, 1345)\n"
          ]
        }
      ]
    },
    {
      "cell_type": "code",
      "metadata": {
        "id": "jzRtR4kubQEC"
      },
      "source": [
        "learning_rate = 0.1\n",
        "opt = 'ADAM'\n",
        "lambda_l1 = 0.001\n",
        "size_batch = 256\n",
        "nb_epochs = 50"
      ],
      "execution_count": 53,
      "outputs": []
    },
    {
      "cell_type": "code",
      "metadata": {
        "id": "IrQ-fNyEbVY-"
      },
      "source": [
        "#6th try: Previous execution was interrupted but the performance was bad\n",
        "#Add more layers\n",
        "\n",
        "model = Sequential()\t\n",
        "\t\n",
        "model.add(\t\n",
        "\tDense(1028, input_dim = len(data.columns), activation = 'relu',\n",
        "\t      kernel_regularizer = regularizers.l1(lambda_l1)))\n",
        "\n",
        "model.add(\t\n",
        "\tDense(512, activation = 'relu',\n",
        "\t      kernel_regularizer = regularizers.l1(lambda_l1)))\n",
        "\n",
        "model.add(\t\n",
        "\tDense(128, activation = 'relu',\n",
        "\t      kernel_regularizer = regularizers.l1(lambda_l1)))\n",
        "\n",
        "model.add(\t\n",
        "\tDense(64, activation = 'relu',\n",
        "\t      kernel_regularizer = regularizers.l1(lambda_l1)))\n",
        "\t\n",
        "model.add(\t\n",
        "\tDense(len(labels.unique()), activation = 'softmax',\n",
        "\t      kernel_regularizer = regularizers.l1(lambda_l1)))\n",
        "\t\n",
        "model.compile(optimizer = opt,\t\n",
        "\t\t\t\t\t\tloss = 'sparse_categorical_crossentropy',\t\n",
        "\t\t\t\t\t\tmetrics = [\"accuracy\"])\t"
      ],
      "execution_count": 54,
      "outputs": []
    },
    {
      "cell_type": "code",
      "metadata": {
        "colab": {
          "base_uri": "https://localhost:8080/"
        },
        "id": "nif7fYW357Al",
        "outputId": "c3460c03-e6be-42ef-9d86-bad3472e10fb"
      },
      "source": [
        "model.summary()"
      ],
      "execution_count": 55,
      "outputs": [
        {
          "output_type": "stream",
          "name": "stdout",
          "text": [
            "Model: \"sequential_5\"\n",
            "_________________________________________________________________\n",
            " Layer (type)                Output Shape              Param #   \n",
            "=================================================================\n",
            " dense_20 (Dense)            (None, 1028)              1383688   \n",
            "                                                                 \n",
            " dense_21 (Dense)            (None, 512)               526848    \n",
            "                                                                 \n",
            " dense_22 (Dense)            (None, 128)               65664     \n",
            "                                                                 \n",
            " dense_23 (Dense)            (None, 64)                8256      \n",
            "                                                                 \n",
            " dense_24 (Dense)            (None, 18)                1170      \n",
            "                                                                 \n",
            "=================================================================\n",
            "Total params: 1,985,626\n",
            "Trainable params: 1,985,626\n",
            "Non-trainable params: 0\n",
            "_________________________________________________________________\n"
          ]
        }
      ]
    },
    {
      "cell_type": "code",
      "metadata": {
        "id": "HPFuHk8zbaeV"
      },
      "source": [
        "es = EarlyStopping(\n",
        "  monitor = 'val_accuracy', mode = 'max', \n",
        "\tverbose = 1, patience = 10)"
      ],
      "execution_count": 56,
      "outputs": []
    },
    {
      "cell_type": "code",
      "metadata": {
        "id": "FrXpLUs-GgMx"
      },
      "source": [
        "class_weights = class_weight.compute_class_weight(class_weight=\"balanced\", classes=np.unique(y_train), y=y_train)\n",
        "class_weights_d = {l:c for l,c in zip(np.unique(y_train), class_weights)}"
      ],
      "execution_count": 57,
      "outputs": []
    },
    {
      "cell_type": "code",
      "metadata": {
        "colab": {
          "base_uri": "https://localhost:8080/"
        },
        "id": "Qm2ZLHFMpJYq",
        "outputId": "9396585a-8fbb-4929-f37a-e351130498dc"
      },
      "source": [
        "print(class_weights_d)"
      ],
      "execution_count": 58,
      "outputs": [
        {
          "output_type": "stream",
          "name": "stdout",
          "text": [
            "{0: 1.6610706838588876, 1: 0.40367233391246793, 2: 0.4585594793355419, 3: 1.467204179822583, 4: 1.585760715011172, 5: 0.7312519904831488, 6: 3.0139371477106014, 7: 2.150250647275932, 8: 1.5472906013398342, 9: 2.040967320261438, 10: 1.1041383797239195, 11: 0.30139371477106014, 12: 1.1937945377251735, 13: 1.09771084676172, 14: 1.255661712668082, 15: 2.73804012345679, 16: 1.4832611339109287, 17: 3.1337106615285806}\n"
          ]
        }
      ]
    },
    {
      "cell_type": "code",
      "metadata": {
        "colab": {
          "base_uri": "https://localhost:8080/"
        },
        "id": "ME_hnEwDEWe4",
        "outputId": "cdfa693e-ce85-457b-86b9-4a784c7cfa21"
      },
      "source": [
        "history = model.fit(\n",
        "\tx_train, y_train, \n",
        "\tvalidation_data = (x_test, y_test), \n",
        "\tbatch_size = size_batch, \n",
        "  epochs = nb_epochs, \n",
        "  class_weight = class_weights_d,\n",
        "\tverbose = 1, callbacks = [es])"
      ],
      "execution_count": 59,
      "outputs": [
        {
          "output_type": "stream",
          "name": "stdout",
          "text": [
            "Epoch 1/50\n",
            "305/305 [==============================] - 25s 80ms/step - loss: 6.9851 - accuracy: 0.0425 - val_loss: 3.1339 - val_accuracy: 0.0499\n",
            "Epoch 2/50\n",
            "305/305 [==============================] - 21s 69ms/step - loss: 3.1337 - accuracy: 0.0611 - val_loss: 3.1297 - val_accuracy: 0.1800\n",
            "Epoch 3/50\n",
            "305/305 [==============================] - 21s 69ms/step - loss: 3.1338 - accuracy: 0.0739 - val_loss: 3.1314 - val_accuracy: 0.0500\n",
            "Epoch 4/50\n",
            "305/305 [==============================] - 21s 69ms/step - loss: 3.1337 - accuracy: 0.0412 - val_loss: 3.1326 - val_accuracy: 0.0473\n",
            "Epoch 5/50\n",
            "305/305 [==============================] - 21s 69ms/step - loss: 3.1338 - accuracy: 0.0519 - val_loss: 3.1328 - val_accuracy: 0.0499\n",
            "Epoch 6/50\n",
            "305/305 [==============================] - 21s 69ms/step - loss: 3.1338 - accuracy: 0.0585 - val_loss: 3.1349 - val_accuracy: 0.0473\n",
            "Epoch 7/50\n",
            "305/305 [==============================] - 21s 70ms/step - loss: 3.1337 - accuracy: 0.0602 - val_loss: 3.1360 - val_accuracy: 0.0364\n",
            "Epoch 8/50\n",
            "305/305 [==============================] - 21s 69ms/step - loss: 3.1337 - accuracy: 0.0358 - val_loss: 3.1360 - val_accuracy: 0.0500\n",
            "Epoch 9/50\n",
            "305/305 [==============================] - 21s 69ms/step - loss: 3.1337 - accuracy: 0.0425 - val_loss: 3.1334 - val_accuracy: 0.0342\n",
            "Epoch 10/50\n",
            "305/305 [==============================] - 21s 69ms/step - loss: 3.1337 - accuracy: 0.0563 - val_loss: 3.1327 - val_accuracy: 0.1246\n",
            "Epoch 11/50\n",
            "305/305 [==============================] - 21s 69ms/step - loss: 3.1337 - accuracy: 0.0716 - val_loss: 3.1350 - val_accuracy: 0.0342\n",
            "Epoch 12/50\n",
            "305/305 [==============================] - 21s 69ms/step - loss: 3.1337 - accuracy: 0.0271 - val_loss: 3.1330 - val_accuracy: 0.0503\n",
            "Epoch 00012: early stopping\n"
          ]
        }
      ]
    },
    {
      "cell_type": "code",
      "metadata": {
        "colab": {
          "base_uri": "https://localhost:8080/",
          "height": 165
        },
        "id": "in1rWv4YyFFG",
        "outputId": "4bed960c-2bf0-4fe2-f20e-bbef317fe682"
      },
      "source": [
        "metrics = ['loss', 'accuracy']\n",
        "for n, metric in enumerate(metrics):\n",
        "  name = metric.replace(\"_\",\" \").capitalize()\n",
        "  plt.subplot(2,2,n+1)\n",
        "  plt.plot(history.epoch, history.history[metric],  label='Train')\n",
        "  plt.plot(history.epoch, history.history['val_'+metric], linestyle=\"--\", label='Val')\n",
        "  plt.xlabel('Epoch')\n",
        "  plt.ylabel(name)\n",
        "  if metric == 'loss':\n",
        "    plt.ylim([0, plt.ylim()[1]])\n",
        "  elif metric == 'auc':\n",
        "    plt.ylim([0.8,1])\n",
        "  else:\n",
        "    plt.ylim([0,1])\n",
        "\n",
        "  plt.legend()\n",
        "\n"
      ],
      "execution_count": 61,
      "outputs": [
        {
          "output_type": "display_data",
          "data": {
            "image/png": "[encoded data removed]",
            "text/plain": [
              "<Figure size 432x288 with 2 Axes>"
            ]
          },
          "metadata": {
            "needs_background": "light"
          }
        }
      ]
    }
  ]
}