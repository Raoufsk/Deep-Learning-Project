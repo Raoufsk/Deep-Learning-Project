{
  "cells": [
    {
      "cell_type": "code",
      "execution_count": 1,
      "metadata": {
        "id": "6_Fe6vK5ak22"
      },
      "outputs": [],
      "source": [
        "import keras\n",
        "import numpy as np\n",
        "import pandas as pd\n",
        "import tensorflow as tf\n",
        "import matplotlib.pyplot as plt\n",
        "\n",
        "from keras import layers\n",
        "from keras import regularizers\n",
        "from keras.layers import Dropout\n",
        "from keras.utils import np_utils\n",
        "from sklearn import preprocessing\n",
        "from keras.models import Sequential\n",
        "from sklearn.utils import class_weight\n",
        "from sklearn.impute import SimpleImputer\n",
        "from keras.callbacks import EarlyStopping\n",
        "from tensorflow.keras.optimizers import SGD, Adam\n",
        "from keras.layers import Input, Dense, Activation\n",
        "from sklearn.metrics import confusion_matrix as cm\n",
        "from sklearn.model_selection import train_test_split\n",
        "from sklearn.metrics import classification_report as cr"
      ]
    },
    {
      "cell_type": "code",
      "execution_count": 2,
      "metadata": {
        "colab": {
          "base_uri": "https://localhost:8080/"
        },
        "id": "JxnNwSM0avPI",
        "outputId": "b4d60858-d255-4f37-ff9b-da926d9154eb"
      },
      "outputs": [
        {
          "output_type": "stream",
          "name": "stdout",
          "text": [
            "Mounted at /content/drive\n"
          ]
        }
      ],
      "source": [
        "from google.colab import drive\n",
        "drive.mount('/content/drive')"
      ]
    },
    {
      "cell_type": "code",
      "execution_count": 3,
      "metadata": {
        "colab": {
          "base_uri": "https://localhost:8080/"
        },
        "id": "M77fN90ga0ds",
        "outputId": "b099f435-4211-481a-dcaf-1ea5cbe6229d"
      },
      "outputs": [
        {
          "output_type": "stream",
          "name": "stderr",
          "text": [
            "/usr/local/lib/python3.7/dist-packages/IPython/core/interactiveshell.py:2718: DtypeWarning: Columns (1350,1351,1352) have mixed types.Specify dtype option on import or set low_memory=False.\n",
            "  interactivity=interactivity, compiler=compiler, result=result)\n"
          ]
        }
      ],
      "source": [
        "df = pd.read_csv('/content/drive/MyDrive/preprocessed_file_v1_filtered', \n",
        "                 compression = \"zip\", header = 0, index_col = 0, sep = \"\\t\")"
      ]
    },
    {
      "cell_type": "code",
      "execution_count": 4,
      "metadata": {
        "id": "4HReySaKgcYR"
      },
      "outputs": [],
      "source": [
        "df = df.replace(\"Unknown\", np.nan)\n",
        "df = df.replace(\"Not Applicable\", np.nan)\n",
        "df = df.replace(\"Not Collected\", np.nan)\n",
        "df = df.replace(\"Not collected\", np.nan)\n",
        "df = df.replace(\"Not Released\", np.nan)"
      ]
    },
    {
      "cell_type": "code",
      "execution_count": 5,
      "metadata": {
        "id": "vn_Xxvz-a8u6"
      },
      "outputs": [],
      "source": [
        "data = df.drop(\"CANCER_TYPE\", axis = 1)\n",
        "labels = df[\"CANCER_TYPE\"]"
      ]
    },
    {
      "cell_type": "code",
      "execution_count": 6,
      "metadata": {
        "id": "IJTa59vhhfB0"
      },
      "outputs": [],
      "source": [
        "for x in data[[\"SEX\", \"ETHNICITY\", \"PRIMARY_RACE\", \"DEAD\"]]:\n",
        "    data[x], _ = pd.factorize(data[x])"
      ]
    },
    {
      "cell_type": "code",
      "execution_count": 7,
      "metadata": {
        "id": "Oo1fdPl0l4Ov"
      },
      "outputs": [],
      "source": [
        "imp = SimpleImputer(missing_values = np.nan, strategy = \"constant\", fill_value = -1)\n",
        "data[[\"YEAR_CONTACT\", \"YEAR_DEATH\"]] = imp.fit_transform(data[[\"YEAR_CONTACT\", \"YEAR_DEATH\"]])\n",
        "imp = SimpleImputer(missing_values = '>89', strategy = \"constant\", fill_value = -1)\n",
        "data[[\"YEAR_CONTACT\", \"YEAR_DEATH\"]] = imp.fit_transform(data[[\"YEAR_CONTACT\", \"YEAR_DEATH\"]])\n",
        "imp = SimpleImputer(missing_values = '<18', strategy = \"constant\", fill_value = -1)\n",
        "data[[\"YEAR_CONTACT\", \"YEAR_DEATH\"]] = imp.fit_transform(data[[\"YEAR_CONTACT\", \"YEAR_DEATH\"]])"
      ]
    },
    {
      "cell_type": "code",
      "execution_count": 8,
      "metadata": {
        "id": "at7vU3R8vnom"
      },
      "outputs": [],
      "source": [
        "data = data.astype(int)"
      ]
    },
    {
      "cell_type": "code",
      "execution_count": 9,
      "metadata": {
        "colab": {
          "base_uri": "https://localhost:8080/"
        },
        "id": "U5nuft2Ooppi",
        "outputId": "7101deb3-6a31-411a-b353-ed5fe3987bc4"
      },
      "outputs": [
        {
          "output_type": "stream",
          "name": "stdout",
          "text": [
            "['Glioma' 'Leukemia' 'Thyroid Cancer' 'Hepatobiliary Cancer'\n",
            " 'Mature B-Cell Neoplasms' 'Non-Small Cell Lung Cancer'\n",
            " 'Soft Tissue Sarcoma' 'Pancreatic Cancer' 'Head and Neck Cancer'\n",
            " 'Esophagogastric Cancer' 'Melanoma' 'Breast Cancer' 'Endometrial Cancer'\n",
            " 'Colorectal Cancer' 'Prostate Cancer' 'Renal Cell Carcinoma'\n",
            " 'Bladder Cancer' 'Ovarian Cancer'] 18\n"
          ]
        }
      ],
      "source": [
        "print(labels.unique(), len(labels.unique()))"
      ]
    },
    {
      "cell_type": "code",
      "execution_count": 10,
      "metadata": {
        "id": "q6NZaK5Xejh_"
      },
      "outputs": [],
      "source": [
        "encoder = preprocessing.LabelEncoder()\n",
        "classes = encoder.fit_transform(labels)"
      ]
    },
    {
      "cell_type": "code",
      "execution_count": 11,
      "metadata": {
        "colab": {
          "base_uri": "https://localhost:8080/"
        },
        "id": "Gjs0-So0bFQ8",
        "outputId": "0564d484-dbb4-474a-8b67-a6f71babb92a"
      },
      "outputs": [
        {
          "output_type": "stream",
          "name": "stdout",
          "text": [
            "(78067,)\n",
            "(78067, 1351)\n",
            "(19517,)\n",
            "(19517, 1351)\n"
          ]
        }
      ],
      "source": [
        "x_train, x_test, y_train, y_test = train_test_split(\n",
        "\t\t\t\t\t\t\t\t\tdata, classes, \n",
        "\t\t\t\t\t\t\t\t\ttest_size = 0.2, \n",
        "\t\t\t\t\t\t\t\t\trandom_state = 0) \n",
        "\n",
        "print(y_train.shape)\n",
        "print(x_train.shape)\n",
        "print(y_test.shape)\n",
        "print(x_test.shape)"
      ]
    },
    {
      "cell_type": "code",
      "execution_count": 13,
      "metadata": {
        "id": "jzRtR4kubQEC"
      },
      "outputs": [],
      "source": [
        "learning_rate = 0.1\n",
        "opt = 'ADAM'\n",
        "size_batch = 128\n",
        "nb_epochs = 50"
      ]
    },
    {
      "cell_type": "code",
      "execution_count": 14,
      "metadata": {
        "id": "IrQ-fNyEbVY-"
      },
      "outputs": [],
      "source": [
        "#10th try: added patient data\n",
        "\n",
        "model = Sequential()\t\n",
        "\t\n",
        "model.add(\t\n",
        "\tDense(512, input_dim = x_train.shape[1], activation = 'relu'))\n",
        "\n",
        "model.add(Dropout(0.5))\n",
        "\n",
        "model.add(\t\n",
        "\tDense(128, activation = 'relu'))\n",
        "\n",
        "model.add(Dropout(0.3))\n",
        "\n",
        "model.add(\t\n",
        "\tDense(32, activation = 'relu',\n",
        "\t      kernel_regularizer = regularizers.l2(0.3)))\n",
        "\t\n",
        "model.add(\t\n",
        "\tDense(len(labels.unique()), activation = 'softmax',\n",
        "\t      kernel_regularizer = regularizers.l2(0.3)))\n",
        "\t\n",
        "model.compile(optimizer = opt,\t\n",
        "\t\t\t\t\t\tloss = 'sparse_categorical_crossentropy',\t\n",
        "\t\t\t\t\t\tmetrics = [\"accuracy\"])\t"
      ]
    },
    {
      "cell_type": "code",
      "execution_count": 15,
      "metadata": {
        "colab": {
          "base_uri": "https://localhost:8080/"
        },
        "id": "nif7fYW357Al",
        "outputId": "662240b9-6366-4d42-c647-502dcd4c6a83"
      },
      "outputs": [
        {
          "output_type": "stream",
          "name": "stdout",
          "text": [
            "Model: \"sequential\"\n",
            "_________________________________________________________________\n",
            " Layer (type)                Output Shape              Param #   \n",
            "=================================================================\n",
            " dense (Dense)               (None, 512)               692224    \n",
            "                                                                 \n",
            " dropout (Dropout)           (None, 512)               0         \n",
            "                                                                 \n",
            " dense_1 (Dense)             (None, 128)               65664     \n",
            "                                                                 \n",
            " dropout_1 (Dropout)         (None, 128)               0         \n",
            "                                                                 \n",
            " dense_2 (Dense)             (None, 32)                4128      \n",
            "                                                                 \n",
            " dense_3 (Dense)             (None, 18)                594       \n",
            "                                                                 \n",
            "=================================================================\n",
            "Total params: 762,610\n",
            "Trainable params: 762,610\n",
            "Non-trainable params: 0\n",
            "_________________________________________________________________\n"
          ]
        }
      ],
      "source": [
        "model.summary()"
      ]
    },
    {
      "cell_type": "code",
      "execution_count": 16,
      "metadata": {
        "id": "HPFuHk8zbaeV"
      },
      "outputs": [],
      "source": [
        "es = EarlyStopping(\n",
        "  monitor = 'val_accuracy', mode = 'max', \n",
        "\tverbose = 1, patience = 30)"
      ]
    },
    {
      "cell_type": "code",
      "execution_count": 17,
      "metadata": {
        "id": "FrXpLUs-GgMx"
      },
      "outputs": [],
      "source": [
        "class_weights = class_weight.compute_class_weight(class_weight=\"balanced\", classes=np.unique(y_train), y=y_train)\n",
        "class_weights_d = {l:c for l,c in zip(np.unique(y_train), class_weights)}"
      ]
    },
    {
      "cell_type": "code",
      "execution_count": 18,
      "metadata": {
        "colab": {
          "base_uri": "https://localhost:8080/"
        },
        "id": "ME_hnEwDEWe4",
        "outputId": "2c730861-6559-417c-e2dc-5b4f07422daf"
      },
      "outputs": [
        {
          "output_type": "stream",
          "name": "stdout",
          "text": [
            "Epoch 1/50\n",
            "610/610 [==============================] - 11s 17ms/step - loss: 15.5319 - accuracy: 0.0664 - val_loss: 5.9765 - val_accuracy: 0.0695\n",
            "Epoch 2/50\n",
            "610/610 [==============================] - 10s 16ms/step - loss: 4.1505 - accuracy: 0.0661 - val_loss: 3.2633 - val_accuracy: 0.0681\n",
            "Epoch 3/50\n",
            "610/610 [==============================] - 10s 17ms/step - loss: 2.9877 - accuracy: 0.0639 - val_loss: 2.8733 - val_accuracy: 0.0581\n",
            "Epoch 4/50\n",
            "610/610 [==============================] - 10s 17ms/step - loss: 2.8124 - accuracy: 0.0609 - val_loss: 2.8151 - val_accuracy: 0.0631\n",
            "Epoch 5/50\n",
            "610/610 [==============================] - 10s 16ms/step - loss: 2.7780 - accuracy: 0.0590 - val_loss: 2.8124 - val_accuracy: 0.0701\n",
            "Epoch 6/50\n",
            "610/610 [==============================] - 10s 17ms/step - loss: 2.7686 - accuracy: 0.0583 - val_loss: 2.8030 - val_accuracy: 0.0780\n",
            "Epoch 7/50\n",
            "610/610 [==============================] - 10s 16ms/step - loss: 2.7643 - accuracy: 0.0591 - val_loss: 2.7987 - val_accuracy: 0.0590\n",
            "Epoch 8/50\n",
            "610/610 [==============================] - 10s 17ms/step - loss: 2.7601 - accuracy: 0.0600 - val_loss: 2.8118 - val_accuracy: 0.0497\n",
            "Epoch 9/50\n",
            "610/610 [==============================] - 10s 16ms/step - loss: 2.7586 - accuracy: 0.0564 - val_loss: 2.7917 - val_accuracy: 0.0442\n",
            "Epoch 10/50\n",
            "610/610 [==============================] - 10s 17ms/step - loss: 2.7563 - accuracy: 0.0602 - val_loss: 2.8117 - val_accuracy: 0.0499\n",
            "Epoch 11/50\n",
            "610/610 [==============================] - 10s 16ms/step - loss: 2.7547 - accuracy: 0.0633 - val_loss: 2.8018 - val_accuracy: 0.0501\n",
            "Epoch 12/50\n",
            "610/610 [==============================] - 10s 16ms/step - loss: 2.7536 - accuracy: 0.0584 - val_loss: 2.7920 - val_accuracy: 0.0569\n",
            "Epoch 13/50\n",
            "610/610 [==============================] - 10s 16ms/step - loss: 2.7539 - accuracy: 0.0645 - val_loss: 2.7794 - val_accuracy: 0.0644\n",
            "Epoch 14/50\n",
            "610/610 [==============================] - 10s 16ms/step - loss: 2.7525 - accuracy: 0.0668 - val_loss: 2.7697 - val_accuracy: 0.0852\n",
            "Epoch 15/50\n",
            "610/610 [==============================] - 10s 16ms/step - loss: 2.7502 - accuracy: 0.0680 - val_loss: 2.7857 - val_accuracy: 0.0724\n",
            "Epoch 16/50\n",
            "610/610 [==============================] - 10s 17ms/step - loss: 2.7486 - accuracy: 0.0696 - val_loss: 2.8104 - val_accuracy: 0.0693\n",
            "Epoch 17/50\n",
            "610/610 [==============================] - 10s 17ms/step - loss: 2.7461 - accuracy: 0.0728 - val_loss: 2.7820 - val_accuracy: 0.0986\n",
            "Epoch 18/50\n",
            "610/610 [==============================] - 10s 16ms/step - loss: 2.7392 - accuracy: 0.0866 - val_loss: 2.7757 - val_accuracy: 0.0791\n",
            "Epoch 19/50\n",
            "610/610 [==============================] - 10s 16ms/step - loss: 2.7132 - accuracy: 0.0956 - val_loss: 2.7570 - val_accuracy: 0.0955\n",
            "Epoch 20/50\n",
            "610/610 [==============================] - 10s 16ms/step - loss: 2.6736 - accuracy: 0.1156 - val_loss: 2.7115 - val_accuracy: 0.1258\n",
            "Epoch 21/50\n",
            "610/610 [==============================] - 10s 16ms/step - loss: 2.6232 - accuracy: 0.1333 - val_loss: 2.5698 - val_accuracy: 0.1788\n",
            "Epoch 22/50\n",
            "610/610 [==============================] - 10s 16ms/step - loss: 2.5682 - accuracy: 0.1572 - val_loss: 2.5949 - val_accuracy: 0.1816\n",
            "Epoch 23/50\n",
            "610/610 [==============================] - 10s 16ms/step - loss: 2.5306 - accuracy: 0.1681 - val_loss: 2.4973 - val_accuracy: 0.2131\n",
            "Epoch 24/50\n",
            "610/610 [==============================] - 10s 17ms/step - loss: 2.4979 - accuracy: 0.1771 - val_loss: 2.4669 - val_accuracy: 0.2191\n",
            "Epoch 25/50\n",
            "610/610 [==============================] - 10s 16ms/step - loss: 2.4708 - accuracy: 0.1866 - val_loss: 2.4549 - val_accuracy: 0.2231\n",
            "Epoch 26/50\n",
            "610/610 [==============================] - 10s 17ms/step - loss: 2.4446 - accuracy: 0.1992 - val_loss: 2.4486 - val_accuracy: 0.2469\n",
            "Epoch 27/50\n",
            "610/610 [==============================] - 10s 16ms/step - loss: 2.4232 - accuracy: 0.2074 - val_loss: 2.3874 - val_accuracy: 0.2509\n",
            "Epoch 28/50\n",
            "610/610 [==============================] - 10s 17ms/step - loss: 2.4102 - accuracy: 0.2152 - val_loss: 2.3607 - val_accuracy: 0.2394\n",
            "Epoch 29/50\n",
            "610/610 [==============================] - 10s 16ms/step - loss: 2.3995 - accuracy: 0.2222 - val_loss: 2.4154 - val_accuracy: 0.2292\n",
            "Epoch 30/50\n",
            "610/610 [==============================] - 10s 16ms/step - loss: 2.3865 - accuracy: 0.2277 - val_loss: 2.3796 - val_accuracy: 0.2432\n",
            "Epoch 31/50\n",
            "610/610 [==============================] - 10s 16ms/step - loss: 2.3694 - accuracy: 0.2360 - val_loss: 2.2938 - val_accuracy: 0.3074\n",
            "Epoch 32/50\n",
            "610/610 [==============================] - 10s 17ms/step - loss: 2.3580 - accuracy: 0.2419 - val_loss: 2.3029 - val_accuracy: 0.3157\n",
            "Epoch 33/50\n",
            "610/610 [==============================] - 10s 17ms/step - loss: 2.3553 - accuracy: 0.2443 - val_loss: 2.3630 - val_accuracy: 0.2994\n",
            "Epoch 34/50\n",
            "610/610 [==============================] - 10s 17ms/step - loss: 2.3441 - accuracy: 0.2493 - val_loss: 2.3286 - val_accuracy: 0.2786\n",
            "Epoch 35/50\n",
            "610/610 [==============================] - 10s 16ms/step - loss: 2.3384 - accuracy: 0.2544 - val_loss: 2.3349 - val_accuracy: 0.3059\n",
            "Epoch 36/50\n",
            "610/610 [==============================] - 12s 20ms/step - loss: 2.3293 - accuracy: 0.2575 - val_loss: 2.2524 - val_accuracy: 0.3173\n",
            "Epoch 37/50\n",
            "610/610 [==============================] - 10s 17ms/step - loss: 2.3222 - accuracy: 0.2611 - val_loss: 2.2530 - val_accuracy: 0.3191\n",
            "Epoch 38/50\n",
            "610/610 [==============================] - 11s 17ms/step - loss: 2.3078 - accuracy: 0.2654 - val_loss: 2.2749 - val_accuracy: 0.3098\n",
            "Epoch 39/50\n",
            "610/610 [==============================] - 10s 17ms/step - loss: 2.3118 - accuracy: 0.2677 - val_loss: 2.2573 - val_accuracy: 0.3059\n",
            "Epoch 40/50\n",
            "610/610 [==============================] - 10s 17ms/step - loss: 2.3084 - accuracy: 0.2694 - val_loss: 2.2608 - val_accuracy: 0.3048\n",
            "Epoch 41/50\n",
            "610/610 [==============================] - 10s 17ms/step - loss: 2.2981 - accuracy: 0.2725 - val_loss: 2.2573 - val_accuracy: 0.3159\n",
            "Epoch 42/50\n",
            "610/610 [==============================] - 10s 17ms/step - loss: 2.2947 - accuracy: 0.2764 - val_loss: 2.2324 - val_accuracy: 0.3160\n",
            "Epoch 43/50\n",
            "610/610 [==============================] - 10s 17ms/step - loss: 2.2865 - accuracy: 0.2776 - val_loss: 2.3063 - val_accuracy: 0.3005\n",
            "Epoch 44/50\n",
            "610/610 [==============================] - 10s 17ms/step - loss: 2.2916 - accuracy: 0.2777 - val_loss: 2.2253 - val_accuracy: 0.3164\n",
            "Epoch 45/50\n",
            "610/610 [==============================] - 10s 17ms/step - loss: 2.2906 - accuracy: 0.2787 - val_loss: 2.2108 - val_accuracy: 0.3490\n",
            "Epoch 46/50\n",
            "610/610 [==============================] - 10s 17ms/step - loss: 2.2877 - accuracy: 0.2823 - val_loss: 2.2637 - val_accuracy: 0.2810\n",
            "Epoch 47/50\n",
            "610/610 [==============================] - 10s 17ms/step - loss: 2.2790 - accuracy: 0.2822 - val_loss: 2.2362 - val_accuracy: 0.3338\n",
            "Epoch 48/50\n",
            "610/610 [==============================] - 10s 17ms/step - loss: 2.2699 - accuracy: 0.2882 - val_loss: 2.2565 - val_accuracy: 0.3034\n",
            "Epoch 49/50\n",
            "610/610 [==============================] - 10s 17ms/step - loss: 2.2721 - accuracy: 0.2869 - val_loss: 2.2227 - val_accuracy: 0.3123\n",
            "Epoch 50/50\n",
            "610/610 [==============================] - 10s 17ms/step - loss: 2.2694 - accuracy: 0.2862 - val_loss: 2.2331 - val_accuracy: 0.3418\n"
          ]
        }
      ],
      "source": [
        "history = model.fit(\n",
        "\tx_train, y_train, \n",
        "\tvalidation_data = (x_test, y_test), \n",
        "\tbatch_size = size_batch, \n",
        "  epochs = nb_epochs, \n",
        "  class_weight = class_weights_d,\n",
        "\tverbose = 1, callbacks = [es])"
      ]
    },
    {
      "cell_type": "code",
      "execution_count": 19,
      "metadata": {
        "colab": {
          "base_uri": "https://localhost:8080/",
          "height": 165
        },
        "id": "in1rWv4YyFFG",
        "outputId": "e85acf52-8db3-4f9a-dc33-0499a03e8406"
      },
      "outputs": [
        {
          "output_type": "display_data",
          "data": {
            "image/png": "[encoded data removed]",
            "text/plain": [
              "<Figure size 432x288 with 2 Axes>"
            ]
          },
          "metadata": {
            "needs_background": "light"
          }
        }
      ],
      "source": [
        "metrics = ['loss', 'accuracy']\n",
        "for n, metric in enumerate(metrics):\n",
        "  name = metric.replace(\"_\",\" \").capitalize()\n",
        "  plt.subplot(2,2,n+1)\n",
        "  plt.plot(history.epoch, history.history[metric],  label='Train')\n",
        "  plt.plot(history.epoch, history.history['val_'+metric], linestyle=\"--\", label='Val')\n",
        "  plt.xlabel('Epoch')\n",
        "  plt.ylabel(name)\n",
        "  if metric == 'loss':\n",
        "    plt.ylim([0, plt.ylim()[1]])\n",
        "  elif metric == 'auc':\n",
        "    plt.ylim([0.8,1])\n",
        "  else:\n",
        "    plt.ylim([0,1])\n",
        "\n",
        "  plt.legend()\n",
        "\n"
      ]
    }
  ],
  "metadata": {
    "colab": {
      "collapsed_sections": [],
      "name": "MLP_patient_genomic_0.ipynb",
      "provenance": []
    },
    "kernelspec": {
      "display_name": "Python 3",
      "name": "python3"
    },
    "language_info": {
      "name": "python"
    }
  },
  "nbformat": 4,
  "nbformat_minor": 0
}