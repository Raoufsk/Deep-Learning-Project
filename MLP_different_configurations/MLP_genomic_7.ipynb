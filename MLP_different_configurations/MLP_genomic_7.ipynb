{
  "nbformat": 4,
  "nbformat_minor": 0,
  "metadata": {
    "colab": {
      "name": "MLP_genomic_7.ipynb",
      "provenance": [],
      "collapsed_sections": []
    },
    "kernelspec": {
      "display_name": "Python 3",
      "name": "python3"
    },
    "language_info": {
      "name": "python"
    }
  },
  "cells": [
    {
      "cell_type": "code",
      "metadata": {
        "id": "6_Fe6vK5ak22"
      },
      "source": [
        "import keras\n",
        "import numpy as np\n",
        "import pandas as pd\n",
        "import tensorflow as tf\n",
        "import matplotlib.pyplot as plt\n",
        "\n",
        "from keras import layers\n",
        "from keras import regularizers\n",
        "from keras.layers import Dropout\n",
        "from keras.utils import np_utils\n",
        "from sklearn import preprocessing\n",
        "from keras.models import Sequential\n",
        "from sklearn.utils import class_weight\n",
        "from sklearn.impute import SimpleImputer\n",
        "from keras.callbacks import EarlyStopping\n",
        "from tensorflow.keras.optimizers import SGD, Adam\n",
        "from keras.layers import Input, Dense, Activation\n",
        "from sklearn.metrics import confusion_matrix as cm\n",
        "from sklearn.model_selection import train_test_split\n",
        "from sklearn.metrics import classification_report as cr"
      ],
      "execution_count": 46,
      "outputs": []
    },
    {
      "cell_type": "code",
      "metadata": {
        "id": "JxnNwSM0avPI",
        "colab": {
          "base_uri": "https://localhost:8080/"
        },
        "outputId": "59099998-7c69-4ede-d052-cb459d9e1686"
      },
      "source": [
        "from google.colab import drive\n",
        "drive.mount('/content/drive')"
      ],
      "execution_count": 47,
      "outputs": [
        {
          "output_type": "stream",
          "name": "stdout",
          "text": [
            "Drive already mounted at /content/drive; to attempt to forcibly remount, call drive.mount(\"/content/drive\", force_remount=True).\n"
          ]
        }
      ]
    },
    {
      "cell_type": "code",
      "metadata": {
        "id": "M77fN90ga0ds"
      },
      "source": [
        "df = pd.read_csv('/content/drive/MyDrive/preprocessed_file_v0_filtered', \n",
        "                 compression = \"zip\", header = 0, index_col = 0, sep = \"\\t\")"
      ],
      "execution_count": 48,
      "outputs": []
    },
    {
      "cell_type": "code",
      "metadata": {
        "id": "vn_Xxvz-a8u6"
      },
      "source": [
        "data = df.drop(\"CANCER_TYPE\", axis = 1)\n",
        "labels = df[\"CANCER_TYPE\"]"
      ],
      "execution_count": 49,
      "outputs": []
    },
    {
      "cell_type": "code",
      "metadata": {
        "colab": {
          "base_uri": "https://localhost:8080/"
        },
        "id": "U5nuft2Ooppi",
        "outputId": "3885f314-1c58-4403-ea40-e2f6a921445c"
      },
      "source": [
        "print(labels.unique(), len(labels.unique()))"
      ],
      "execution_count": 50,
      "outputs": [
        {
          "output_type": "stream",
          "name": "stdout",
          "text": [
            "['Glioma' 'Leukemia' 'Thyroid Cancer' 'Hepatobiliary Cancer'\n",
            " 'Mature B-Cell Neoplasms' 'Non-Small Cell Lung Cancer'\n",
            " 'Soft Tissue Sarcoma' 'Pancreatic Cancer' 'Head and Neck Cancer'\n",
            " 'Esophagogastric Cancer' 'Melanoma' 'Breast Cancer' 'Endometrial Cancer'\n",
            " 'Colorectal Cancer' 'Prostate Cancer' 'Renal Cell Carcinoma'\n",
            " 'Bladder Cancer' 'Ovarian Cancer'] 18\n"
          ]
        }
      ]
    },
    {
      "cell_type": "code",
      "metadata": {
        "id": "q6NZaK5Xejh_"
      },
      "source": [
        "encoder = preprocessing.LabelEncoder()\n",
        "classes = encoder.fit_transform(labels)"
      ],
      "execution_count": 51,
      "outputs": []
    },
    {
      "cell_type": "code",
      "metadata": {
        "colab": {
          "base_uri": "https://localhost:8080/"
        },
        "id": "Gjs0-So0bFQ8",
        "outputId": "1e4f4883-0464-4448-8434-588771c62316"
      },
      "source": [
        "x_train, x_test, y_train, y_test = train_test_split(\n",
        "\t\t\t\t\t\t\t\t\tdata, classes, \n",
        "\t\t\t\t\t\t\t\t\ttest_size = 0.2, \n",
        "\t\t\t\t\t\t\t\t\trandom_state = 0) \n",
        "\n",
        "print(y_train.shape)\n",
        "print(x_train.shape)\n",
        "print(y_test.shape)\n",
        "print(x_test.shape)"
      ],
      "execution_count": 52,
      "outputs": [
        {
          "output_type": "stream",
          "name": "stdout",
          "text": [
            "(78067,)\n",
            "(78067, 1345)\n",
            "(19517,)\n",
            "(19517, 1345)\n"
          ]
        }
      ]
    },
    {
      "cell_type": "code",
      "metadata": {
        "id": "jzRtR4kubQEC"
      },
      "source": [
        "learning_rate = 0.1\n",
        "opt = 'ADAM'\n",
        "size_batch = 256\n",
        "nb_epochs = 50"
      ],
      "execution_count": 62,
      "outputs": []
    },
    {
      "cell_type": "code",
      "metadata": {
        "id": "IrQ-fNyEbVY-"
      },
      "source": [
        "#8th try: There is a huge overfitting when removing the regularizers. I will try dropout instead\n",
        "\n",
        "model = Sequential()\t\n",
        "\t\n",
        "model.add(\t\n",
        "\tDense(1028, input_dim = len(data.columns), activation = 'relu'))\n",
        "\n",
        "model.add(Dropout(0.5))\n",
        "\n",
        "model.add(\t\n",
        "\tDense(512, activation = 'relu'))\n",
        "\n",
        "model.add(Dropout(0.5))\n",
        "\n",
        "model.add(\t\n",
        "\tDense(128, activation = 'relu'))\n",
        "\n",
        "model.add(Dropout(0.3))\n",
        "\n",
        "model.add(\t\n",
        "\tDense(64, activation = 'relu'))\n",
        "\t\n",
        "model.add(\t\n",
        "\tDense(len(labels.unique()), activation = 'softmax'))\n",
        "\t\n",
        "model.compile(optimizer = opt,\t\n",
        "\t\t\t\t\t\tloss = 'sparse_categorical_crossentropy',\t\n",
        "\t\t\t\t\t\tmetrics = [\"accuracy\"])\t"
      ],
      "execution_count": 70,
      "outputs": []
    },
    {
      "cell_type": "code",
      "metadata": {
        "colab": {
          "base_uri": "https://localhost:8080/"
        },
        "id": "nif7fYW357Al",
        "outputId": "123bc837-a7a4-4ff9-daa8-cc0d8c5a0f57"
      },
      "source": [
        "model.summary()"
      ],
      "execution_count": 71,
      "outputs": [
        {
          "output_type": "stream",
          "name": "stdout",
          "text": [
            "Model: \"sequential_7\"\n",
            "_________________________________________________________________\n",
            " Layer (type)                Output Shape              Param #   \n",
            "=================================================================\n",
            " dense_30 (Dense)            (None, 1028)              1383688   \n",
            "                                                                 \n",
            " dropout (Dropout)           (None, 1028)              0         \n",
            "                                                                 \n",
            " dense_31 (Dense)            (None, 512)               526848    \n",
            "                                                                 \n",
            " dropout_1 (Dropout)         (None, 512)               0         \n",
            "                                                                 \n",
            " dense_32 (Dense)            (None, 128)               65664     \n",
            "                                                                 \n",
            " dropout_2 (Dropout)         (None, 128)               0         \n",
            "                                                                 \n",
            " dense_33 (Dense)            (None, 64)                8256      \n",
            "                                                                 \n",
            " dense_34 (Dense)            (None, 18)                1170      \n",
            "                                                                 \n",
            "=================================================================\n",
            "Total params: 1,985,626\n",
            "Trainable params: 1,985,626\n",
            "Non-trainable params: 0\n",
            "_________________________________________________________________\n"
          ]
        }
      ]
    },
    {
      "cell_type": "code",
      "metadata": {
        "id": "HPFuHk8zbaeV"
      },
      "source": [
        "es = EarlyStopping(\n",
        "  monitor = 'val_accuracy', mode = 'max', \n",
        "\tverbose = 1, patience = 10)"
      ],
      "execution_count": 65,
      "outputs": []
    },
    {
      "cell_type": "code",
      "metadata": {
        "id": "FrXpLUs-GgMx"
      },
      "source": [
        "class_weights = class_weight.compute_class_weight(class_weight=\"balanced\", classes=np.unique(y_train), y=y_train)\n",
        "class_weights_d = {l:c for l,c in zip(np.unique(y_train), class_weights)}"
      ],
      "execution_count": 66,
      "outputs": []
    },
    {
      "cell_type": "code",
      "metadata": {
        "colab": {
          "base_uri": "https://localhost:8080/"
        },
        "id": "Qm2ZLHFMpJYq",
        "outputId": "3ac620a3-7e30-4254-96fc-45958bd6629c"
      },
      "source": [
        "print(class_weights_d)"
      ],
      "execution_count": 67,
      "outputs": [
        {
          "output_type": "stream",
          "name": "stdout",
          "text": [
            "{0: 1.6610706838588876, 1: 0.40367233391246793, 2: 0.4585594793355419, 3: 1.467204179822583, 4: 1.585760715011172, 5: 0.7312519904831488, 6: 3.0139371477106014, 7: 2.150250647275932, 8: 1.5472906013398342, 9: 2.040967320261438, 10: 1.1041383797239195, 11: 0.30139371477106014, 12: 1.1937945377251735, 13: 1.09771084676172, 14: 1.255661712668082, 15: 2.73804012345679, 16: 1.4832611339109287, 17: 3.1337106615285806}\n"
          ]
        }
      ]
    },
    {
      "cell_type": "code",
      "metadata": {
        "colab": {
          "base_uri": "https://localhost:8080/"
        },
        "id": "ME_hnEwDEWe4",
        "outputId": "3e51e1d9-e7e8-4db3-90be-4128afd11bd2"
      },
      "source": [
        "history = model.fit(\n",
        "\tx_train, y_train, \n",
        "\tvalidation_data = (x_test, y_test), \n",
        "\tbatch_size = size_batch, \n",
        "  epochs = nb_epochs, \n",
        "  class_weight = class_weights_d,\n",
        "\tverbose = 1, callbacks = [es])"
      ],
      "execution_count": 72,
      "outputs": [
        {
          "output_type": "stream",
          "name": "stdout",
          "text": [
            "Epoch 1/50\n",
            "305/305 [==============================] - 21s 67ms/step - loss: 2.1778 - accuracy: 0.3616 - val_loss: 1.8010 - val_accuracy: 0.4668\n",
            "Epoch 2/50\n",
            "305/305 [==============================] - 20s 66ms/step - loss: 1.8089 - accuracy: 0.4670 - val_loss: 1.7145 - val_accuracy: 0.4861\n",
            "Epoch 3/50\n",
            "305/305 [==============================] - 20s 66ms/step - loss: 1.6936 - accuracy: 0.4903 - val_loss: 1.6975 - val_accuracy: 0.4927\n",
            "Epoch 4/50\n",
            "305/305 [==============================] - 20s 66ms/step - loss: 1.6003 - accuracy: 0.5083 - val_loss: 1.6876 - val_accuracy: 0.4883\n",
            "Epoch 5/50\n",
            "305/305 [==============================] - 20s 66ms/step - loss: 1.5204 - accuracy: 0.5234 - val_loss: 1.6774 - val_accuracy: 0.4934\n",
            "Epoch 6/50\n",
            "305/305 [==============================] - 20s 65ms/step - loss: 1.4445 - accuracy: 0.5399 - val_loss: 1.6979 - val_accuracy: 0.4931\n",
            "Epoch 7/50\n",
            "305/305 [==============================] - 20s 66ms/step - loss: 1.3839 - accuracy: 0.5508 - val_loss: 1.7136 - val_accuracy: 0.4934\n",
            "Epoch 8/50\n",
            "305/305 [==============================] - 20s 66ms/step - loss: 1.3260 - accuracy: 0.5656 - val_loss: 1.7031 - val_accuracy: 0.5002\n",
            "Epoch 9/50\n",
            "305/305 [==============================] - 20s 66ms/step - loss: 1.2808 - accuracy: 0.5749 - val_loss: 1.7315 - val_accuracy: 0.4921\n",
            "Epoch 10/50\n",
            "305/305 [==============================] - 20s 65ms/step - loss: 1.2404 - accuracy: 0.5857 - val_loss: 1.7479 - val_accuracy: 0.4973\n",
            "Epoch 11/50\n",
            "305/305 [==============================] - 20s 65ms/step - loss: 1.2060 - accuracy: 0.5932 - val_loss: 1.7700 - val_accuracy: 0.4936\n",
            "Epoch 12/50\n",
            "305/305 [==============================] - 20s 66ms/step - loss: 1.1752 - accuracy: 0.5996 - val_loss: 1.7716 - val_accuracy: 0.4930\n",
            "Epoch 13/50\n",
            "305/305 [==============================] - 20s 66ms/step - loss: 1.1471 - accuracy: 0.6074 - val_loss: 1.7814 - val_accuracy: 0.4950\n",
            "Epoch 14/50\n",
            "305/305 [==============================] - 20s 66ms/step - loss: 1.1287 - accuracy: 0.6108 - val_loss: 1.8031 - val_accuracy: 0.4958\n",
            "Epoch 15/50\n",
            "305/305 [==============================] - 20s 66ms/step - loss: 1.1002 - accuracy: 0.6199 - val_loss: 1.8221 - val_accuracy: 0.4998\n",
            "Epoch 16/50\n",
            "305/305 [==============================] - 20s 66ms/step - loss: 1.0824 - accuracy: 0.6231 - val_loss: 1.8426 - val_accuracy: 0.4993\n",
            "Epoch 17/50\n",
            "305/305 [==============================] - 20s 66ms/step - loss: 1.0724 - accuracy: 0.6280 - val_loss: 1.8434 - val_accuracy: 0.4994\n",
            "Epoch 18/50\n",
            "305/305 [==============================] - 20s 66ms/step - loss: 1.0543 - accuracy: 0.6340 - val_loss: 1.8295 - val_accuracy: 0.5024\n",
            "Epoch 19/50\n",
            "305/305 [==============================] - 20s 66ms/step - loss: 1.0425 - accuracy: 0.6367 - val_loss: 1.8730 - val_accuracy: 0.4978\n",
            "Epoch 20/50\n",
            "305/305 [==============================] - 20s 66ms/step - loss: 1.0286 - accuracy: 0.6429 - val_loss: 1.8824 - val_accuracy: 0.5037\n",
            "Epoch 21/50\n",
            "305/305 [==============================] - 20s 67ms/step - loss: 1.0153 - accuracy: 0.6459 - val_loss: 1.8912 - val_accuracy: 0.4982\n",
            "Epoch 22/50\n",
            "305/305 [==============================] - 20s 66ms/step - loss: 1.0029 - accuracy: 0.6507 - val_loss: 1.8768 - val_accuracy: 0.5032\n",
            "Epoch 23/50\n",
            "305/305 [==============================] - 20s 66ms/step - loss: 0.9993 - accuracy: 0.6504 - val_loss: 1.8862 - val_accuracy: 0.4984\n",
            "Epoch 24/50\n",
            "305/305 [==============================] - 20s 66ms/step - loss: 0.9813 - accuracy: 0.6574 - val_loss: 1.9182 - val_accuracy: 0.5030\n",
            "Epoch 25/50\n",
            "305/305 [==============================] - 20s 66ms/step - loss: 0.9788 - accuracy: 0.6579 - val_loss: 1.9319 - val_accuracy: 0.5001\n",
            "Epoch 26/50\n",
            "305/305 [==============================] - 20s 66ms/step - loss: 0.9665 - accuracy: 0.6608 - val_loss: 1.9220 - val_accuracy: 0.5042\n",
            "Epoch 27/50\n",
            "305/305 [==============================] - 20s 66ms/step - loss: 0.9607 - accuracy: 0.6651 - val_loss: 1.9412 - val_accuracy: 0.4970\n",
            "Epoch 28/50\n",
            "305/305 [==============================] - 20s 66ms/step - loss: 0.9507 - accuracy: 0.6659 - val_loss: 1.9538 - val_accuracy: 0.4987\n",
            "Epoch 29/50\n",
            "305/305 [==============================] - 20s 66ms/step - loss: 0.9406 - accuracy: 0.6695 - val_loss: 1.9580 - val_accuracy: 0.5043\n",
            "Epoch 30/50\n",
            "305/305 [==============================] - 20s 66ms/step - loss: 0.9369 - accuracy: 0.6710 - val_loss: 1.9411 - val_accuracy: 0.5044\n",
            "Epoch 31/50\n",
            "305/305 [==============================] - 20s 66ms/step - loss: 0.9272 - accuracy: 0.6753 - val_loss: 1.9411 - val_accuracy: 0.5066\n",
            "Epoch 32/50\n",
            "305/305 [==============================] - 20s 66ms/step - loss: 0.9266 - accuracy: 0.6752 - val_loss: 1.9714 - val_accuracy: 0.5063\n",
            "Epoch 33/50\n",
            "305/305 [==============================] - 20s 66ms/step - loss: 0.9225 - accuracy: 0.6764 - val_loss: 1.9739 - val_accuracy: 0.5058\n",
            "Epoch 34/50\n",
            "305/305 [==============================] - 20s 66ms/step - loss: 0.9181 - accuracy: 0.6778 - val_loss: 1.9809 - val_accuracy: 0.5061\n",
            "Epoch 35/50\n",
            "305/305 [==============================] - 20s 66ms/step - loss: 0.9084 - accuracy: 0.6825 - val_loss: 2.0123 - val_accuracy: 0.5043\n",
            "Epoch 36/50\n",
            "305/305 [==============================] - 20s 65ms/step - loss: 0.9016 - accuracy: 0.6831 - val_loss: 2.0045 - val_accuracy: 0.5040\n",
            "Epoch 37/50\n",
            "305/305 [==============================] - 20s 66ms/step - loss: 0.8995 - accuracy: 0.6848 - val_loss: 1.9900 - val_accuracy: 0.5051\n",
            "Epoch 38/50\n",
            "305/305 [==============================] - 20s 66ms/step - loss: 0.8936 - accuracy: 0.6852 - val_loss: 2.0149 - val_accuracy: 0.5049\n",
            "Epoch 39/50\n",
            "305/305 [==============================] - 20s 66ms/step - loss: 0.8892 - accuracy: 0.6882 - val_loss: 2.0007 - val_accuracy: 0.5090\n",
            "Epoch 40/50\n",
            "305/305 [==============================] - 20s 66ms/step - loss: 0.8826 - accuracy: 0.6896 - val_loss: 2.0243 - val_accuracy: 0.5038\n",
            "Epoch 41/50\n",
            "305/305 [==============================] - 20s 66ms/step - loss: 0.8808 - accuracy: 0.6915 - val_loss: 2.0187 - val_accuracy: 0.5040\n",
            "Epoch 42/50\n",
            "305/305 [==============================] - 20s 66ms/step - loss: 0.8753 - accuracy: 0.6925 - val_loss: 2.0534 - val_accuracy: 0.5099\n",
            "Epoch 43/50\n",
            "305/305 [==============================] - 20s 66ms/step - loss: 0.8735 - accuracy: 0.6929 - val_loss: 2.0401 - val_accuracy: 0.5072\n",
            "Epoch 44/50\n",
            "305/305 [==============================] - 20s 66ms/step - loss: 0.8698 - accuracy: 0.6946 - val_loss: 2.0643 - val_accuracy: 0.5069\n",
            "Epoch 45/50\n",
            "305/305 [==============================] - 20s 67ms/step - loss: 0.8650 - accuracy: 0.6965 - val_loss: 2.0442 - val_accuracy: 0.5050\n",
            "Epoch 46/50\n",
            "305/305 [==============================] - 20s 66ms/step - loss: 0.8622 - accuracy: 0.6980 - val_loss: 2.0477 - val_accuracy: 0.5051\n",
            "Epoch 47/50\n",
            "305/305 [==============================] - 20s 66ms/step - loss: 0.8595 - accuracy: 0.6996 - val_loss: 2.0561 - val_accuracy: 0.5062\n",
            "Epoch 48/50\n",
            "305/305 [==============================] - 20s 66ms/step - loss: 0.8585 - accuracy: 0.7001 - val_loss: 2.0645 - val_accuracy: 0.5080\n",
            "Epoch 49/50\n",
            "305/305 [==============================] - 20s 66ms/step - loss: 0.8517 - accuracy: 0.7016 - val_loss: 2.0467 - val_accuracy: 0.5110\n",
            "Epoch 50/50\n",
            "305/305 [==============================] - 20s 66ms/step - loss: 0.8486 - accuracy: 0.7040 - val_loss: 2.0696 - val_accuracy: 0.5097\n"
          ]
        }
      ]
    },
    {
      "cell_type": "code",
      "metadata": {
        "colab": {
          "base_uri": "https://localhost:8080/",
          "height": 165
        },
        "id": "in1rWv4YyFFG",
        "outputId": "463d2370-6dc4-4bd2-d41d-4c3072089ba0"
      },
      "source": [
        "metrics = ['loss', 'accuracy']\n",
        "for n, metric in enumerate(metrics):\n",
        "  name = metric.replace(\"_\",\" \").capitalize()\n",
        "  plt.subplot(2,2,n+1)\n",
        "  plt.plot(history.epoch, history.history[metric],  label='Train')\n",
        "  plt.plot(history.epoch, history.history['val_'+metric], linestyle=\"--\", label='Val')\n",
        "  plt.xlabel('Epoch')\n",
        "  plt.ylabel(name)\n",
        "  if metric == 'loss':\n",
        "    plt.ylim([0, plt.ylim()[1]])\n",
        "  elif metric == 'auc':\n",
        "    plt.ylim([0.8,1])\n",
        "  else:\n",
        "    plt.ylim([0,1])\n",
        "\n",
        "  plt.legend()\n",
        "\n"
      ],
      "execution_count": 73,
      "outputs": [
        {
          "output_type": "display_data",
          "data": {
            "image/png": "[encoded data removed]",
            "text/plain": [
              "<Figure size 432x288 with 2 Axes>"
            ]
          },
          "metadata": {
            "needs_background": "light"
          }
        }
      ]
    }
  ]
}