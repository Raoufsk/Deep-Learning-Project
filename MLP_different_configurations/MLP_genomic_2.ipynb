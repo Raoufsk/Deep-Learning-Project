{
  "nbformat": 4,
  "nbformat_minor": 0,
  "metadata": {
    "colab": {
      "name": "MLP_genomic_2.ipynb",
      "provenance": [],
      "collapsed_sections": []
    },
    "kernelspec": {
      "display_name": "Python 3",
      "name": "python3"
    },
    "language_info": {
      "name": "python"
    }
  },
  "cells": [
    {
      "cell_type": "code",
      "metadata": {
        "id": "6_Fe6vK5ak22"
      },
      "source": [
        "import keras\n",
        "import numpy as np\n",
        "import pandas as pd\n",
        "import tensorflow as tf\n",
        "import matplotlib.pyplot as plt\n",
        "\n",
        "from keras import layers\n",
        "from keras import regularizers\n",
        "from keras.layers import Dropout\n",
        "from keras.utils import np_utils\n",
        "from sklearn import preprocessing\n",
        "from keras.models import Sequential\n",
        "from sklearn.utils import class_weight\n",
        "from sklearn.impute import SimpleImputer\n",
        "from keras.callbacks import EarlyStopping\n",
        "from tensorflow.keras.optimizers import SGD, Adam\n",
        "from keras.layers import Input, Dense, Activation\n",
        "from sklearn.metrics import confusion_matrix as cm\n",
        "from sklearn.model_selection import train_test_split\n",
        "from sklearn.metrics import classification_report as cr"
      ],
      "execution_count": 1,
      "outputs": []
    },
    {
      "cell_type": "code",
      "metadata": {
        "id": "JxnNwSM0avPI",
        "colab": {
          "base_uri": "https://localhost:8080/"
        },
        "outputId": "bcb1e2ef-2504-4b75-ce06-9811a7bea27a"
      },
      "source": [
        "from google.colab import drive\n",
        "drive.mount('/content/drive')"
      ],
      "execution_count": 2,
      "outputs": [
        {
          "output_type": "stream",
          "name": "stdout",
          "text": [
            "Mounted at /content/drive\n"
          ]
        }
      ]
    },
    {
      "cell_type": "code",
      "metadata": {
        "id": "M77fN90ga0ds"
      },
      "source": [
        "df = pd.read_csv('/content/drive/MyDrive/preprocessed_file_v0_filtered', \n",
        "                 compression = \"zip\", header = 0, index_col = 0, sep = \"\\t\")"
      ],
      "execution_count": 3,
      "outputs": []
    },
    {
      "cell_type": "code",
      "metadata": {
        "id": "vn_Xxvz-a8u6"
      },
      "source": [
        "data = df.drop(\"CANCER_TYPE\", axis = 1)\n",
        "labels = df[\"CANCER_TYPE\"]"
      ],
      "execution_count": 4,
      "outputs": []
    },
    {
      "cell_type": "code",
      "metadata": {
        "colab": {
          "base_uri": "https://localhost:8080/"
        },
        "id": "U5nuft2Ooppi",
        "outputId": "e27e740c-4cee-4eda-845f-b302112e018e"
      },
      "source": [
        "print(labels.unique(), len(labels.unique()))"
      ],
      "execution_count": 5,
      "outputs": [
        {
          "output_type": "stream",
          "name": "stdout",
          "text": [
            "['Glioma' 'Leukemia' 'Thyroid Cancer' 'Hepatobiliary Cancer'\n",
            " 'Mature B-Cell Neoplasms' 'Non-Small Cell Lung Cancer'\n",
            " 'Soft Tissue Sarcoma' 'Pancreatic Cancer' 'Head and Neck Cancer'\n",
            " 'Esophagogastric Cancer' 'Melanoma' 'Breast Cancer' 'Endometrial Cancer'\n",
            " 'Colorectal Cancer' 'Prostate Cancer' 'Renal Cell Carcinoma'\n",
            " 'Bladder Cancer' 'Ovarian Cancer'] 18\n"
          ]
        }
      ]
    },
    {
      "cell_type": "code",
      "metadata": {
        "id": "q6NZaK5Xejh_"
      },
      "source": [
        "encoder = preprocessing.LabelEncoder()\n",
        "classes = encoder.fit_transform(labels)"
      ],
      "execution_count": 6,
      "outputs": []
    },
    {
      "cell_type": "code",
      "metadata": {
        "colab": {
          "base_uri": "https://localhost:8080/"
        },
        "id": "Gjs0-So0bFQ8",
        "outputId": "1cbda1e7-047a-4ffb-af82-a9c673bab4af"
      },
      "source": [
        "x_train, x_test, y_train, y_test = train_test_split(\n",
        "\t\t\t\t\t\t\t\t\tdata, classes, \n",
        "\t\t\t\t\t\t\t\t\ttest_size = 0.2, \n",
        "\t\t\t\t\t\t\t\t\trandom_state = 0) \n",
        "\n",
        "print(y_train.shape)\n",
        "print(x_train.shape)\n",
        "print(y_test.shape)\n",
        "print(x_test.shape)"
      ],
      "execution_count": 7,
      "outputs": [
        {
          "output_type": "stream",
          "name": "stdout",
          "text": [
            "(78067,)\n",
            "(78067, 1345)\n",
            "(19517,)\n",
            "(19517, 1345)\n"
          ]
        }
      ]
    },
    {
      "cell_type": "code",
      "metadata": {
        "id": "jzRtR4kubQEC"
      },
      "source": [
        "learning_rate = 0.1\n",
        "opt = 'ADAM'\n",
        "lambda_l1 = 0.001\n",
        "size_batch = 256\n",
        "nb_epochs = 50"
      ],
      "execution_count": 23,
      "outputs": []
    },
    {
      "cell_type": "code",
      "metadata": {
        "id": "IrQ-fNyEbVY-"
      },
      "source": [
        "#3rd try: add l1 regularizers \n",
        "\n",
        "model = Sequential()\t\n",
        "\t\n",
        "model.add(\t\n",
        "\tDense(64, input_dim = len(data.columns), activation = 'relu',\n",
        "\t      kernel_regularizer = regularizers.l1(lambda_l1)))\n",
        "\n",
        "model.add(\t\n",
        "\tDense(32, activation = 'relu',\n",
        "\t      kernel_regularizer = regularizers.l1(lambda_l1)))\n",
        "\n",
        "model.add(\t\n",
        "\tDense(16, activation = 'relu',\n",
        "\t      kernel_regularizer = regularizers.l1(lambda_l1)))\n",
        "\t\n",
        "model.add(\t\n",
        "\tDense(len(labels.unique()), activation = 'softmax',\n",
        "\t      kernel_regularizer = regularizers.l1(lambda_l1)))\n",
        "\t\n",
        "model.compile(optimizer = opt,\t\n",
        "\t\t\t\t\t\tloss = 'sparse_categorical_crossentropy',\t\n",
        "\t\t\t\t\t\tmetrics = [\"accuracy\"])\t"
      ],
      "execution_count": 24,
      "outputs": []
    },
    {
      "cell_type": "code",
      "metadata": {
        "colab": {
          "base_uri": "https://localhost:8080/"
        },
        "id": "nif7fYW357Al",
        "outputId": "ce34808c-e40b-498c-ef8d-7d3066d4e54f"
      },
      "source": [
        "model.summary()"
      ],
      "execution_count": 25,
      "outputs": [
        {
          "output_type": "stream",
          "name": "stdout",
          "text": [
            "Model: \"sequential_2\"\n",
            "_________________________________________________________________\n",
            " Layer (type)                Output Shape              Param #   \n",
            "=================================================================\n",
            " dense_8 (Dense)             (None, 64)                86144     \n",
            "                                                                 \n",
            " dense_9 (Dense)             (None, 32)                2080      \n",
            "                                                                 \n",
            " dense_10 (Dense)            (None, 16)                528       \n",
            "                                                                 \n",
            " dense_11 (Dense)            (None, 18)                306       \n",
            "                                                                 \n",
            "=================================================================\n",
            "Total params: 89,058\n",
            "Trainable params: 89,058\n",
            "Non-trainable params: 0\n",
            "_________________________________________________________________\n"
          ]
        }
      ]
    },
    {
      "cell_type": "code",
      "metadata": {
        "id": "HPFuHk8zbaeV"
      },
      "source": [
        "es = EarlyStopping(\n",
        "  monitor = 'val_accuracy', mode = 'max', \n",
        "\tverbose = 1, patience = 30)"
      ],
      "execution_count": 26,
      "outputs": []
    },
    {
      "cell_type": "code",
      "metadata": {
        "id": "FrXpLUs-GgMx"
      },
      "source": [
        "class_weights = class_weight.compute_class_weight(class_weight=\"balanced\", classes=np.unique(y_train), y=y_train)\n",
        "class_weights_d = {l:c for l,c in zip(np.unique(y_train), class_weights)}"
      ],
      "execution_count": 27,
      "outputs": []
    },
    {
      "cell_type": "code",
      "metadata": {
        "colab": {
          "base_uri": "https://localhost:8080/"
        },
        "id": "Qm2ZLHFMpJYq",
        "outputId": "9fde95bc-f0b3-40d0-9beb-de592142aebf"
      },
      "source": [
        "print(class_weights_d)"
      ],
      "execution_count": 28,
      "outputs": [
        {
          "output_type": "stream",
          "name": "stdout",
          "text": [
            "{0: 1.6610706838588876, 1: 0.40367233391246793, 2: 0.4585594793355419, 3: 1.467204179822583, 4: 1.585760715011172, 5: 0.7312519904831488, 6: 3.0139371477106014, 7: 2.150250647275932, 8: 1.5472906013398342, 9: 2.040967320261438, 10: 1.1041383797239195, 11: 0.30139371477106014, 12: 1.1937945377251735, 13: 1.09771084676172, 14: 1.255661712668082, 15: 2.73804012345679, 16: 1.4832611339109287, 17: 3.1337106615285806}\n"
          ]
        }
      ]
    },
    {
      "cell_type": "code",
      "metadata": {
        "colab": {
          "base_uri": "https://localhost:8080/"
        },
        "id": "ME_hnEwDEWe4",
        "outputId": "570afc8e-86f0-4789-a2a8-457474fad7bd"
      },
      "source": [
        "history = model.fit(\n",
        "\tx_train, y_train, \n",
        "\tvalidation_data = (x_test, y_test), \n",
        "\tbatch_size = size_batch, \n",
        "  epochs = nb_epochs, \n",
        "  class_weight = class_weights_d,\n",
        "\tverbose = 1, callbacks = [es])"
      ],
      "execution_count": 29,
      "outputs": [
        {
          "output_type": "stream",
          "name": "stdout",
          "text": [
            "Epoch 1/50\n",
            "305/305 [==============================] - 3s 10ms/step - loss: 3.1748 - accuracy: 0.1723 - val_loss: 2.6663 - val_accuracy: 0.1818\n",
            "Epoch 2/50\n",
            "305/305 [==============================] - 2s 8ms/step - loss: 2.6352 - accuracy: 0.2275 - val_loss: 2.5660 - val_accuracy: 0.2436\n",
            "Epoch 3/50\n",
            "305/305 [==============================] - 2s 8ms/step - loss: 2.5737 - accuracy: 0.2679 - val_loss: 2.5164 - val_accuracy: 0.2922\n",
            "Epoch 4/50\n",
            "305/305 [==============================] - 2s 8ms/step - loss: 2.5323 - accuracy: 0.2865 - val_loss: 2.5116 - val_accuracy: 0.3115\n",
            "Epoch 5/50\n",
            "305/305 [==============================] - 3s 8ms/step - loss: 2.4855 - accuracy: 0.3097 - val_loss: 2.4696 - val_accuracy: 0.3202\n",
            "Epoch 6/50\n",
            "305/305 [==============================] - 2s 8ms/step - loss: 2.4476 - accuracy: 0.3247 - val_loss: 2.4266 - val_accuracy: 0.3403\n",
            "Epoch 7/50\n",
            "305/305 [==============================] - 2s 8ms/step - loss: 2.4239 - accuracy: 0.3357 - val_loss: 2.3851 - val_accuracy: 0.3381\n",
            "Epoch 8/50\n",
            "305/305 [==============================] - 2s 8ms/step - loss: 2.4026 - accuracy: 0.3446 - val_loss: 2.3785 - val_accuracy: 0.3580\n",
            "Epoch 9/50\n",
            "305/305 [==============================] - 2s 8ms/step - loss: 2.3789 - accuracy: 0.3550 - val_loss: 2.3307 - val_accuracy: 0.3729\n",
            "Epoch 10/50\n",
            "305/305 [==============================] - 2s 8ms/step - loss: 2.3514 - accuracy: 0.3694 - val_loss: 2.3183 - val_accuracy: 0.3760\n",
            "Epoch 11/50\n",
            "305/305 [==============================] - 2s 8ms/step - loss: 2.3249 - accuracy: 0.3885 - val_loss: 2.3113 - val_accuracy: 0.3918\n",
            "Epoch 12/50\n",
            "305/305 [==============================] - 2s 8ms/step - loss: 2.3002 - accuracy: 0.4081 - val_loss: 2.2534 - val_accuracy: 0.4166\n",
            "Epoch 13/50\n",
            "305/305 [==============================] - 2s 8ms/step - loss: 2.2792 - accuracy: 0.4208 - val_loss: 2.2690 - val_accuracy: 0.4158\n",
            "Epoch 14/50\n",
            "305/305 [==============================] - 2s 8ms/step - loss: 2.2638 - accuracy: 0.4279 - val_loss: 2.2483 - val_accuracy: 0.4241\n",
            "Epoch 15/50\n",
            "305/305 [==============================] - 2s 8ms/step - loss: 2.2510 - accuracy: 0.4311 - val_loss: 2.2316 - val_accuracy: 0.4313\n",
            "Epoch 16/50\n",
            "305/305 [==============================] - 2s 8ms/step - loss: 2.2422 - accuracy: 0.4326 - val_loss: 2.2236 - val_accuracy: 0.4313\n",
            "Epoch 17/50\n",
            "305/305 [==============================] - 2s 8ms/step - loss: 2.2341 - accuracy: 0.4345 - val_loss: 2.2167 - val_accuracy: 0.4361\n",
            "Epoch 18/50\n",
            "305/305 [==============================] - 2s 8ms/step - loss: 2.2300 - accuracy: 0.4365 - val_loss: 2.2302 - val_accuracy: 0.4314\n",
            "Epoch 19/50\n",
            "305/305 [==============================] - 2s 8ms/step - loss: 2.2244 - accuracy: 0.4371 - val_loss: 2.2117 - val_accuracy: 0.4359\n",
            "Epoch 20/50\n",
            "305/305 [==============================] - 2s 8ms/step - loss: 2.2192 - accuracy: 0.4396 - val_loss: 2.2087 - val_accuracy: 0.4362\n",
            "Epoch 21/50\n",
            "305/305 [==============================] - 2s 8ms/step - loss: 2.2146 - accuracy: 0.4398 - val_loss: 2.1981 - val_accuracy: 0.4394\n",
            "Epoch 22/50\n",
            "305/305 [==============================] - 2s 8ms/step - loss: 2.2111 - accuracy: 0.4405 - val_loss: 2.1947 - val_accuracy: 0.4422\n",
            "Epoch 23/50\n",
            "305/305 [==============================] - 2s 8ms/step - loss: 2.2073 - accuracy: 0.4419 - val_loss: 2.2059 - val_accuracy: 0.4345\n",
            "Epoch 24/50\n",
            "305/305 [==============================] - 2s 8ms/step - loss: 2.2034 - accuracy: 0.4425 - val_loss: 2.1931 - val_accuracy: 0.4410\n",
            "Epoch 25/50\n",
            "305/305 [==============================] - 3s 8ms/step - loss: 2.2010 - accuracy: 0.4435 - val_loss: 2.1797 - val_accuracy: 0.4466\n",
            "Epoch 26/50\n",
            "305/305 [==============================] - 2s 8ms/step - loss: 2.1987 - accuracy: 0.4442 - val_loss: 2.1931 - val_accuracy: 0.4420\n",
            "Epoch 27/50\n",
            "305/305 [==============================] - 2s 8ms/step - loss: 2.1944 - accuracy: 0.4450 - val_loss: 2.1891 - val_accuracy: 0.4457\n",
            "Epoch 28/50\n",
            "305/305 [==============================] - 2s 8ms/step - loss: 2.1918 - accuracy: 0.4469 - val_loss: 2.1901 - val_accuracy: 0.4433\n",
            "Epoch 29/50\n",
            "305/305 [==============================] - 2s 8ms/step - loss: 2.1882 - accuracy: 0.4489 - val_loss: 2.1953 - val_accuracy: 0.4441\n",
            "Epoch 30/50\n",
            "305/305 [==============================] - 2s 8ms/step - loss: 2.1844 - accuracy: 0.4481 - val_loss: 2.1883 - val_accuracy: 0.4439\n",
            "Epoch 31/50\n",
            "305/305 [==============================] - 2s 8ms/step - loss: 2.1824 - accuracy: 0.4478 - val_loss: 2.1910 - val_accuracy: 0.4458\n",
            "Epoch 32/50\n",
            "305/305 [==============================] - 2s 8ms/step - loss: 2.1783 - accuracy: 0.4503 - val_loss: 2.1602 - val_accuracy: 0.4508\n",
            "Epoch 33/50\n",
            "305/305 [==============================] - 2s 8ms/step - loss: 2.1751 - accuracy: 0.4511 - val_loss: 2.1968 - val_accuracy: 0.4438\n",
            "Epoch 34/50\n",
            "305/305 [==============================] - 2s 8ms/step - loss: 2.1722 - accuracy: 0.4502 - val_loss: 2.1719 - val_accuracy: 0.4505\n",
            "Epoch 35/50\n",
            "305/305 [==============================] - 2s 8ms/step - loss: 2.1682 - accuracy: 0.4510 - val_loss: 2.1624 - val_accuracy: 0.4499\n",
            "Epoch 36/50\n",
            "305/305 [==============================] - 2s 8ms/step - loss: 2.1661 - accuracy: 0.4514 - val_loss: 2.1754 - val_accuracy: 0.4532\n",
            "Epoch 37/50\n",
            "305/305 [==============================] - 2s 8ms/step - loss: 2.1640 - accuracy: 0.4520 - val_loss: 2.1682 - val_accuracy: 0.4528\n",
            "Epoch 38/50\n",
            "305/305 [==============================] - 2s 8ms/step - loss: 2.1617 - accuracy: 0.4519 - val_loss: 2.1578 - val_accuracy: 0.4535\n",
            "Epoch 39/50\n",
            "305/305 [==============================] - 3s 8ms/step - loss: 2.1589 - accuracy: 0.4522 - val_loss: 2.1490 - val_accuracy: 0.4524\n",
            "Epoch 40/50\n",
            "305/305 [==============================] - 3s 8ms/step - loss: 2.1566 - accuracy: 0.4519 - val_loss: 2.1428 - val_accuracy: 0.4547\n",
            "Epoch 41/50\n",
            "305/305 [==============================] - 3s 8ms/step - loss: 2.1559 - accuracy: 0.4522 - val_loss: 2.1433 - val_accuracy: 0.4522\n",
            "Epoch 42/50\n",
            "305/305 [==============================] - 3s 8ms/step - loss: 2.1532 - accuracy: 0.4520 - val_loss: 2.1476 - val_accuracy: 0.4523\n",
            "Epoch 43/50\n",
            "305/305 [==============================] - 2s 8ms/step - loss: 2.1525 - accuracy: 0.4527 - val_loss: 2.1389 - val_accuracy: 0.4532\n",
            "Epoch 44/50\n",
            "305/305 [==============================] - 3s 8ms/step - loss: 2.1497 - accuracy: 0.4537 - val_loss: 2.1412 - val_accuracy: 0.4505\n",
            "Epoch 45/50\n",
            "305/305 [==============================] - 2s 8ms/step - loss: 2.1490 - accuracy: 0.4535 - val_loss: 2.1402 - val_accuracy: 0.4537\n",
            "Epoch 46/50\n",
            "305/305 [==============================] - 3s 8ms/step - loss: 2.1467 - accuracy: 0.4531 - val_loss: 2.1512 - val_accuracy: 0.4530\n",
            "Epoch 47/50\n",
            "305/305 [==============================] - 3s 8ms/step - loss: 2.1468 - accuracy: 0.4544 - val_loss: 2.1595 - val_accuracy: 0.4512\n",
            "Epoch 48/50\n",
            "305/305 [==============================] - 3s 8ms/step - loss: 2.1447 - accuracy: 0.4543 - val_loss: 2.1461 - val_accuracy: 0.4546\n",
            "Epoch 49/50\n",
            "305/305 [==============================] - 3s 8ms/step - loss: 2.1428 - accuracy: 0.4537 - val_loss: 2.1303 - val_accuracy: 0.4554\n",
            "Epoch 50/50\n",
            "305/305 [==============================] - 3s 9ms/step - loss: 2.1421 - accuracy: 0.4541 - val_loss: 2.1566 - val_accuracy: 0.4528\n"
          ]
        }
      ]
    },
    {
      "cell_type": "code",
      "metadata": {
        "colab": {
          "base_uri": "https://localhost:8080/",
          "height": 165
        },
        "id": "in1rWv4YyFFG",
        "outputId": "39a0a0ec-6b61-419e-cdc0-9ecb17173f63"
      },
      "source": [
        "metrics = ['loss', 'accuracy']\n",
        "for n, metric in enumerate(metrics):\n",
        "  name = metric.replace(\"_\",\" \").capitalize()\n",
        "  plt.subplot(2,2,n+1)\n",
        "  plt.plot(history.epoch, history.history[metric],  label='Train')\n",
        "  plt.plot(history.epoch, history.history['val_'+metric], linestyle=\"--\", label='Val')\n",
        "  plt.xlabel('Epoch')\n",
        "  plt.ylabel(name)\n",
        "  if metric == 'loss':\n",
        "    plt.ylim([0, plt.ylim()[1]])\n",
        "  elif metric == 'auc':\n",
        "    plt.ylim([0.8,1])\n",
        "  else:\n",
        "    plt.ylim([0,1])\n",
        "\n",
        "  plt.legend()\n",
        "\n"
      ],
      "execution_count": 30,
      "outputs": [
        {
          "output_type": "display_data",
          "data": {
            "image/png": "[encoded data removed]",
            "text/plain": [
              "<Figure size 432x288 with 2 Axes>"
            ]
          },
          "metadata": {
            "needs_background": "light"
          }
        }
      ]
    }
  ]
}