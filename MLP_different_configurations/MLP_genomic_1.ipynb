{
  "nbformat": 4,
  "nbformat_minor": 0,
  "metadata": {
    "colab": {
      "name": "MLP_genomic_1.ipynb",
      "provenance": [],
      "collapsed_sections": []
    },
    "kernelspec": {
      "display_name": "Python 3",
      "name": "python3"
    },
    "language_info": {
      "name": "python"
    }
  },
  "cells": [
    {
      "cell_type": "code",
      "metadata": {
        "id": "6_Fe6vK5ak22"
      },
      "source": [
        "import keras\n",
        "import numpy as np\n",
        "import pandas as pd\n",
        "import tensorflow as tf\n",
        "import matplotlib.pyplot as plt\n",
        "\n",
        "from keras import layers\n",
        "from keras import regularizers\n",
        "from keras.layers import Dropout\n",
        "from keras.utils import np_utils\n",
        "from sklearn import preprocessing\n",
        "from keras.models import Sequential\n",
        "from sklearn.utils import class_weight\n",
        "from sklearn.impute import SimpleImputer\n",
        "from keras.callbacks import EarlyStopping\n",
        "from tensorflow.keras.optimizers import SGD, Adam\n",
        "from keras.layers import Input, Dense, Activation\n",
        "from sklearn.metrics import confusion_matrix as cm\n",
        "from sklearn.model_selection import train_test_split\n",
        "from sklearn.metrics import classification_report as cr"
      ],
      "execution_count": 1,
      "outputs": []
    },
    {
      "cell_type": "code",
      "metadata": {
        "id": "JxnNwSM0avPI",
        "colab": {
          "base_uri": "https://localhost:8080/"
        },
        "outputId": "bcb1e2ef-2504-4b75-ce06-9811a7bea27a"
      },
      "source": [
        "from google.colab import drive\n",
        "drive.mount('/content/drive')"
      ],
      "execution_count": 2,
      "outputs": [
        {
          "output_type": "stream",
          "name": "stdout",
          "text": [
            "Mounted at /content/drive\n"
          ]
        }
      ]
    },
    {
      "cell_type": "code",
      "metadata": {
        "id": "M77fN90ga0ds"
      },
      "source": [
        "df = pd.read_csv('/content/drive/MyDrive/preprocessed_file_v0_filtered', \n",
        "                 compression = \"zip\", header = 0, index_col = 0, sep = \"\\t\")"
      ],
      "execution_count": 3,
      "outputs": []
    },
    {
      "cell_type": "code",
      "metadata": {
        "id": "vn_Xxvz-a8u6"
      },
      "source": [
        "data = df.drop(\"CANCER_TYPE\", axis = 1)\n",
        "labels = df[\"CANCER_TYPE\"]"
      ],
      "execution_count": 4,
      "outputs": []
    },
    {
      "cell_type": "code",
      "metadata": {
        "colab": {
          "base_uri": "https://localhost:8080/"
        },
        "id": "U5nuft2Ooppi",
        "outputId": "e27e740c-4cee-4eda-845f-b302112e018e"
      },
      "source": [
        "print(labels.unique(), len(labels.unique()))"
      ],
      "execution_count": 5,
      "outputs": [
        {
          "output_type": "stream",
          "name": "stdout",
          "text": [
            "['Glioma' 'Leukemia' 'Thyroid Cancer' 'Hepatobiliary Cancer'\n",
            " 'Mature B-Cell Neoplasms' 'Non-Small Cell Lung Cancer'\n",
            " 'Soft Tissue Sarcoma' 'Pancreatic Cancer' 'Head and Neck Cancer'\n",
            " 'Esophagogastric Cancer' 'Melanoma' 'Breast Cancer' 'Endometrial Cancer'\n",
            " 'Colorectal Cancer' 'Prostate Cancer' 'Renal Cell Carcinoma'\n",
            " 'Bladder Cancer' 'Ovarian Cancer'] 18\n"
          ]
        }
      ]
    },
    {
      "cell_type": "code",
      "metadata": {
        "id": "q6NZaK5Xejh_"
      },
      "source": [
        "encoder = preprocessing.LabelEncoder()\n",
        "classes = encoder.fit_transform(labels)"
      ],
      "execution_count": 6,
      "outputs": []
    },
    {
      "cell_type": "code",
      "metadata": {
        "colab": {
          "base_uri": "https://localhost:8080/"
        },
        "id": "Gjs0-So0bFQ8",
        "outputId": "1cbda1e7-047a-4ffb-af82-a9c673bab4af"
      },
      "source": [
        "x_train, x_test, y_train, y_test = train_test_split(\n",
        "\t\t\t\t\t\t\t\t\tdata, classes, \n",
        "\t\t\t\t\t\t\t\t\ttest_size = 0.2, \n",
        "\t\t\t\t\t\t\t\t\trandom_state = 0) \n",
        "\n",
        "print(y_train.shape)\n",
        "print(x_train.shape)\n",
        "print(y_test.shape)\n",
        "print(x_test.shape)"
      ],
      "execution_count": 7,
      "outputs": [
        {
          "output_type": "stream",
          "name": "stdout",
          "text": [
            "(78067,)\n",
            "(78067, 1345)\n",
            "(19517,)\n",
            "(19517, 1345)\n"
          ]
        }
      ]
    },
    {
      "cell_type": "code",
      "metadata": {
        "id": "jzRtR4kubQEC"
      },
      "source": [
        "learning_rate = 0.1\n",
        "opt = 'ADAM'\n",
        "size_batch = 256\n",
        "nb_epochs = 50"
      ],
      "execution_count": 8,
      "outputs": []
    },
    {
      "cell_type": "code",
      "metadata": {
        "id": "IrQ-fNyEbVY-"
      },
      "source": [
        "#2nd try: modified the loss function which is more adapted for classification\n",
        "\n",
        "model = Sequential()\t\n",
        "\t\n",
        "model.add(\t\n",
        "\tDense(64, input_dim = len(data.columns), activation = 'relu'))\n",
        "\n",
        "model.add(\t\n",
        "\tDense(32, activation = 'relu'))\n",
        "\n",
        "model.add(\t\n",
        "\tDense(16, activation = 'relu'))\n",
        "\t\n",
        "model.add(\t\n",
        "\tDense(len(labels.unique()), activation = 'softmax'))\n",
        "\t\n",
        "model.compile(optimizer = opt,\t\n",
        "\t\t\t\t\t\tloss = 'sparse_categorical_crossentropy',\t\n",
        "\t\t\t\t\t\tmetrics = [\"accuracy\"])\t"
      ],
      "execution_count": 16,
      "outputs": []
    },
    {
      "cell_type": "code",
      "metadata": {
        "colab": {
          "base_uri": "https://localhost:8080/"
        },
        "id": "nif7fYW357Al",
        "outputId": "84d0653a-f3ac-438a-8de3-d15ece6cec44"
      },
      "source": [
        "model.summary()"
      ],
      "execution_count": 17,
      "outputs": [
        {
          "output_type": "stream",
          "name": "stdout",
          "text": [
            "Model: \"sequential_1\"\n",
            "_________________________________________________________________\n",
            " Layer (type)                Output Shape              Param #   \n",
            "=================================================================\n",
            " dense_4 (Dense)             (None, 64)                86144     \n",
            "                                                                 \n",
            " dense_5 (Dense)             (None, 32)                2080      \n",
            "                                                                 \n",
            " dense_6 (Dense)             (None, 16)                528       \n",
            "                                                                 \n",
            " dense_7 (Dense)             (None, 18)                306       \n",
            "                                                                 \n",
            "=================================================================\n",
            "Total params: 89,058\n",
            "Trainable params: 89,058\n",
            "Non-trainable params: 0\n",
            "_________________________________________________________________\n"
          ]
        }
      ]
    },
    {
      "cell_type": "code",
      "metadata": {
        "id": "HPFuHk8zbaeV"
      },
      "source": [
        "es = EarlyStopping(\n",
        "  monitor = 'val_accuracy', mode = 'max', \n",
        "\tverbose = 1, patience = 30)"
      ],
      "execution_count": 18,
      "outputs": []
    },
    {
      "cell_type": "code",
      "metadata": {
        "id": "FrXpLUs-GgMx"
      },
      "source": [
        "class_weights = class_weight.compute_class_weight(class_weight=\"balanced\", classes=np.unique(y_train), y=y_train)\n",
        "class_weights_d = {l:c for l,c in zip(np.unique(y_train), class_weights)}"
      ],
      "execution_count": 19,
      "outputs": []
    },
    {
      "cell_type": "code",
      "metadata": {
        "colab": {
          "base_uri": "https://localhost:8080/"
        },
        "id": "Qm2ZLHFMpJYq",
        "outputId": "a677d013-f024-47e6-c492-4e77bcdf776e"
      },
      "source": [
        "print(class_weights_d)"
      ],
      "execution_count": 20,
      "outputs": [
        {
          "output_type": "stream",
          "name": "stdout",
          "text": [
            "{0: 1.6610706838588876, 1: 0.40367233391246793, 2: 0.4585594793355419, 3: 1.467204179822583, 4: 1.585760715011172, 5: 0.7312519904831488, 6: 3.0139371477106014, 7: 2.150250647275932, 8: 1.5472906013398342, 9: 2.040967320261438, 10: 1.1041383797239195, 11: 0.30139371477106014, 12: 1.1937945377251735, 13: 1.09771084676172, 14: 1.255661712668082, 15: 2.73804012345679, 16: 1.4832611339109287, 17: 3.1337106615285806}\n"
          ]
        }
      ]
    },
    {
      "cell_type": "code",
      "metadata": {
        "colab": {
          "base_uri": "https://localhost:8080/"
        },
        "id": "ME_hnEwDEWe4",
        "outputId": "c338a5f1-bf54-44c9-ee88-1b65fd0bb6e8"
      },
      "source": [
        "history = model.fit(\n",
        "\tx_train, y_train, \n",
        "\tvalidation_data = (x_test, y_test), \n",
        "\tbatch_size = size_batch, \n",
        "  epochs = nb_epochs, \n",
        "  class_weight = class_weights_d,\n",
        "\tverbose = 1, callbacks = [es])"
      ],
      "execution_count": 21,
      "outputs": [
        {
          "output_type": "stream",
          "name": "stdout",
          "text": [
            "Epoch 1/50\n",
            "305/305 [==============================] - 3s 9ms/step - loss: 2.3830 - accuracy: 0.3373 - val_loss: 1.9282 - val_accuracy: 0.4497\n",
            "Epoch 2/50\n",
            "305/305 [==============================] - 2s 8ms/step - loss: 1.8886 - accuracy: 0.4607 - val_loss: 1.8313 - val_accuracy: 0.4656\n",
            "Epoch 3/50\n",
            "305/305 [==============================] - 2s 8ms/step - loss: 1.7890 - accuracy: 0.4768 - val_loss: 1.8290 - val_accuracy: 0.4638\n",
            "Epoch 4/50\n",
            "305/305 [==============================] - 2s 8ms/step - loss: 1.7285 - accuracy: 0.4862 - val_loss: 1.7917 - val_accuracy: 0.4735\n",
            "Epoch 5/50\n",
            "305/305 [==============================] - 2s 8ms/step - loss: 1.6841 - accuracy: 0.4947 - val_loss: 1.7668 - val_accuracy: 0.4760\n",
            "Epoch 6/50\n",
            "305/305 [==============================] - 2s 8ms/step - loss: 1.6478 - accuracy: 0.5041 - val_loss: 1.7758 - val_accuracy: 0.4739\n",
            "Epoch 7/50\n",
            "305/305 [==============================] - 2s 8ms/step - loss: 1.6172 - accuracy: 0.5104 - val_loss: 1.7385 - val_accuracy: 0.4827\n",
            "Epoch 8/50\n",
            "305/305 [==============================] - 2s 8ms/step - loss: 1.5897 - accuracy: 0.5155 - val_loss: 1.7454 - val_accuracy: 0.4794\n",
            "Epoch 9/50\n",
            "305/305 [==============================] - 2s 8ms/step - loss: 1.5638 - accuracy: 0.5193 - val_loss: 1.7931 - val_accuracy: 0.4717\n",
            "Epoch 10/50\n",
            "305/305 [==============================] - 2s 8ms/step - loss: 1.5401 - accuracy: 0.5247 - val_loss: 1.7931 - val_accuracy: 0.4711\n",
            "Epoch 11/50\n",
            "305/305 [==============================] - 2s 8ms/step - loss: 1.5173 - accuracy: 0.5291 - val_loss: 1.7808 - val_accuracy: 0.4779\n",
            "Epoch 12/50\n",
            "305/305 [==============================] - 2s 8ms/step - loss: 1.4962 - accuracy: 0.5323 - val_loss: 1.7856 - val_accuracy: 0.4792\n",
            "Epoch 13/50\n",
            "305/305 [==============================] - 2s 8ms/step - loss: 1.4750 - accuracy: 0.5386 - val_loss: 1.8091 - val_accuracy: 0.4706\n",
            "Epoch 14/50\n",
            "305/305 [==============================] - 2s 8ms/step - loss: 1.4556 - accuracy: 0.5425 - val_loss: 1.7957 - val_accuracy: 0.4845\n",
            "Epoch 15/50\n",
            "305/305 [==============================] - 2s 8ms/step - loss: 1.4373 - accuracy: 0.5445 - val_loss: 1.7770 - val_accuracy: 0.4836\n",
            "Epoch 16/50\n",
            "305/305 [==============================] - 2s 8ms/step - loss: 1.4188 - accuracy: 0.5485 - val_loss: 1.8033 - val_accuracy: 0.4878\n",
            "Epoch 17/50\n",
            "305/305 [==============================] - 2s 8ms/step - loss: 1.4017 - accuracy: 0.5534 - val_loss: 1.8314 - val_accuracy: 0.4708\n",
            "Epoch 18/50\n",
            "305/305 [==============================] - 2s 8ms/step - loss: 1.3866 - accuracy: 0.5561 - val_loss: 1.8539 - val_accuracy: 0.4742\n",
            "Epoch 19/50\n",
            "305/305 [==============================] - 2s 8ms/step - loss: 1.3703 - accuracy: 0.5601 - val_loss: 1.8684 - val_accuracy: 0.4675\n",
            "Epoch 20/50\n",
            "305/305 [==============================] - 2s 8ms/step - loss: 1.3554 - accuracy: 0.5624 - val_loss: 1.8719 - val_accuracy: 0.4707\n",
            "Epoch 21/50\n",
            "305/305 [==============================] - 2s 8ms/step - loss: 1.3409 - accuracy: 0.5673 - val_loss: 1.8832 - val_accuracy: 0.4693\n",
            "Epoch 22/50\n",
            "305/305 [==============================] - 2s 8ms/step - loss: 1.3268 - accuracy: 0.5692 - val_loss: 1.8923 - val_accuracy: 0.4680\n",
            "Epoch 23/50\n",
            "305/305 [==============================] - 2s 8ms/step - loss: 1.3153 - accuracy: 0.5702 - val_loss: 1.9435 - val_accuracy: 0.4577\n",
            "Epoch 24/50\n",
            "305/305 [==============================] - 2s 8ms/step - loss: 1.3034 - accuracy: 0.5743 - val_loss: 1.9758 - val_accuracy: 0.4554\n",
            "Epoch 25/50\n",
            "305/305 [==============================] - 2s 8ms/step - loss: 1.2932 - accuracy: 0.5761 - val_loss: 1.9649 - val_accuracy: 0.4646\n",
            "Epoch 26/50\n",
            "305/305 [==============================] - 2s 8ms/step - loss: 1.2802 - accuracy: 0.5796 - val_loss: 2.0029 - val_accuracy: 0.4525\n",
            "Epoch 27/50\n",
            "305/305 [==============================] - 2s 8ms/step - loss: 1.2701 - accuracy: 0.5804 - val_loss: 1.9717 - val_accuracy: 0.4659\n",
            "Epoch 28/50\n",
            "305/305 [==============================] - 2s 8ms/step - loss: 1.2605 - accuracy: 0.5839 - val_loss: 2.0154 - val_accuracy: 0.4604\n",
            "Epoch 29/50\n",
            "305/305 [==============================] - 2s 8ms/step - loss: 1.2509 - accuracy: 0.5854 - val_loss: 2.0284 - val_accuracy: 0.4642\n",
            "Epoch 30/50\n",
            "305/305 [==============================] - 2s 8ms/step - loss: 1.2416 - accuracy: 0.5870 - val_loss: 2.0379 - val_accuracy: 0.4673\n",
            "Epoch 31/50\n",
            "305/305 [==============================] - 2s 8ms/step - loss: 1.2344 - accuracy: 0.5889 - val_loss: 2.0458 - val_accuracy: 0.4614\n",
            "Epoch 32/50\n",
            "305/305 [==============================] - 2s 8ms/step - loss: 1.2242 - accuracy: 0.5916 - val_loss: 2.0616 - val_accuracy: 0.4562\n",
            "Epoch 33/50\n",
            "305/305 [==============================] - 2s 8ms/step - loss: 1.2152 - accuracy: 0.5932 - val_loss: 2.0895 - val_accuracy: 0.4574\n",
            "Epoch 34/50\n",
            "305/305 [==============================] - 2s 8ms/step - loss: 1.2084 - accuracy: 0.5949 - val_loss: 2.1058 - val_accuracy: 0.4569\n",
            "Epoch 35/50\n",
            "305/305 [==============================] - 2s 8ms/step - loss: 1.1987 - accuracy: 0.5971 - val_loss: 2.1290 - val_accuracy: 0.4507\n",
            "Epoch 36/50\n",
            "305/305 [==============================] - 2s 8ms/step - loss: 1.1936 - accuracy: 0.5986 - val_loss: 2.1228 - val_accuracy: 0.4632\n",
            "Epoch 37/50\n",
            "305/305 [==============================] - 2s 8ms/step - loss: 1.1853 - accuracy: 0.5990 - val_loss: 2.1638 - val_accuracy: 0.4595\n",
            "Epoch 38/50\n",
            "305/305 [==============================] - 2s 8ms/step - loss: 1.1800 - accuracy: 0.6022 - val_loss: 2.1759 - val_accuracy: 0.4564\n",
            "Epoch 39/50\n",
            "305/305 [==============================] - 2s 8ms/step - loss: 1.1729 - accuracy: 0.6020 - val_loss: 2.2205 - val_accuracy: 0.4484\n",
            "Epoch 40/50\n",
            "305/305 [==============================] - 2s 8ms/step - loss: 1.1671 - accuracy: 0.6039 - val_loss: 2.1936 - val_accuracy: 0.4551\n",
            "Epoch 41/50\n",
            "305/305 [==============================] - 2s 8ms/step - loss: 1.1598 - accuracy: 0.6049 - val_loss: 2.2265 - val_accuracy: 0.4522\n",
            "Epoch 42/50\n",
            "305/305 [==============================] - 2s 8ms/step - loss: 1.1554 - accuracy: 0.6070 - val_loss: 2.2396 - val_accuracy: 0.4527\n",
            "Epoch 43/50\n",
            "305/305 [==============================] - 2s 8ms/step - loss: 1.1500 - accuracy: 0.6079 - val_loss: 2.2698 - val_accuracy: 0.4509\n",
            "Epoch 44/50\n",
            "305/305 [==============================] - 2s 8ms/step - loss: 1.1444 - accuracy: 0.6093 - val_loss: 2.2752 - val_accuracy: 0.4517\n",
            "Epoch 45/50\n",
            "305/305 [==============================] - 2s 8ms/step - loss: 1.1404 - accuracy: 0.6100 - val_loss: 2.2874 - val_accuracy: 0.4510\n",
            "Epoch 46/50\n",
            "305/305 [==============================] - 2s 8ms/step - loss: 1.1325 - accuracy: 0.6128 - val_loss: 2.3257 - val_accuracy: 0.4374\n",
            "Epoch 00046: early stopping\n"
          ]
        }
      ]
    },
    {
      "cell_type": "code",
      "metadata": {
        "colab": {
          "base_uri": "https://localhost:8080/",
          "height": 165
        },
        "id": "in1rWv4YyFFG",
        "outputId": "b6836e62-4faa-49c7-f6e5-554794320320"
      },
      "source": [
        "metrics = ['loss', 'accuracy']\n",
        "for n, metric in enumerate(metrics):\n",
        "  name = metric.replace(\"_\",\" \").capitalize()\n",
        "  plt.subplot(2,2,n+1)\n",
        "  plt.plot(history.epoch, history.history[metric],  label='Train')\n",
        "  plt.plot(history.epoch, history.history['val_'+metric], linestyle=\"--\", label='Val')\n",
        "  plt.xlabel('Epoch')\n",
        "  plt.ylabel(name)\n",
        "  if metric == 'loss':\n",
        "    plt.ylim([0, plt.ylim()[1]])\n",
        "  elif metric == 'auc':\n",
        "    plt.ylim([0.8,1])\n",
        "  else:\n",
        "    plt.ylim([0,1])\n",
        "\n",
        "  plt.legend()\n",
        "\n"
      ],
      "execution_count": 22,
      "outputs": [
        {
          "output_type": "display_data",
          "data": {
            "image/png": "[encoded data removed]",
            "text/plain": [
              "<Figure size 432x288 with 2 Axes>"
            ]
          },
          "metadata": {
            "needs_background": "light"
          }
        }
      ]
    }
  ]
}