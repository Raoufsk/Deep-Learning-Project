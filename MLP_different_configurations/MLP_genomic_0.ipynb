{
  "nbformat": 4,
  "nbformat_minor": 0,
  "metadata": {
    "colab": {
      "name": "MLP_genomic_0.ipynb",
      "provenance": [],
      "collapsed_sections": []
    },
    "kernelspec": {
      "display_name": "Python 3",
      "name": "python3"
    },
    "language_info": {
      "name": "python"
    }
  },
  "cells": [
    {
      "cell_type": "code",
      "metadata": {
        "id": "6_Fe6vK5ak22"
      },
      "source": [
        "import keras\n",
        "import numpy as np\n",
        "import pandas as pd\n",
        "import tensorflow as tf\n",
        "import matplotlib.pyplot as plt\n",
        "\n",
        "from keras import layers\n",
        "from keras import regularizers\n",
        "from keras.layers import Dropout\n",
        "from keras.utils import np_utils\n",
        "from sklearn import preprocessing\n",
        "from keras.models import Sequential\n",
        "from sklearn.utils import class_weight\n",
        "from sklearn.impute import SimpleImputer\n",
        "from keras.callbacks import EarlyStopping\n",
        "from tensorflow.keras.optimizers import SGD, Adam\n",
        "from keras.layers import Input, Dense, Activation\n",
        "from sklearn.metrics import confusion_matrix as cm\n",
        "from sklearn.model_selection import train_test_split\n",
        "from sklearn.metrics import classification_report as cr"
      ],
      "execution_count": 1,
      "outputs": []
    },
    {
      "cell_type": "code",
      "metadata": {
        "id": "JxnNwSM0avPI",
        "colab": {
          "base_uri": "https://localhost:8080/"
        },
        "outputId": "bcb1e2ef-2504-4b75-ce06-9811a7bea27a"
      },
      "source": [
        "from google.colab import drive\n",
        "drive.mount('/content/drive')"
      ],
      "execution_count": 2,
      "outputs": [
        {
          "output_type": "stream",
          "name": "stdout",
          "text": [
            "Mounted at /content/drive\n"
          ]
        }
      ]
    },
    {
      "cell_type": "code",
      "metadata": {
        "id": "M77fN90ga0ds"
      },
      "source": [
        "df = pd.read_csv('/content/drive/MyDrive/preprocessed_file_v0_filtered', \n",
        "                 compression = \"zip\", header = 0, index_col = 0, sep = \"\\t\")"
      ],
      "execution_count": 3,
      "outputs": []
    },
    {
      "cell_type": "code",
      "metadata": {
        "id": "vn_Xxvz-a8u6"
      },
      "source": [
        "data = df.drop(\"CANCER_TYPE\", axis = 1)\n",
        "labels = df[\"CANCER_TYPE\"]"
      ],
      "execution_count": 4,
      "outputs": []
    },
    {
      "cell_type": "code",
      "metadata": {
        "colab": {
          "base_uri": "https://localhost:8080/"
        },
        "id": "U5nuft2Ooppi",
        "outputId": "e27e740c-4cee-4eda-845f-b302112e018e"
      },
      "source": [
        "print(labels.unique(), len(labels.unique()))"
      ],
      "execution_count": 5,
      "outputs": [
        {
          "output_type": "stream",
          "name": "stdout",
          "text": [
            "['Glioma' 'Leukemia' 'Thyroid Cancer' 'Hepatobiliary Cancer'\n",
            " 'Mature B-Cell Neoplasms' 'Non-Small Cell Lung Cancer'\n",
            " 'Soft Tissue Sarcoma' 'Pancreatic Cancer' 'Head and Neck Cancer'\n",
            " 'Esophagogastric Cancer' 'Melanoma' 'Breast Cancer' 'Endometrial Cancer'\n",
            " 'Colorectal Cancer' 'Prostate Cancer' 'Renal Cell Carcinoma'\n",
            " 'Bladder Cancer' 'Ovarian Cancer'] 18\n"
          ]
        }
      ]
    },
    {
      "cell_type": "code",
      "metadata": {
        "id": "q6NZaK5Xejh_"
      },
      "source": [
        "encoder = preprocessing.LabelEncoder()\n",
        "classes = encoder.fit_transform(labels)"
      ],
      "execution_count": 6,
      "outputs": []
    },
    {
      "cell_type": "code",
      "metadata": {
        "colab": {
          "base_uri": "https://localhost:8080/"
        },
        "id": "Gjs0-So0bFQ8",
        "outputId": "1cbda1e7-047a-4ffb-af82-a9c673bab4af"
      },
      "source": [
        "x_train, x_test, y_train, y_test = train_test_split(\n",
        "\t\t\t\t\t\t\t\t\tdata, classes, \n",
        "\t\t\t\t\t\t\t\t\ttest_size = 0.2, \n",
        "\t\t\t\t\t\t\t\t\trandom_state = 0) \n",
        "\n",
        "print(y_train.shape)\n",
        "print(x_train.shape)\n",
        "print(y_test.shape)\n",
        "print(x_test.shape)"
      ],
      "execution_count": 7,
      "outputs": [
        {
          "output_type": "stream",
          "name": "stdout",
          "text": [
            "(78067,)\n",
            "(78067, 1345)\n",
            "(19517,)\n",
            "(19517, 1345)\n"
          ]
        }
      ]
    },
    {
      "cell_type": "code",
      "metadata": {
        "id": "jzRtR4kubQEC"
      },
      "source": [
        "learning_rate = 0.1\n",
        "opt = 'ADAM'\n",
        "size_batch = 256\n",
        "nb_epochs = 50"
      ],
      "execution_count": 8,
      "outputs": []
    },
    {
      "cell_type": "code",
      "metadata": {
        "id": "IrQ-fNyEbVY-"
      },
      "source": [
        "#First try: small and simple model \n",
        "#1st thing to change in this model: mean_sequared_error is not adapted for classification purposes\n",
        "model = Sequential()\t\n",
        "\t\n",
        "model.add(\t\n",
        "\tDense(64, input_dim = len(data.columns), activation = 'relu'))\n",
        "\n",
        "model.add(\t\n",
        "\tDense(32, activation = 'relu'))\n",
        "\n",
        "model.add(\t\n",
        "\tDense(16, activation = 'relu'))\n",
        "\t\n",
        "model.add(\t\n",
        "\tDense(len(labels.unique()), activation = 'softmax'))\n",
        "\t\n",
        "model.compile(optimizer = opt,\t\n",
        "\t\t\t\t\t\tloss = 'mean_squared_error',\t\n",
        "\t\t\t\t\t\tmetrics = [\"accuracy\"])\t"
      ],
      "execution_count": 9,
      "outputs": []
    },
    {
      "cell_type": "code",
      "metadata": {
        "colab": {
          "base_uri": "https://localhost:8080/"
        },
        "id": "nif7fYW357Al",
        "outputId": "bff1d480-5ab1-4094-8d44-a591df410c66"
      },
      "source": [
        "model.summary()"
      ],
      "execution_count": 10,
      "outputs": [
        {
          "output_type": "stream",
          "name": "stdout",
          "text": [
            "Model: \"sequential\"\n",
            "_________________________________________________________________\n",
            " Layer (type)                Output Shape              Param #   \n",
            "=================================================================\n",
            " dense (Dense)               (None, 64)                86144     \n",
            "                                                                 \n",
            " dense_1 (Dense)             (None, 32)                2080      \n",
            "                                                                 \n",
            " dense_2 (Dense)             (None, 16)                528       \n",
            "                                                                 \n",
            " dense_3 (Dense)             (None, 18)                306       \n",
            "                                                                 \n",
            "=================================================================\n",
            "Total params: 89,058\n",
            "Trainable params: 89,058\n",
            "Non-trainable params: 0\n",
            "_________________________________________________________________\n"
          ]
        }
      ]
    },
    {
      "cell_type": "code",
      "metadata": {
        "id": "HPFuHk8zbaeV"
      },
      "source": [
        "es = EarlyStopping(\n",
        "  monitor = 'val_accuracy', mode = 'max', \n",
        "\tverbose = 1, patience = 30)"
      ],
      "execution_count": 11,
      "outputs": []
    },
    {
      "cell_type": "code",
      "metadata": {
        "id": "FrXpLUs-GgMx"
      },
      "source": [
        "class_weights = class_weight.compute_class_weight(class_weight=\"balanced\", classes=np.unique(y_train), y=y_train)\n",
        "class_weights_d = {l:c for l,c in zip(np.unique(y_train), class_weights)}"
      ],
      "execution_count": 12,
      "outputs": []
    },
    {
      "cell_type": "code",
      "metadata": {
        "colab": {
          "base_uri": "https://localhost:8080/"
        },
        "id": "Qm2ZLHFMpJYq",
        "outputId": "37d8f75f-c15f-4306-d70e-6584d648fd21"
      },
      "source": [
        "print(class_weights_d)"
      ],
      "execution_count": 13,
      "outputs": [
        {
          "output_type": "stream",
          "name": "stdout",
          "text": [
            "{0: 1.6610706838588876, 1: 0.40367233391246793, 2: 0.4585594793355419, 3: 1.467204179822583, 4: 1.585760715011172, 5: 0.7312519904831488, 6: 3.0139371477106014, 7: 2.150250647275932, 8: 1.5472906013398342, 9: 2.040967320261438, 10: 1.1041383797239195, 11: 0.30139371477106014, 12: 1.1937945377251735, 13: 1.09771084676172, 14: 1.255661712668082, 15: 2.73804012345679, 16: 1.4832611339109287, 17: 3.1337106615285806}\n"
          ]
        }
      ]
    },
    {
      "cell_type": "code",
      "metadata": {
        "colab": {
          "base_uri": "https://localhost:8080/"
        },
        "id": "ME_hnEwDEWe4",
        "outputId": "6709e26c-79f6-4bfb-e0ed-77ae3a533dc0"
      },
      "source": [
        "history = model.fit(\n",
        "\tx_train, y_train, \n",
        "\tvalidation_data = (x_test, y_test), \n",
        "\tbatch_size = size_batch, \n",
        "  epochs = nb_epochs, \n",
        "  class_weight = class_weights_d,\n",
        "\tverbose = 1, callbacks = [es])"
      ],
      "execution_count": 14,
      "outputs": [
        {
          "output_type": "stream",
          "name": "stdout",
          "text": [
            "Epoch 1/50\n",
            "305/305 [==============================] - 3s 9ms/step - loss: 98.2253 - accuracy: 0.0279 - val_loss: 79.1757 - val_accuracy: 0.0182\n",
            "Epoch 2/50\n",
            "305/305 [==============================] - 2s 8ms/step - loss: 98.2253 - accuracy: 0.0364 - val_loss: 79.1757 - val_accuracy: 0.0376\n",
            "Epoch 3/50\n",
            "305/305 [==============================] - 2s 8ms/step - loss: 98.2253 - accuracy: 0.0453 - val_loss: 79.1757 - val_accuracy: 0.0371\n",
            "Epoch 4/50\n",
            "305/305 [==============================] - 2s 8ms/step - loss: 98.2253 - accuracy: 0.0497 - val_loss: 79.1757 - val_accuracy: 0.0499\n",
            "Epoch 5/50\n",
            "305/305 [==============================] - 2s 8ms/step - loss: 98.2253 - accuracy: 0.0451 - val_loss: 79.1757 - val_accuracy: 0.0371\n",
            "Epoch 6/50\n",
            "305/305 [==============================] - 2s 8ms/step - loss: 98.2253 - accuracy: 0.0528 - val_loss: 79.1757 - val_accuracy: 0.0264\n",
            "Epoch 7/50\n",
            "305/305 [==============================] - 2s 8ms/step - loss: 98.2253 - accuracy: 0.0587 - val_loss: 79.1757 - val_accuracy: 0.0170\n",
            "Epoch 8/50\n",
            "305/305 [==============================] - 2s 8ms/step - loss: 98.2253 - accuracy: 0.0453 - val_loss: 79.1757 - val_accuracy: 0.0499\n",
            "Epoch 9/50\n",
            "305/305 [==============================] - 2s 8ms/step - loss: 98.2253 - accuracy: 0.0444 - val_loss: 79.1757 - val_accuracy: 0.0263\n",
            "Epoch 10/50\n",
            "305/305 [==============================] - 2s 8ms/step - loss: 98.2253 - accuracy: 0.0465 - val_loss: 79.1757 - val_accuracy: 0.0175\n",
            "Epoch 11/50\n",
            "305/305 [==============================] - 2s 8ms/step - loss: 98.2253 - accuracy: 0.0444 - val_loss: 79.1757 - val_accuracy: 0.0498\n",
            "Epoch 12/50\n",
            "305/305 [==============================] - 2s 8ms/step - loss: 98.2253 - accuracy: 0.0486 - val_loss: 79.1757 - val_accuracy: 0.0500\n",
            "Epoch 13/50\n",
            "305/305 [==============================] - 2s 8ms/step - loss: 98.2253 - accuracy: 0.0486 - val_loss: 79.1757 - val_accuracy: 0.0315\n",
            "Epoch 14/50\n",
            "305/305 [==============================] - 2s 8ms/step - loss: 98.2253 - accuracy: 0.0492 - val_loss: 79.1757 - val_accuracy: 0.0257\n",
            "Epoch 15/50\n",
            "305/305 [==============================] - 2s 8ms/step - loss: 98.2253 - accuracy: 0.0467 - val_loss: 79.1757 - val_accuracy: 0.0315\n",
            "Epoch 16/50\n",
            "305/305 [==============================] - 2s 8ms/step - loss: 98.2254 - accuracy: 0.0525 - val_loss: 79.1757 - val_accuracy: 0.0344\n",
            "Epoch 17/50\n",
            "305/305 [==============================] - 2s 8ms/step - loss: 98.2253 - accuracy: 0.0462 - val_loss: 79.1757 - val_accuracy: 0.0781\n",
            "Epoch 18/50\n",
            "305/305 [==============================] - 2s 8ms/step - loss: 98.2254 - accuracy: 0.0492 - val_loss: 79.1757 - val_accuracy: 0.0257\n",
            "Epoch 19/50\n",
            "305/305 [==============================] - 2s 8ms/step - loss: 98.2253 - accuracy: 0.0570 - val_loss: 79.1757 - val_accuracy: 0.0263\n",
            "Epoch 20/50\n",
            "305/305 [==============================] - 2s 8ms/step - loss: 98.2253 - accuracy: 0.0486 - val_loss: 79.1757 - val_accuracy: 0.1247\n",
            "Epoch 21/50\n",
            "305/305 [==============================] - 2s 8ms/step - loss: 98.2253 - accuracy: 0.0531 - val_loss: 79.1757 - val_accuracy: 0.0500\n",
            "Epoch 22/50\n",
            "305/305 [==============================] - 2s 8ms/step - loss: 98.2253 - accuracy: 0.0459 - val_loss: 79.1757 - val_accuracy: 0.1247\n",
            "Epoch 23/50\n",
            "305/305 [==============================] - 2s 8ms/step - loss: 98.2253 - accuracy: 0.0536 - val_loss: 79.1757 - val_accuracy: 0.0257\n",
            "Epoch 24/50\n",
            "305/305 [==============================] - 2s 8ms/step - loss: 98.2253 - accuracy: 0.0537 - val_loss: 79.1757 - val_accuracy: 0.0169\n",
            "Epoch 25/50\n",
            "305/305 [==============================] - 2s 8ms/step - loss: 98.2253 - accuracy: 0.0509 - val_loss: 79.1757 - val_accuracy: 0.0504\n",
            "Epoch 26/50\n",
            "305/305 [==============================] - 2s 8ms/step - loss: 98.2253 - accuracy: 0.0497 - val_loss: 79.1757 - val_accuracy: 0.0363\n",
            "Epoch 27/50\n",
            "305/305 [==============================] - 2s 8ms/step - loss: 98.2253 - accuracy: 0.0505 - val_loss: 79.1757 - val_accuracy: 0.0499\n",
            "Epoch 28/50\n",
            "305/305 [==============================] - 2s 8ms/step - loss: 98.2253 - accuracy: 0.0488 - val_loss: 79.1757 - val_accuracy: 0.0208\n",
            "Epoch 29/50\n",
            "305/305 [==============================] - 2s 8ms/step - loss: 98.2253 - accuracy: 0.0456 - val_loss: 79.1757 - val_accuracy: 0.0175\n",
            "Epoch 30/50\n",
            "305/305 [==============================] - 2s 8ms/step - loss: 98.2254 - accuracy: 0.0531 - val_loss: 79.1757 - val_accuracy: 0.1354\n",
            "Epoch 31/50\n",
            "305/305 [==============================] - 2s 8ms/step - loss: 98.2253 - accuracy: 0.0502 - val_loss: 79.1757 - val_accuracy: 0.0499\n",
            "Epoch 32/50\n",
            "305/305 [==============================] - 2s 8ms/step - loss: 98.2253 - accuracy: 0.0482 - val_loss: 79.1757 - val_accuracy: 0.0364\n",
            "Epoch 33/50\n",
            "305/305 [==============================] - 2s 8ms/step - loss: 98.2253 - accuracy: 0.0545 - val_loss: 79.1757 - val_accuracy: 0.1798\n",
            "Epoch 34/50\n",
            "305/305 [==============================] - 2s 8ms/step - loss: 98.2253 - accuracy: 0.0556 - val_loss: 79.1757 - val_accuracy: 0.0257\n",
            "Epoch 35/50\n",
            "305/305 [==============================] - 2s 8ms/step - loss: 98.2253 - accuracy: 0.0546 - val_loss: 79.1757 - val_accuracy: 0.1354\n",
            "Epoch 36/50\n",
            "305/305 [==============================] - 2s 8ms/step - loss: 98.2253 - accuracy: 0.0504 - val_loss: 79.1757 - val_accuracy: 0.0263\n",
            "Epoch 37/50\n",
            "305/305 [==============================] - 2s 8ms/step - loss: 98.2253 - accuracy: 0.0479 - val_loss: 79.1757 - val_accuracy: 0.0175\n",
            "Epoch 38/50\n",
            "305/305 [==============================] - 2s 8ms/step - loss: 98.2253 - accuracy: 0.0516 - val_loss: 79.1757 - val_accuracy: 0.0263\n",
            "Epoch 39/50\n",
            "305/305 [==============================] - 2s 8ms/step - loss: 98.2253 - accuracy: 0.0577 - val_loss: 79.1757 - val_accuracy: 0.1354\n",
            "Epoch 40/50\n",
            "305/305 [==============================] - 2s 8ms/step - loss: 98.2253 - accuracy: 0.0527 - val_loss: 79.1757 - val_accuracy: 0.0169\n",
            "Epoch 41/50\n",
            "305/305 [==============================] - 2s 8ms/step - loss: 98.2253 - accuracy: 0.0589 - val_loss: 79.1757 - val_accuracy: 0.0473\n",
            "Epoch 42/50\n",
            "305/305 [==============================] - 2s 8ms/step - loss: 98.2253 - accuracy: 0.0516 - val_loss: 79.1757 - val_accuracy: 0.1247\n",
            "Epoch 43/50\n",
            "305/305 [==============================] - 2s 8ms/step - loss: 98.2253 - accuracy: 0.0479 - val_loss: 79.1757 - val_accuracy: 0.0473\n",
            "Epoch 44/50\n",
            "305/305 [==============================] - 2s 8ms/step - loss: 98.2254 - accuracy: 0.0485 - val_loss: 79.1757 - val_accuracy: 0.0169\n",
            "Epoch 45/50\n",
            "305/305 [==============================] - 2s 8ms/step - loss: 98.2253 - accuracy: 0.0524 - val_loss: 79.1757 - val_accuracy: 0.1354\n",
            "Epoch 46/50\n",
            "305/305 [==============================] - 2s 8ms/step - loss: 98.2253 - accuracy: 0.0511 - val_loss: 79.1757 - val_accuracy: 0.0343\n",
            "Epoch 47/50\n",
            "305/305 [==============================] - 2s 8ms/step - loss: 98.2253 - accuracy: 0.0531 - val_loss: 79.1757 - val_accuracy: 0.0473\n",
            "Epoch 48/50\n",
            "305/305 [==============================] - 2s 8ms/step - loss: 98.2253 - accuracy: 0.0506 - val_loss: 79.1757 - val_accuracy: 0.0168\n",
            "Epoch 49/50\n",
            "305/305 [==============================] - 2s 8ms/step - loss: 98.2253 - accuracy: 0.0551 - val_loss: 79.1757 - val_accuracy: 0.0370\n",
            "Epoch 50/50\n",
            "305/305 [==============================] - 2s 8ms/step - loss: 98.2253 - accuracy: 0.0510 - val_loss: 79.1757 - val_accuracy: 0.0781\n"
          ]
        }
      ]
    },
    {
      "cell_type": "code",
      "metadata": {
        "colab": {
          "base_uri": "https://localhost:8080/",
          "height": 165
        },
        "id": "in1rWv4YyFFG",
        "outputId": "472aed42-bda8-43d7-ea15-25a621515a85"
      },
      "source": [
        "metrics = ['loss', 'accuracy']\n",
        "for n, metric in enumerate(metrics):\n",
        "  name = metric.replace(\"_\",\" \").capitalize()\n",
        "  plt.subplot(2,2,n+1)\n",
        "  plt.plot(history.epoch, history.history[metric],  label='Train')\n",
        "  plt.plot(history.epoch, history.history['val_'+metric], linestyle=\"--\", label='Val')\n",
        "  plt.xlabel('Epoch')\n",
        "  plt.ylabel(name)\n",
        "  if metric == 'loss':\n",
        "    plt.ylim([0, plt.ylim()[1]])\n",
        "  elif metric == 'auc':\n",
        "    plt.ylim([0.8,1])\n",
        "  else:\n",
        "    plt.ylim([0,1])\n",
        "\n",
        "  plt.legend()\n",
        "\n"
      ],
      "execution_count": 15,
      "outputs": [
        {
          "output_type": "display_data",
          "data": {
            "image/png": "[encoded data removed]",
            "text/plain": [
              "<Figure size 432x288 with 2 Axes>"
            ]
          },
          "metadata": {
            "needs_background": "light"
          }
        }
      ]
    }
  ]
}