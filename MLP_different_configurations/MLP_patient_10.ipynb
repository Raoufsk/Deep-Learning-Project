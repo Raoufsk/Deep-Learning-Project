{
  "cells": [
    {
      "cell_type": "code",
      "execution_count": 1,
      "metadata": {
        "id": "6_Fe6vK5ak22"
      },
      "outputs": [],
      "source": [
        "import keras\n",
        "import numpy as np\n",
        "import pandas as pd\n",
        "import tensorflow as tf\n",
        "import matplotlib.pyplot as plt\n",
        "\n",
        "from keras import layers\n",
        "from keras import regularizers\n",
        "from keras.layers import Dropout\n",
        "from keras.utils import np_utils\n",
        "from sklearn import preprocessing\n",
        "from keras.models import Sequential\n",
        "from sklearn.utils import class_weight\n",
        "from sklearn.impute import SimpleImputer\n",
        "from keras.callbacks import EarlyStopping\n",
        "from tensorflow.keras.optimizers import SGD, Adam\n",
        "from keras.layers import Input, Dense, Activation\n",
        "from sklearn.metrics import confusion_matrix as cm\n",
        "from sklearn.model_selection import train_test_split\n",
        "from sklearn.metrics import classification_report as cr"
      ]
    },
    {
      "cell_type": "code",
      "execution_count": 2,
      "metadata": {
        "colab": {
          "base_uri": "https://localhost:8080/"
        },
        "id": "JxnNwSM0avPI",
        "outputId": "ea04b57d-57cf-4f1d-b592-53cf3b4fd7e3"
      },
      "outputs": [
        {
          "output_type": "stream",
          "name": "stdout",
          "text": [
            "Mounted at /content/drive\n"
          ]
        }
      ],
      "source": [
        "from google.colab import drive\n",
        "drive.mount('/content/drive')"
      ]
    },
    {
      "cell_type": "code",
      "execution_count": 3,
      "metadata": {
        "colab": {
          "base_uri": "https://localhost:8080/"
        },
        "id": "M77fN90ga0ds",
        "outputId": "e80178f9-4e23-4380-bb24-f8ffd5a95c0d"
      },
      "outputs": [
        {
          "output_type": "stream",
          "name": "stderr",
          "text": [
            "/usr/local/lib/python3.7/dist-packages/IPython/core/interactiveshell.py:2718: DtypeWarning: Columns (1350,1351,1352) have mixed types.Specify dtype option on import or set low_memory=False.\n",
            "  interactivity=interactivity, compiler=compiler, result=result)\n"
          ]
        }
      ],
      "source": [
        "df = pd.read_csv('/content/drive/MyDrive/preprocessed_file_v1_filtered', \n",
        "                 compression = \"zip\", header = 0, index_col = 0, sep = \"\\t\")"
      ]
    },
    {
      "cell_type": "code",
      "execution_count": 4,
      "metadata": {
        "id": "4HReySaKgcYR"
      },
      "outputs": [],
      "source": [
        "df = df.replace(\"Unknown\", np.nan)\n",
        "df = df.replace(\"Not Applicable\", np.nan)\n",
        "df = df.replace(\"Not Collected\", np.nan)\n",
        "df = df.replace(\"Not collected\", np.nan)\n",
        "df = df.replace(\"Not Released\", np.nan)"
      ]
    },
    {
      "cell_type": "code",
      "execution_count": 5,
      "metadata": {
        "id": "vn_Xxvz-a8u6"
      },
      "outputs": [],
      "source": [
        "data = df.drop(\"CANCER_TYPE\", axis = 1)\n",
        "labels = df[\"CANCER_TYPE\"]"
      ]
    },
    {
      "cell_type": "code",
      "execution_count": 6,
      "metadata": {
        "id": "IJTa59vhhfB0"
      },
      "outputs": [],
      "source": [
        "for x in data[[\"SEX\", \"ETHNICITY\", \"PRIMARY_RACE\", \"DEAD\"]]:\n",
        "    data[x], _ = pd.factorize(data[x])"
      ]
    },
    {
      "cell_type": "code",
      "execution_count": 7,
      "metadata": {
        "id": "Oo1fdPl0l4Ov"
      },
      "outputs": [],
      "source": [
        "imp = SimpleImputer(missing_values = np.nan, strategy = \"constant\", fill_value = -1)\n",
        "data[[\"YEAR_CONTACT\", \"YEAR_DEATH\"]] = imp.fit_transform(data[[\"YEAR_CONTACT\", \"YEAR_DEATH\"]])\n",
        "imp = SimpleImputer(missing_values = '>89', strategy = \"constant\", fill_value = -1)\n",
        "data[[\"YEAR_CONTACT\", \"YEAR_DEATH\"]] = imp.fit_transform(data[[\"YEAR_CONTACT\", \"YEAR_DEATH\"]])\n",
        "imp = SimpleImputer(missing_values = '<18', strategy = \"constant\", fill_value = -1)\n",
        "data[[\"YEAR_CONTACT\", \"YEAR_DEATH\"]] = imp.fit_transform(data[[\"YEAR_CONTACT\", \"YEAR_DEATH\"]])"
      ]
    },
    {
      "cell_type": "code",
      "execution_count": 8,
      "metadata": {
        "id": "at7vU3R8vnom"
      },
      "outputs": [],
      "source": [
        "data = data.astype(int)"
      ]
    },
    {
      "cell_type": "code",
      "source": [
        "data_p = data[[\"SEX\", \"ETHNICITY\", \"PRIMARY_RACE\", \"DEAD\", \"YEAR_CONTACT\", \"YEAR_DEATH\"]]"
      ],
      "metadata": {
        "id": "NgxJAftjqYtY"
      },
      "execution_count": 9,
      "outputs": []
    },
    {
      "cell_type": "code",
      "execution_count": 10,
      "metadata": {
        "colab": {
          "base_uri": "https://localhost:8080/"
        },
        "id": "U5nuft2Ooppi",
        "outputId": "2211a547-ebb1-45f1-a994-ae0560a66682"
      },
      "outputs": [
        {
          "output_type": "stream",
          "name": "stdout",
          "text": [
            "['Glioma' 'Leukemia' 'Thyroid Cancer' 'Hepatobiliary Cancer'\n",
            " 'Mature B-Cell Neoplasms' 'Non-Small Cell Lung Cancer'\n",
            " 'Soft Tissue Sarcoma' 'Pancreatic Cancer' 'Head and Neck Cancer'\n",
            " 'Esophagogastric Cancer' 'Melanoma' 'Breast Cancer' 'Endometrial Cancer'\n",
            " 'Colorectal Cancer' 'Prostate Cancer' 'Renal Cell Carcinoma'\n",
            " 'Bladder Cancer' 'Ovarian Cancer'] 18\n"
          ]
        }
      ],
      "source": [
        "print(labels.unique(), len(labels.unique()))"
      ]
    },
    {
      "cell_type": "code",
      "execution_count": 11,
      "metadata": {
        "id": "q6NZaK5Xejh_"
      },
      "outputs": [],
      "source": [
        "encoder = preprocessing.LabelEncoder()\n",
        "classes = encoder.fit_transform(labels)"
      ]
    },
    {
      "cell_type": "code",
      "execution_count": 12,
      "metadata": {
        "colab": {
          "base_uri": "https://localhost:8080/"
        },
        "id": "Gjs0-So0bFQ8",
        "outputId": "ca96f9db-00d3-4db1-e283-834572fe63d8"
      },
      "outputs": [
        {
          "output_type": "stream",
          "name": "stdout",
          "text": [
            "(78067,)\n",
            "(78067, 6)\n",
            "(19517,)\n",
            "(19517, 6)\n"
          ]
        }
      ],
      "source": [
        "x_train, x_test, y_train, y_test = train_test_split(\n",
        "\t\t\t\t\t\t\t\t\tdata_p, classes, \n",
        "\t\t\t\t\t\t\t\t\ttest_size = 0.2, \n",
        "\t\t\t\t\t\t\t\t\trandom_state = 0) \n",
        "\n",
        "print(y_train.shape)\n",
        "print(x_train.shape)\n",
        "print(y_test.shape)\n",
        "print(x_test.shape)"
      ]
    },
    {
      "cell_type": "code",
      "execution_count": 13,
      "metadata": {
        "id": "jzRtR4kubQEC"
      },
      "outputs": [],
      "source": [
        "learning_rate = 0.1\n",
        "opt = 'ADAM'\n",
        "size_batch = 128\n",
        "nb_epochs = 50"
      ]
    },
    {
      "cell_type": "code",
      "execution_count": 14,
      "metadata": {
        "id": "IrQ-fNyEbVY-"
      },
      "outputs": [],
      "source": [
        "#11th try: removed genomic data and reduced network size\n",
        "\n",
        "model = Sequential()\t\n",
        "\t\n",
        "model.add(\t\n",
        "\tDense(6, input_dim = x_train.shape[1], activation = 'relu'))\n",
        "\n",
        "model.add(\t\n",
        "\tDense(12, activation = 'relu'))\n",
        "\t\n",
        "model.add(\t\n",
        "\tDense(len(labels.unique()), activation = 'softmax'))\n",
        "\t\n",
        "model.compile(optimizer = opt,\t\n",
        "\t\t\t\t\t\tloss = 'sparse_categorical_crossentropy',\t\n",
        "\t\t\t\t\t\tmetrics = [\"accuracy\"])\t"
      ]
    },
    {
      "cell_type": "code",
      "execution_count": 15,
      "metadata": {
        "colab": {
          "base_uri": "https://localhost:8080/"
        },
        "id": "nif7fYW357Al",
        "outputId": "276e72f3-a5b3-441e-9a80-3f7cd3d0d8f9"
      },
      "outputs": [
        {
          "output_type": "stream",
          "name": "stdout",
          "text": [
            "Model: \"sequential\"\n",
            "_________________________________________________________________\n",
            " Layer (type)                Output Shape              Param #   \n",
            "=================================================================\n",
            " dense (Dense)               (None, 6)                 42        \n",
            "                                                                 \n",
            " dense_1 (Dense)             (None, 12)                84        \n",
            "                                                                 \n",
            " dense_2 (Dense)             (None, 18)                234       \n",
            "                                                                 \n",
            "=================================================================\n",
            "Total params: 360\n",
            "Trainable params: 360\n",
            "Non-trainable params: 0\n",
            "_________________________________________________________________\n"
          ]
        }
      ],
      "source": [
        "model.summary()"
      ]
    },
    {
      "cell_type": "code",
      "execution_count": 16,
      "metadata": {
        "id": "HPFuHk8zbaeV"
      },
      "outputs": [],
      "source": [
        "es = EarlyStopping(\n",
        "  monitor = 'val_accuracy', mode = 'max', \n",
        "\tverbose = 1, patience = 30)"
      ]
    },
    {
      "cell_type": "code",
      "execution_count": 17,
      "metadata": {
        "id": "FrXpLUs-GgMx"
      },
      "outputs": [],
      "source": [
        "class_weights = class_weight.compute_class_weight(class_weight=\"balanced\", classes=np.unique(y_train), y=y_train)\n",
        "class_weights_d = {l:c for l,c in zip(np.unique(y_train), class_weights)}"
      ]
    },
    {
      "cell_type": "code",
      "execution_count": 18,
      "metadata": {
        "colab": {
          "base_uri": "https://localhost:8080/"
        },
        "id": "ME_hnEwDEWe4",
        "outputId": "296cac14-5a80-4aea-c669-6c372aa11d97"
      },
      "outputs": [
        {
          "output_type": "stream",
          "name": "stdout",
          "text": [
            "Epoch 1/50\n",
            "610/610 [==============================] - 2s 2ms/step - loss: 33.9050 - accuracy: 0.0644 - val_loss: 3.2181 - val_accuracy: 0.0547\n",
            "Epoch 2/50\n",
            "610/610 [==============================] - 1s 2ms/step - loss: 2.9050 - accuracy: 0.0754 - val_loss: 2.8135 - val_accuracy: 0.0522\n",
            "Epoch 3/50\n",
            "610/610 [==============================] - 1s 2ms/step - loss: 2.7799 - accuracy: 0.0599 - val_loss: 2.7887 - val_accuracy: 0.0642\n",
            "Epoch 4/50\n",
            "610/610 [==============================] - 1s 2ms/step - loss: 2.7669 - accuracy: 0.0616 - val_loss: 2.7983 - val_accuracy: 0.0550\n",
            "Epoch 5/50\n",
            "610/610 [==============================] - 1s 2ms/step - loss: 2.7679 - accuracy: 0.0604 - val_loss: 2.7838 - val_accuracy: 0.0534\n",
            "Epoch 6/50\n",
            "610/610 [==============================] - 1s 2ms/step - loss: 2.7591 - accuracy: 0.0621 - val_loss: 2.8076 - val_accuracy: 0.0666\n",
            "Epoch 7/50\n",
            "610/610 [==============================] - 1s 2ms/step - loss: 2.7538 - accuracy: 0.0627 - val_loss: 2.7848 - val_accuracy: 0.0525\n",
            "Epoch 8/50\n",
            "610/610 [==============================] - 1s 2ms/step - loss: 2.7499 - accuracy: 0.0620 - val_loss: 2.7891 - val_accuracy: 0.0680\n",
            "Epoch 9/50\n",
            "610/610 [==============================] - 1s 2ms/step - loss: 2.7451 - accuracy: 0.0629 - val_loss: 2.7643 - val_accuracy: 0.0543\n",
            "Epoch 10/50\n",
            "610/610 [==============================] - 1s 2ms/step - loss: 2.7415 - accuracy: 0.0645 - val_loss: 2.7815 - val_accuracy: 0.0587\n",
            "Epoch 11/50\n",
            "610/610 [==============================] - 1s 2ms/step - loss: 2.7400 - accuracy: 0.0659 - val_loss: 2.7733 - val_accuracy: 0.0854\n",
            "Epoch 12/50\n",
            "610/610 [==============================] - 1s 2ms/step - loss: 2.7395 - accuracy: 0.0691 - val_loss: 2.7777 - val_accuracy: 0.0657\n",
            "Epoch 13/50\n",
            "610/610 [==============================] - 1s 2ms/step - loss: 2.7395 - accuracy: 0.0676 - val_loss: 2.7734 - val_accuracy: 0.0527\n",
            "Epoch 14/50\n",
            "610/610 [==============================] - 1s 2ms/step - loss: 2.7384 - accuracy: 0.0681 - val_loss: 2.7945 - val_accuracy: 0.0591\n",
            "Epoch 15/50\n",
            "610/610 [==============================] - 1s 2ms/step - loss: 2.7381 - accuracy: 0.0657 - val_loss: 2.7874 - val_accuracy: 0.0846\n",
            "Epoch 16/50\n",
            "610/610 [==============================] - 1s 2ms/step - loss: 2.7374 - accuracy: 0.0664 - val_loss: 2.7665 - val_accuracy: 0.0592\n",
            "Epoch 17/50\n",
            "610/610 [==============================] - 1s 2ms/step - loss: 2.7362 - accuracy: 0.0684 - val_loss: 2.7826 - val_accuracy: 0.0590\n",
            "Epoch 18/50\n",
            "610/610 [==============================] - 1s 2ms/step - loss: 2.7371 - accuracy: 0.0690 - val_loss: 2.7715 - val_accuracy: 0.0528\n",
            "Epoch 19/50\n",
            "610/610 [==============================] - 1s 2ms/step - loss: 2.7377 - accuracy: 0.0656 - val_loss: 2.7983 - val_accuracy: 0.0535\n",
            "Epoch 20/50\n",
            "610/610 [==============================] - 1s 2ms/step - loss: 2.7369 - accuracy: 0.0654 - val_loss: 2.7802 - val_accuracy: 0.0531\n",
            "Epoch 21/50\n",
            "610/610 [==============================] - 1s 2ms/step - loss: 2.7367 - accuracy: 0.0668 - val_loss: 2.7815 - val_accuracy: 0.0524\n",
            "Epoch 22/50\n",
            "610/610 [==============================] - 1s 2ms/step - loss: 2.7354 - accuracy: 0.0644 - val_loss: 2.7879 - val_accuracy: 0.0535\n",
            "Epoch 23/50\n",
            "610/610 [==============================] - 1s 2ms/step - loss: 2.7350 - accuracy: 0.0671 - val_loss: 2.7817 - val_accuracy: 0.0475\n",
            "Epoch 24/50\n",
            "610/610 [==============================] - 1s 2ms/step - loss: 2.7331 - accuracy: 0.0671 - val_loss: 2.7704 - val_accuracy: 0.0762\n",
            "Epoch 25/50\n",
            "610/610 [==============================] - 1s 2ms/step - loss: 2.7302 - accuracy: 0.0728 - val_loss: 2.7709 - val_accuracy: 0.0746\n",
            "Epoch 26/50\n",
            "610/610 [==============================] - 1s 2ms/step - loss: 2.7353 - accuracy: 0.0708 - val_loss: 2.7917 - val_accuracy: 0.0755\n",
            "Epoch 27/50\n",
            "610/610 [==============================] - 1s 2ms/step - loss: 2.7312 - accuracy: 0.0754 - val_loss: 2.7907 - val_accuracy: 0.0812\n",
            "Epoch 28/50\n",
            "610/610 [==============================] - 1s 2ms/step - loss: 2.7242 - accuracy: 0.0793 - val_loss: 2.7569 - val_accuracy: 0.0672\n",
            "Epoch 29/50\n",
            "610/610 [==============================] - 1s 2ms/step - loss: 2.7146 - accuracy: 0.0902 - val_loss: 2.7114 - val_accuracy: 0.1052\n",
            "Epoch 30/50\n",
            "610/610 [==============================] - 1s 2ms/step - loss: 2.6692 - accuracy: 0.1060 - val_loss: 2.6316 - val_accuracy: 0.1581\n",
            "Epoch 31/50\n",
            "610/610 [==============================] - 1s 2ms/step - loss: 2.6300 - accuracy: 0.1199 - val_loss: 2.6166 - val_accuracy: 0.1090\n",
            "Epoch 32/50\n",
            "610/610 [==============================] - 1s 2ms/step - loss: 2.6153 - accuracy: 0.1165 - val_loss: 2.6153 - val_accuracy: 0.1079\n",
            "Epoch 33/50\n",
            "610/610 [==============================] - 1s 2ms/step - loss: 2.6105 - accuracy: 0.1084 - val_loss: 2.6073 - val_accuracy: 0.1143\n",
            "Epoch 34/50\n",
            "610/610 [==============================] - 1s 2ms/step - loss: 2.6059 - accuracy: 0.1091 - val_loss: 2.6082 - val_accuracy: 0.1158\n",
            "Epoch 35/50\n",
            "610/610 [==============================] - 1s 2ms/step - loss: 2.6005 - accuracy: 0.1087 - val_loss: 2.6138 - val_accuracy: 0.1068\n",
            "Epoch 36/50\n",
            "610/610 [==============================] - 1s 2ms/step - loss: 2.6046 - accuracy: 0.1074 - val_loss: 2.6757 - val_accuracy: 0.0955\n",
            "Epoch 37/50\n",
            "610/610 [==============================] - 1s 2ms/step - loss: 2.6743 - accuracy: 0.0936 - val_loss: 2.6959 - val_accuracy: 0.0927\n",
            "Epoch 38/50\n",
            "610/610 [==============================] - 1s 2ms/step - loss: 2.6696 - accuracy: 0.0975 - val_loss: 2.6934 - val_accuracy: 0.0919\n",
            "Epoch 39/50\n",
            "610/610 [==============================] - 1s 2ms/step - loss: 2.6696 - accuracy: 0.0970 - val_loss: 2.6920 - val_accuracy: 0.0955\n",
            "Epoch 40/50\n",
            "610/610 [==============================] - 1s 2ms/step - loss: 2.6684 - accuracy: 0.0954 - val_loss: 2.6902 - val_accuracy: 0.1055\n",
            "Epoch 41/50\n",
            "610/610 [==============================] - 1s 2ms/step - loss: 2.6680 - accuracy: 0.0986 - val_loss: 2.6874 - val_accuracy: 0.1054\n",
            "Epoch 42/50\n",
            "610/610 [==============================] - 1s 2ms/step - loss: 2.6667 - accuracy: 0.0991 - val_loss: 2.7051 - val_accuracy: 0.1031\n",
            "Epoch 43/50\n",
            "610/610 [==============================] - 1s 2ms/step - loss: 2.6646 - accuracy: 0.1009 - val_loss: 2.6772 - val_accuracy: 0.1008\n",
            "Epoch 44/50\n",
            "610/610 [==============================] - 1s 2ms/step - loss: 2.6617 - accuracy: 0.0999 - val_loss: 2.6766 - val_accuracy: 0.1027\n",
            "Epoch 45/50\n",
            "610/610 [==============================] - 1s 2ms/step - loss: 2.6540 - accuracy: 0.1080 - val_loss: 2.6704 - val_accuracy: 0.1088\n",
            "Epoch 46/50\n",
            "610/610 [==============================] - 1s 2ms/step - loss: 2.6497 - accuracy: 0.1072 - val_loss: 2.6875 - val_accuracy: 0.1071\n",
            "Epoch 47/50\n",
            "610/610 [==============================] - 1s 2ms/step - loss: 2.6470 - accuracy: 0.1078 - val_loss: 2.6638 - val_accuracy: 0.1070\n",
            "Epoch 48/50\n",
            "610/610 [==============================] - 1s 2ms/step - loss: 2.6444 - accuracy: 0.1065 - val_loss: 2.6736 - val_accuracy: 0.1100\n",
            "Epoch 49/50\n",
            "610/610 [==============================] - 1s 2ms/step - loss: 2.6412 - accuracy: 0.1076 - val_loss: 2.6765 - val_accuracy: 0.1112\n",
            "Epoch 50/50\n",
            "610/610 [==============================] - 1s 2ms/step - loss: 2.6394 - accuracy: 0.1067 - val_loss: 2.6871 - val_accuracy: 0.1086\n"
          ]
        }
      ],
      "source": [
        "history = model.fit(\n",
        "\tx_train, y_train, \n",
        "\tvalidation_data = (x_test, y_test), \n",
        "\tbatch_size = size_batch, \n",
        "  epochs = nb_epochs, \n",
        "  class_weight = class_weights_d,\n",
        "\tverbose = 1, callbacks = [es])"
      ]
    },
    {
      "cell_type": "code",
      "execution_count": 19,
      "metadata": {
        "colab": {
          "base_uri": "https://localhost:8080/",
          "height": 165
        },
        "id": "in1rWv4YyFFG",
        "outputId": "0497554c-027e-4950-e232-14acf3837cad"
      },
      "outputs": [
        {
          "output_type": "display_data",
          "data": {
            "image/png": "[encoded data removed]",
            "text/plain": [
              "<Figure size 432x288 with 2 Axes>"
            ]
          },
          "metadata": {
            "needs_background": "light"
          }
        }
      ],
      "source": [
        "metrics = ['loss', 'accuracy']\n",
        "for n, metric in enumerate(metrics):\n",
        "  name = metric.replace(\"_\",\" \").capitalize()\n",
        "  plt.subplot(2,2,n+1)\n",
        "  plt.plot(history.epoch, history.history[metric],  label='Train')\n",
        "  plt.plot(history.epoch, history.history['val_'+metric], linestyle=\"--\", label='Val')\n",
        "  plt.xlabel('Epoch')\n",
        "  plt.ylabel(name)\n",
        "  if metric == 'loss':\n",
        "    plt.ylim([0, plt.ylim()[1]])\n",
        "  elif metric == 'auc':\n",
        "    plt.ylim([0.8,1])\n",
        "  else:\n",
        "    plt.ylim([0,1])\n",
        "\n",
        "  plt.legend()\n",
        "\n"
      ]
    }
  ],
  "metadata": {
    "colab": {
      "collapsed_sections": [],
      "name": "MLP_patient_10.ipynb",
      "provenance": []
    },
    "kernelspec": {
      "display_name": "Python 3",
      "name": "python3"
    },
    "language_info": {
      "name": "python"
    }
  },
  "nbformat": 4,
  "nbformat_minor": 0
}